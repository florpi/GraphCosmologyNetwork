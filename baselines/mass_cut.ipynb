{
 "cells": [
  {
   "cell_type": "code",
   "execution_count": 15,
   "metadata": {},
   "outputs": [],
   "source": [
    "import h5py\n",
    "import pickle\n",
    "import numpy as np\n",
    "import matplotlib.pyplot as plt\n",
    "from sklearn.metrics import confusion_matrix\n",
    "from GNN.utils.cm import plot_confusion_matrix\n",
    "from scipy.stats import binned_statistic\n",
    "from GNN.utils.datautils import  get_data\n",
    "from scipy.interpolate import interp1d"
   ]
  },
  {
   "cell_type": "code",
   "execution_count": 3,
   "metadata": {},
   "outputs": [],
   "source": [
    "output_file = 'merged_dataframe.h5'\n",
    "data_path = '/cosma6/data/dp004/dc-cues1/tng_dataframes/'\n",
    " \n",
    "train, test = get_data(data_path + output_file, arg_label = 'dark_or_light')"
   ]
  },
  {
   "cell_type": "code",
   "execution_count": 54,
   "metadata": {},
   "outputs": [],
   "source": [
    "nbins= 15\n",
    "bins = np.logspace(np.log10(np.min(train.M200c)),\n",
    "                   12.5, nbins+1)\n"
   ]
  },
  {
   "cell_type": "code",
   "execution_count": 55,
   "metadata": {},
   "outputs": [],
   "source": [
    "nluminous, edges, _ = binned_statistic(train.M200c, train.labels, \n",
    "                                      statistic = 'mean',\n",
    "                                      bins = bins)"
   ]
  },
  {
   "cell_type": "code",
   "execution_count": 56,
   "metadata": {},
   "outputs": [],
   "source": [
    "center = 2.1e11\n",
    "end = 5e11"
   ]
  },
  {
   "cell_type": "code",
   "execution_count": 59,
   "metadata": {},
   "outputs": [],
   "source": [
    "# Find x for which y = 0.5\n",
    "interpolator = interp1d(nluminous, (edges[1:]+edges[:-1])/2.)\n",
    "\n",
    "center = interpolator(0.5)\n",
    "\n",
    "end = ((edges[1:]+edges[:-1])/2.)[nluminous == 1.][0]"
   ]
  },
  {
   "cell_type": "code",
   "execution_count": 62,
   "metadata": {},
   "outputs": [
    {
     "data": {
      "text/plain": [
       "Text(6e+11,0.5,'231')"
      ]
     },
     "execution_count": 62,
     "metadata": {},
     "output_type": "execute_result"
    },
    {
     "data": {
      "image/png": "[encoded data removed]",
      "text/plain": [
       "<Figure size 432x288 with 1 Axes>"
      ]
     },
     "metadata": {},
     "output_type": "display_data"
    }
   ],
   "source": [
    "plt.semilogx((edges[1:]+edges[:-1])/2.,\n",
    "           nluminous,color='black', marker='o',markersize=3)\n",
    "plt.axvline(x = center)\n",
    "plt.axvline(x = end)\n",
    "\n",
    "plt.text(1.5e11, 0.7, str(len(train.M200c[train.M200c < center])))\n",
    "plt.text(1.5e11, 0.5, str(np.sum(train.labels[train.M200c < center] > 0)), color = 'orange')\n",
    "\n",
    "plt.text(3.e11, 0.7, str(len(train.M200c[(train.M200c >  center) & (train.M200c < end)])))\n",
    "plt.text(3.e11, 0.5, str(np.sum(train.labels[(train.M200c >  center) & (train.M200c < end)] > 0)), color = 'orange')\n",
    "\n",
    "plt.text(6.e11, 0.7, str(len(train.M200c[(train.M200c > end)])))\n",
    "plt.text(6.e11, 0.5, str(np.sum(train.labels[train.M200c > end] > 0)), color = 'orange')\n"
   ]
  },
  {
   "cell_type": "code",
   "execution_count": 42,
   "metadata": {},
   "outputs": [
    {
     "data": {
      "text/plain": [
       "Text(0.5,0,'$M_{200c}$')"
      ]
     },
     "execution_count": 42,
     "metadata": {},
     "output_type": "execute_result"
    },
    {
     "data": {
      "image/png": "[encoded data removed]",
      "text/plain": [
       "<Figure size 432x288 with 1 Axes>"
      ]
     },
     "metadata": {},
     "output_type": "display_data"
    }
   ],
   "source": [
    "\n",
    "\n",
    "\n",
    "mass_func, edges = np.histogram(train.M200c, bins=bins)\n",
    "plt.loglog((edges[1:]+edges[:-1])/2.,\n",
    "           mass_func,color='black', marker='o',markersize=3)\n",
    "\n",
    "plt.ylabel('Number of halos')\n",
    "plt.xlabel(r'$M_{200c}$')"
   ]
  },
  {
   "cell_type": "code",
   "execution_count": 43,
   "metadata": {
    "scrolled": false
   },
   "outputs": [],
   "source": [
    "thresholds = np.linspace(center, 5.*center, 20)\n",
    "\n",
    "true_rate, false_rate = [], []\n",
    "for t in thresholds:\n",
    "    \n",
    "    #print(f'Mass thresohld = {t:.2E}')\n",
    "    prediction = test.M200c > t\n",
    "    \n",
    "    cm = confusion_matrix(test.labels, prediction)\n",
    "    \n",
    "    #cm = cm.astype('float') / cm.sum(axis=1)[:, np.newaxis]\n",
    "    \n",
    "    true_dark = cm[0,0]\n",
    "    true_lum = cm[1,1]\n",
    "    false_dark = cm[0,1]\n",
    "    false_lum = cm[1,0]\n",
    "    \n",
    "    true_rate.append(true_dark/(false_dark + true_dark))\n",
    "    \n",
    "    false_rate.append(false_lum/(false_lum + true_dark))\n",
    "    \n",
    "\n",
    "    \n",
    "    #plt.semilogx((edges[1:]+edges[:-1])/2.,\n",
    "    #       nluminous,color='black', marker='o',markersize=3)\n",
    "    #plt.axvline(x =t)\n",
    "    #plt.show()\n",
    "    #plot_confusion_matrix(labels, prediction, classes = ['Dark', 'Luminous'], normalize = True)\n",
    "    #plt.show()"
   ]
  },
  {
   "cell_type": "code",
   "execution_count": 46,
   "metadata": {},
   "outputs": [],
   "source": [
    "true_dark = 0.94\n",
    "true_lum = 0.93\n",
    "false_dark = 0.06\n",
    "false_lum = 0.07\n",
    "\n",
    "true_rate_fcn = (true_dark/(false_dark + true_dark))\n",
    "\n",
    "false_rate_fcn = (false_lum/(false_lum + true_dark))\n",
    "    \n",
    "\n"
   ]
  },
  {
   "cell_type": "code",
   "execution_count": 48,
   "metadata": {},
   "outputs": [
    {
     "data": {
      "text/plain": [
       "Text(0.5,0,'False positive rate')"
      ]
     },
     "execution_count": 48,
     "metadata": {},
     "output_type": "execute_result"
    },
    {
     "data": {
      "image/png": "[encoded data removed]",
      "text/plain": [
       "<Figure size 432x288 with 1 Axes>"
      ]
     },
     "metadata": {},
     "output_type": "display_data"
    }
   ],
   "source": [
    "plt.plot(false_rate, true_rate, label = 'threshold')\n",
    "plt.scatter(false_rate_fcn, true_rate_fcn, color = 'red', label = 'FCN')\n",
    "plt.legend()\n",
    "plt.ylabel('True positive rate')\n",
    "plt.xlabel('False positive rate')"
   ]
  },
  {
   "cell_type": "code",
   "execution_count": null,
   "metadata": {},
   "outputs": [],
   "source": []
  }
 ],
 "metadata": {
  "kernelspec": {
   "display_name": "Python 3",
   "language": "python",
   "name": "python3"
  },
  "language_info": {
   "codemirror_mode": {
    "name": "ipython",
    "version": 3
   },
   "file_extension": ".py",
   "mimetype": "text/x-python",
   "name": "python",
   "nbconvert_exporter": "python",
   "pygments_lexer": "ipython3",
   "version": "3.6.2"
  }
 },
 "nbformat": 4,
 "nbformat_minor": 2
}
