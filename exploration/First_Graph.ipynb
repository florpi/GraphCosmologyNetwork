{
 "cells": [
  {
   "cell_type": "code",
   "execution_count": 1,
   "metadata": {},
   "outputs": [],
   "source": [
    "import matplotlib.pyplot as plt\n",
    "import numpy as np\n",
    "import h5py\n",
    "from scipy import spatial\n",
    "import scipy.spatial.distance as dist\n",
    "import networkx as nx\n",
    "import pandas as pd\n",
    "from mpl_toolkits.mplot3d import Axes3D\n",
    "from sklearn.model_selection import train_test_split"
   ]
  },
  {
   "cell_type": "code",
   "execution_count": 2,
   "metadata": {},
   "outputs": [],
   "source": [
    "feats = h5py.File('/cosma5/data/dp004/dc-cues1/features/halo_features_s99','r+')    "
   ]
  },
  {
   "cell_type": "code",
   "execution_count": 53,
   "metadata": {},
   "outputs": [],
   "source": [
    "feats.close()"
   ]
  },
  {
   "cell_type": "code",
   "execution_count": 3,
   "metadata": {},
   "outputs": [],
   "source": [
    "graphs_dir = '/cosma5/data/dp004/dc-cues1/graphs'\n",
    "feats_dir = graphs_dir + '/features/'\n",
    "adj_dir = graphs_dir + '/adj/'"
   ]
  },
  {
   "cell_type": "markdown",
   "metadata": {},
   "source": [
    "# Generate edge list"
   ]
  },
  {
   "cell_type": "code",
   "execution_count": 4,
   "metadata": {},
   "outputs": [],
   "source": [
    "positions = feats['Pos'][:]"
   ]
  },
  {
   "cell_type": "code",
   "execution_count": 5,
   "metadata": {},
   "outputs": [],
   "source": [
    "tree = spatial.cKDTree(positions)"
   ]
  },
  {
   "cell_type": "markdown",
   "metadata": {},
   "source": [
    "## By physical distance to neighbors"
   ]
  },
  {
   "cell_type": "code",
   "execution_count": 6,
   "metadata": {},
   "outputs": [],
   "source": [
    "edges = tree.query_pairs(2000) # within 2 Mpc"
   ]
  },
  {
   "cell_type": "code",
   "execution_count": 7,
   "metadata": {},
   "outputs": [],
   "source": [
    "G = nx.from_edgelist(edges)"
   ]
  },
  {
   "cell_type": "code",
   "execution_count": 8,
   "metadata": {},
   "outputs": [
    {
     "name": "stdout",
     "output_type": "stream",
     "text": [
      "There are 47380 disconnected components\n"
     ]
    }
   ],
   "source": [
    "print(f'There are {nx.number_connected_components(G)} disconnected components')"
   ]
  },
  {
   "cell_type": "code",
   "execution_count": 9,
   "metadata": {},
   "outputs": [],
   "source": [
    "ccs = nx.connected_components(G)"
   ]
  },
  {
   "cell_type": "code",
   "execution_count": 10,
   "metadata": {},
   "outputs": [],
   "source": [
    "node_component = {v:k for k,vs in enumerate(ccs) for v in vs}"
   ]
  },
  {
   "cell_type": "code",
   "execution_count": 11,
   "metadata": {},
   "outputs": [],
   "source": [
    "\n",
    "df = pd.DataFrame(positions, columns=['x','y','z'])\n",
    "df['c'] = pd.Series(node_component)\n",
    "df.loc[df['c'].isna(), 'c'] = df.loc[df['c'].isna(), 'c'].isna().cumsum() + df['c'].max()\n"
   ]
  },
  {
   "cell_type": "code",
   "execution_count": 12,
   "metadata": {},
   "outputs": [
    {
     "data": {
      "text/plain": [
       "518.0    354\n",
       "53.0     284\n",
       "171.0    257\n",
       "42.0     219\n",
       "561.0    217\n",
       "Name: c, dtype: int64"
      ]
     },
     "execution_count": 12,
     "metadata": {},
     "output_type": "execute_result"
    }
   ],
   "source": [
    "df['c'].value_counts().nlargest(5)"
   ]
  },
  {
   "cell_type": "code",
   "execution_count": 13,
   "metadata": {},
   "outputs": [
    {
     "data": {
      "text/plain": [
       "67170.0    1\n",
       "87467.0    1\n",
       "55132.0    1\n",
       "92838.0    1\n",
       "87206.0    1\n",
       "Name: c, dtype: int64"
      ]
     },
     "execution_count": 13,
     "metadata": {},
     "output_type": "execute_result"
    }
   ],
   "source": [
    "df['c'].value_counts().nsmallest(5)"
   ]
  },
  {
   "cell_type": "code",
   "execution_count": 14,
   "metadata": {},
   "outputs": [
    {
     "data": {
      "text/plain": [
       "Text(0.5,0,'Number of neighbors')"
      ]
     },
     "execution_count": 14,
     "metadata": {},
     "output_type": "execute_result"
    },
    {
     "data": {
      "image/png": "[encoded data removed]",
      "text/plain": [
       "<Figure size 432x288 with 1 Axes>"
      ]
     },
     "metadata": {},
     "output_type": "display_data"
    }
   ],
   "source": [
    "plt.hist(df['c'].value_counts(), log=True)\n",
    "plt.xlabel('Number of neighbors')"
   ]
  },
  {
   "cell_type": "code",
   "execution_count": 15,
   "metadata": {},
   "outputs": [],
   "source": [
    "# Split graph into its disconnected components\n",
    "\n",
    "graphs = list(nx.connected_component_subgraphs(G))\n"
   ]
  },
  {
   "cell_type": "code",
   "execution_count": 16,
   "metadata": {},
   "outputs": [],
   "source": [
    "n_nodes = []\n",
    "for g in graphs:\n",
    "    n_nodes.append(len(g.nodes()))"
   ]
  },
  {
   "cell_type": "code",
   "execution_count": 17,
   "metadata": {},
   "outputs": [
    {
     "data": {
      "text/plain": [
       "(array([4.708e+04, 2.210e+02, 5.400e+01, 1.100e+01, 7.000e+00, 2.000e+00,\n",
       "        2.000e+00, 1.000e+00, 1.000e+00, 1.000e+00]),\n",
       " array([  2. ,  37.2,  72.4, 107.6, 142.8, 178. , 213.2, 248.4, 283.6,\n",
       "        318.8, 354. ]),\n",
       " <a list of 10 Patch objects>)"
      ]
     },
     "execution_count": 17,
     "metadata": {},
     "output_type": "execute_result"
    },
    {
     "data": {
      "image/png": "[encoded data removed]",
      "text/plain": [
       "<Figure size 432x288 with 1 Axes>"
      ]
     },
     "metadata": {},
     "output_type": "display_data"
    }
   ],
   "source": [
    "plt.hist(n_nodes, log=True)"
   ]
  },
  {
   "cell_type": "code",
   "execution_count": 18,
   "metadata": {},
   "outputs": [],
   "source": [
    "n_nodes = np.asarray(n_nodes)"
   ]
  },
  {
   "cell_type": "code",
   "execution_count": 19,
   "metadata": {},
   "outputs": [
    {
     "name": "stdout",
     "output_type": "stream",
     "text": [
      "There are 0 isolated nodes\n"
     ]
    }
   ],
   "source": [
    "print(f'There are {np.sum(n_nodes < 2)} isolated nodes')"
   ]
  },
  {
   "cell_type": "code",
   "execution_count": 20,
   "metadata": {},
   "outputs": [
    {
     "name": "stdout",
     "output_type": "stream",
     "text": [
      "There are 9236 almost isolated nodes\n"
     ]
    }
   ],
   "source": [
    "print(f'There are {np.sum(n_nodes == 3)} almost isolated nodes')"
   ]
  },
  {
   "cell_type": "code",
   "execution_count": 21,
   "metadata": {},
   "outputs": [
    {
     "name": "stdout",
     "output_type": "stream",
     "text": [
      "There are 35525 almost isolated nodes\n"
     ]
    }
   ],
   "source": [
    "print(f'There are {np.sum(n_nodes < 5)} almost isolated nodes')"
   ]
  },
  {
   "cell_type": "code",
   "execution_count": 32,
   "metadata": {},
   "outputs": [
    {
     "name": "stdout",
     "output_type": "stream",
     "text": [
      "There are 11 large graphs\n"
     ]
    }
   ],
   "source": [
    "print(f'There are {np.sum(n_nodes > 150)} large graphs')"
   ]
  },
  {
   "cell_type": "markdown",
   "metadata": {},
   "source": [
    "## Add per node features + Adjacency matrix"
   ]
  },
  {
   "cell_type": "code",
   "execution_count": 23,
   "metadata": {},
   "outputs": [],
   "source": [
    "subsample_graph = [graphs[0] , graphs[1]]\n"
   ]
  },
  {
   "cell_type": "code",
   "execution_count": 33,
   "metadata": {},
   "outputs": [],
   "source": [
    "MAX_NUMBER_NODES = 150\n",
    "NUMBER_FEATURES = 9\n",
    "\n",
    "N_nodes = np.zeros((len(graphs)))\n",
    "\n",
    "X = np.zeros((len(graphs), MAX_NUMBER_NODES, NUMBER_FEATURES))\n",
    "Y = np.zeros((len(graphs), MAX_NUMBER_NODES))\n",
    "A = np.zeros((len(graphs), MAX_NUMBER_NODES, MAX_NUMBER_NODES))"
   ]
  },
  {
   "cell_type": "code",
   "execution_count": 34,
   "metadata": {
    "scrolled": false
   },
   "outputs": [
    {
     "name": "stdout",
     "output_type": "stream",
     "text": [
      "CPU times: user 2min 27s, sys: 2min 53s, total: 5min 21s\n",
      "Wall time: 5min 22s\n"
     ]
    }
   ],
   "source": [
    "%%time\n",
    "for i, g in enumerate(graphs):\n",
    "    if len(g.nodes()) < MAX_NUMBER_NODES:\n",
    "        # Get node features\n",
    "        X[i, :len(g.nodes()), 0] = feats['M200c'][:][g.nodes()]\n",
    "        X[i, :len(g.nodes()), 1] = feats['R200c'][:][g.nodes()]\n",
    "        X[i, :len(g.nodes()), 2] = feats['N_subhalos'][:][g.nodes()]\n",
    "        X[i, :len(g.nodes()), 3] = feats['VelDisp'][:][g.nodes()]\n",
    "        X[i, :len(g.nodes()), 4] = feats['Vmax'][:][g.nodes()]\n",
    "        X[i, :len(g.nodes()), 5] = feats['Spin'][:][g.nodes()]\n",
    "        X[i, :len(g.nodes()), 6] = feats['Fsub'][:][g.nodes()]\n",
    "        X[i, :len(g.nodes()), 7] = feats['x_offset'][:][g.nodes()]      \n",
    "        \n",
    "        Y[i, :len(g.nodes())] = feats['Ngals'][:][g.nodes()]\n",
    "        A[i, :len(g.nodes()),:len(g.nodes())] = nx.adjacency_matrix(g).todense()\n",
    "        \n",
    "        N_nodes[i] = len(g.nodes())\n",
    "    "
   ]
  },
  {
   "cell_type": "markdown",
   "metadata": {},
   "source": [
    "## Split into train/test/val and check same distribution of target "
   ]
  },
  {
   "cell_type": "code",
   "execution_count": 35,
   "metadata": {},
   "outputs": [],
   "source": [
    "x_train, x_test, y_train, y_test, N_nodes_train, N_nodes_test = train_test_split(X, Y, N_nodes, test_size = 0.33)\n",
    "x_val, x_test, y_val, y_test, N_nodes_val, N_nodes_test = train_test_split(x_test, y_test,\n",
    "                                                                                 N_nodes_test, test_size = 0.5)\n"
   ]
  },
  {
   "cell_type": "code",
   "execution_count": 36,
   "metadata": {},
   "outputs": [
    {
     "name": "stdout",
     "output_type": "stream",
     "text": [
      "N GRAPHS \n",
      "Training : 31744\n",
      "Test : 7818\n",
      "Val : 7818\n",
      "N NODES \n",
      "Training : 142574.0\n",
      "Test : 36184.0\n",
      "Val : 34816.0\n"
     ]
    }
   ],
   "source": [
    "print('N GRAPHS ')\n",
    "print(f'Training : {len(x_train)}')\n",
    "print(f'Test : {len(x_test)}')\n",
    "print(f'Val : {len(x_val)}')\n",
    "print('N NODES ')\n",
    "print(f'Training : {np.sum(N_nodes_train)}')\n",
    "print(f'Test : {np.sum(N_nodes_test)}')\n",
    "print(f'Val : {np.sum(N_nodes_val)}')"
   ]
  },
  {
   "cell_type": "code",
   "execution_count": 37,
   "metadata": {},
   "outputs": [],
   "source": [
    "n_gals_test = []\n",
    "m_test = []\n",
    "for i in range(len(y_test)):\n",
    "    m_test.append(x_test[i,:int(N_nodes_test[i]), 0])\n",
    "    n_gals_test.append(y_test[i, :int(N_nodes_test[i])])\n",
    "    \n",
    "n_gals_test = [item for sublist in n_gals_test for item in sublist]\n",
    "m_test = [item for sublist in m_test for item in sublist]\n"
   ]
  },
  {
   "cell_type": "code",
   "execution_count": 38,
   "metadata": {},
   "outputs": [],
   "source": [
    "n_gals_val = []\n",
    "m_val = []\n",
    "for i in range(len(y_val)):\n",
    "    n_gals_val.append(y_val[i, :int(N_nodes_val[i])])\n",
    "    m_val.append(x_val[i,:int(N_nodes_val[i]), 0])\n",
    "\n",
    "n_gals_val = [item for sublist in n_gals_val for item in sublist]\n",
    "m_val = [item for sublist in m_val for item in sublist]\n"
   ]
  },
  {
   "cell_type": "code",
   "execution_count": 39,
   "metadata": {},
   "outputs": [],
   "source": [
    "n_gals_train = []\n",
    "m_train = []\n",
    "\n",
    "for i in range(len(y_val)):\n",
    "    n_gals_train.append(y_train[i, :int(N_nodes_train[i])])\n",
    "    m_train.append(x_train[i,:int(N_nodes_train[i]), 0])\n",
    "    \n",
    "n_gals_train = [item for sublist in n_gals_train for item in sublist]\n",
    "m_train = [item for sublist in m_train for item in sublist]\n"
   ]
  },
  {
   "cell_type": "code",
   "execution_count": 42,
   "metadata": {},
   "outputs": [
    {
     "data": {
      "image/png": "[encoded data removed]",
      "text/plain": [
       "<Figure size 432x288 with 1 Axes>"
      ]
     },
     "metadata": {},
     "output_type": "display_data"
    }
   ],
   "source": [
    "plt.hist(n_gals_test, log=True, color='blue', alpha = 0.4, label = 'test')\n",
    "plt.hist(n_gals_val, log=True, color='green', alpha = 0.4, label = 'val')\n",
    "plt.hist(n_gals_train, log=True, color='red', alpha = 0.4, label = 'train')\n",
    "plt.legend()\n",
    "plt.xlabel('Number of galaxies per halo')\n",
    "plt.grid()"
   ]
  },
  {
   "cell_type": "code",
   "execution_count": 44,
   "metadata": {},
   "outputs": [],
   "source": [
    "n_gals_test = np.asarray(n_gals_test)\n",
    "n_gals_val = np.asarray(n_gals_val)\n",
    "n_gals_train = np.asarray(n_gals_train)"
   ]
  },
  {
   "cell_type": "code",
   "execution_count": 51,
   "metadata": {},
   "outputs": [
    {
     "data": {
      "image/png": "[encoded data removed]",
      "text/plain": [
       "<Figure size 432x288 with 1 Axes>"
      ]
     },
     "metadata": {},
     "output_type": "display_data"
    }
   ],
   "source": [
    "plt.hist(n_gals_test[n_gals_test < 10], log=True, color='blue', label = 'test', histtype='step')\n",
    "plt.hist(n_gals_val[n_gals_val < 10], log=True, color='green',  label = 'val', histtype='step')\n",
    "plt.hist(n_gals_train[n_gals_train < 10], log=True, color='red',  label = 'train', histtype='step')\n",
    "plt.legend()\n",
    "plt.xlabel('Number of galaxies per halo')\n",
    "plt.grid()"
   ]
  },
  {
   "cell_type": "code",
   "execution_count": 52,
   "metadata": {},
   "outputs": [
    {
     "data": {
      "text/plain": [
       "<matplotlib.legend.Legend at 0x2b8daf63c518>"
      ]
     },
     "execution_count": 52,
     "metadata": {},
     "output_type": "execute_result"
    },
    {
     "data": {
      "image/png": "[encoded data removed]",
      "text/plain": [
       "<Figure size 432x288 with 1 Axes>"
      ]
     },
     "metadata": {},
     "output_type": "display_data"
    }
   ],
   "source": [
    "\n",
    "nbins= 15\n",
    "bins = np.logspace(11, 15, nbins+1)\n",
    "\n",
    "mass_func, edges = np.histogram(m_train, bins=bins)\n",
    "plt.loglog((edges[1:]+edges[:-1])/2.,\n",
    "           mass_func,color='indianred', marker='o',markersize=3,\n",
    "           label='train')\n",
    "\n",
    "mass_func, edges = np.histogram(m_val, bins=bins)\n",
    "\n",
    "plt.loglog((edges[1:]+edges[:-1])/2.,\n",
    "           mass_func,color='forestgreen', marker='o',markersize=3,\n",
    "           label='val')\n",
    "\n",
    "mass_func, edges = np.histogram(m_test, bins=bins)\n",
    "\n",
    "plt.loglog((edges[1:]+edges[:-1])/2.,\n",
    "           mass_func,color='blue', marker='o',markersize=3,\n",
    "           label='test')\n",
    "plt.ylabel('Number of halos')\n",
    "plt.xlabel('Halo mass')\n",
    "plt.legend()"
   ]
  },
  {
   "cell_type": "code",
   "execution_count": null,
   "metadata": {},
   "outputs": [],
   "source": []
  },
  {
   "cell_type": "code",
   "execution_count": null,
   "metadata": {},
   "outputs": [],
   "source": []
  },
  {
   "cell_type": "code",
   "execution_count": null,
   "metadata": {},
   "outputs": [],
   "source": []
  }
 ],
 "metadata": {
  "kernelspec": {
   "display_name": "Python 2",
   "language": "python",
   "name": "python2"
  },
  "language_info": {
   "codemirror_mode": {
    "name": "ipython",
    "version": 2
   },
   "file_extension": ".py",
   "mimetype": "text/x-python",
   "name": "python",
   "nbconvert_exporter": "python",
   "pygments_lexer": "ipython2",
   "version": "2.7.15"
  }
 },
 "nbformat": 4,
 "nbformat_minor": 2
}
