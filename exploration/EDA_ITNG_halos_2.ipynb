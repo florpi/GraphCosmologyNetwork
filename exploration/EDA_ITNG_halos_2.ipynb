{
 "cells": [
  {
   "cell_type": "code",
   "execution_count": 12,
   "metadata": {},
   "outputs": [],
   "source": [
    "import numpy as np\n",
    "\n",
    "import h5py\n",
    "import pandas as pd\n",
    "import pandas_profiling"
   ]
  },
  {
   "cell_type": "code",
   "execution_count": 14,
   "metadata": {},
   "outputs": [],
   "source": [
    "data_path = '/cosma5/data/dp004/hvrn44/HOD/'"
   ]
  },
  {
   "cell_type": "code",
   "execution_count": 15,
   "metadata": {},
   "outputs": [],
   "source": [
    "halo_mass_cut = 1.e11 #solar masses"
   ]
  },
  {
   "cell_type": "code",
   "execution_count": 19,
   "metadata": {},
   "outputs": [],
   "source": [
    "hf = h5py.File(data_path + 'HaloProfiles_DMO_z0.00_ext.hdf5', 'r')    "
   ]
  },
  {
   "cell_type": "code",
   "execution_count": 28,
   "metadata": {
    "scrolled": false
   },
   "outputs": [
    {
     "name": "stdout",
     "output_type": "stream",
     "text": [
      "BetaDM Shape :  (71, 229265)\n",
      "BetaTot Shape :  (71, 229265)\n",
      "Cnfw Shape :  (229265,)\n",
      "CoP Shape :  (229265, 3)\n",
      "DMDenProfile Shape :  (71, 229265)\n",
      "DMMassProfile Shape :  (71, 229265)\n",
      "DMVelProfile Shape :  (71, 229265)\n",
      "GammaDM Shape :  (71, 229265)\n",
      "GammaTot Shape :  (71, 229265)\n",
      "GasDenProfile Shape :  (71, 229265)\n",
      "GasMassProfile Shape :  (71, 229265)\n",
      "GasVelProfile Shape :  (71, 229265)\n",
      "GroupNumber Shape :  (229265,)\n",
      "HaloMassDM Shape :  (229265,)\n",
      "HaloMassGas Shape :  (229265,)\n",
      "HaloMassStar Shape :  (229265,)\n",
      "HaloMassTot Shape :  (229265,)\n",
      "LessRR200 Shape :  (71,)\n",
      "LessRadius Shape :  (71, 229265)\n",
      "LessTexp Shape :  (99,)\n",
      "M200 Shape :  (229265,)\n",
      "Nsubs Shape :  (229265,)\n",
      "NumPartsBH Shape :  (229265,)\n",
      "NumPartsDM Shape :  (229265,)\n",
      "NumPartsGas Shape :  (229265,)\n",
      "NumPartsStar Shape :  (229265,)\n",
      "PLIndex Shape :  (229265,)\n",
      "R200 Shape :  (229265,)\n",
      "RR200 Shape :  (71,)\n",
      "R_Conv Shape :  (229265,)\n",
      "Radius Shape :  (71, 229265)\n",
      "Rhosnfw Shape :  (229265,)\n",
      "Rmax Shape :  (229265,)\n",
      "Spin Shape :  (229265,)\n",
      "StarDenProfile Shape :  (71, 229265)\n",
      "StarMassProfile Shape :  (71, 229265)\n",
      "StarVelProfile Shape :  (71, 229265)\n",
      "SubCumSFH Shape :  (99, 229265)\n",
      "SubSFR Shape :  (99, 229265)\n",
      "Texp Shape :  (99,)\n",
      "TotDenProfile Shape :  (71, 229265)\n",
      "TotMassProfile Shape :  (71, 229265)\n",
      "TotVelProfile Shape :  (71, 229265)\n",
      "Vmax Shape :  (229265,)\n",
      "doff Shape :  (229265,)\n",
      "fsub Shape :  (229265,)\n"
     ]
    }
   ],
   "source": [
    "for key in hf['Haloes'].keys():\n",
    "    print('%s Shape : ' % key, hf['Haloes'][key].shape)"
   ]
  },
  {
   "cell_type": "code",
   "execution_count": 44,
   "metadata": {},
   "outputs": [
    {
     "name": "stdout",
     "output_type": "stream",
     "text": [
      "Cnfw Shape :  (229265,)\n",
      "GroupNumber Shape :  (229265,)\n",
      "HaloMassDM Shape :  (229265,)\n",
      "HaloMassGas Shape :  (229265,)\n",
      "HaloMassStar Shape :  (229265,)\n",
      "HaloMassTot Shape :  (229265,)\n",
      "M200 Shape :  (229265,)\n",
      "Nsubs Shape :  (229265,)\n",
      "NumPartsBH Shape :  (229265,)\n",
      "NumPartsDM Shape :  (229265,)\n",
      "NumPartsGas Shape :  (229265,)\n",
      "NumPartsStar Shape :  (229265,)\n",
      "PLIndex Shape :  (229265,)\n",
      "R200 Shape :  (229265,)\n",
      "R_Conv Shape :  (229265,)\n",
      "Rhosnfw Shape :  (229265,)\n",
      "Rmax Shape :  (229265,)\n",
      "Spin Shape :  (229265,)\n",
      "Vmax Shape :  (229265,)\n",
      "doff Shape :  (229265,)\n",
      "fsub Shape :  (229265,)\n"
     ]
    }
   ],
   "source": [
    "# Create Dataframe of integer halos values\n",
    "dic = {}\n",
    "for key in hf['Haloes'].keys():\n",
    "    if (len(hf['Haloes'][key].shape) == 1 and hf['Haloes'][key].shape[0] == 229265):\n",
    "        print('%s Shape : ' % key, hf['Haloes'][key].shape)\n",
    "        dic[key] = hf['Haloes'][key][:]\n",
    "\n",
    "df = pd.DataFrame(dic)"
   ]
  },
  {
   "cell_type": "code",
   "execution_count": null,
   "metadata": {},
   "outputs": [],
   "source": [
    "df.profile_report(style={'full_width':True})"
   ]
  },
  {
   "cell_type": "code",
   "execution_count": 36,
   "metadata": {},
   "outputs": [
    {
     "data": {
      "text/plain": [
       "array([1720.32060788, 1626.6586791 , 1435.57308376, ...,  108.02797181,\n",
       "        117.69669744,  108.86682561])"
      ]
     },
     "execution_count": 36,
     "metadata": {},
     "output_type": "execute_result"
    }
   ],
   "source": [
    "# Create Dataframe of array halos values\n",
    "hf['Haloes']['Vmax'][:]"
   ]
  },
  {
   "cell_type": "code",
   "execution_count": null,
   "metadata": {},
   "outputs": [],
   "source": []
  }
 ],
 "metadata": {
  "kernelspec": {
   "display_name": "Python 3",
   "language": "python",
   "name": "python3"
  }
 },
 "nbformat": 4,
 "nbformat_minor": 2
}
