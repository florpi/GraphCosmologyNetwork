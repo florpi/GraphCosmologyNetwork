{
 "cells": [
  {
   "cell_type": "code",
   "execution_count": 1,
   "metadata": {},
   "outputs": [],
   "source": [
    "import pandas as pd\n",
    "import h5py\n",
    "import numpy as np\n",
    "import matplotlib.pyplot as plt\n",
    "import seaborn as sns\n",
    "import pandas_profiling"
   ]
  },
  {
   "cell_type": "code",
   "execution_count": 2,
   "metadata": {},
   "outputs": [],
   "source": [
    "data_path = '/cosma5/data/dp004/hvrn44/HOD/'"
   ]
  },
  {
   "cell_type": "code",
   "execution_count": 3,
   "metadata": {},
   "outputs": [],
   "source": [
    "halo_mass_cut = 1.e11 #solar masses"
   ]
  },
  {
   "cell_type": "code",
   "execution_count": 4,
   "metadata": {},
   "outputs": [],
   "source": [
    "def plot_halo_mass_function(mass, color = 'black', label = 'default'):\n",
    "    nbins= 20\n",
    "    bins = np.logspace(11,\n",
    "                       np.log10(np.max(mass)), nbins+1)\n",
    "\n",
    "    bin_centers = (bins[1:]+bins[:-1])/2.\n",
    "\n",
    "    mass_func, edges = np.histogram(mass, bins=bins)\n",
    "    plt.loglog((edges[1:]+edges[:-1])/2.,\n",
    "               mass_func, marker='o',markersize=3.,\n",
    "              color = color, label = label)\n",
    "\n",
    "    plt.ylabel('Number of halos')\n",
    "    plt.xlabel(r'$M_{200c}$')\n"
   ]
  },
  {
   "cell_type": "markdown",
   "metadata": {},
   "source": [
    "## Halo matching"
   ]
  },
  {
   "cell_type": "code",
   "execution_count": 5,
   "metadata": {},
   "outputs": [],
   "source": [
    "matching_df = pd.read_csv(data_path + 'MatchedHaloes_L205n2500.dat',\n",
    "                         delimiter = ' ', skiprows = 1,\n",
    "        names = ['ID_DMO', 'ID_HYDRO', 'M200_DMO', 'M200_HYDRO'])"
   ]
  },
  {
   "cell_type": "code",
   "execution_count": 6,
   "metadata": {},
   "outputs": [
    {
     "data": {
      "text/html": [
       "<div>\n",
       "<style scoped>\n",
       "    .dataframe tbody tr th:only-of-type {\n",
       "        vertical-align: middle;\n",
       "    }\n",
       "\n",
       "    .dataframe tbody tr th {\n",
       "        vertical-align: top;\n",
       "    }\n",
       "\n",
       "    .dataframe thead th {\n",
       "        text-align: right;\n",
       "    }\n",
       "</style>\n",
       "<table border=\"1\" class=\"dataframe\">\n",
       "  <thead>\n",
       "    <tr style=\"text-align: right;\">\n",
       "      <th></th>\n",
       "      <th>ID_DMO</th>\n",
       "      <th>ID_HYDRO</th>\n",
       "      <th>M200_DMO</th>\n",
       "      <th>M200_HYDRO</th>\n",
       "    </tr>\n",
       "  </thead>\n",
       "  <tbody>\n",
       "    <tr>\n",
       "      <td>0</td>\n",
       "      <td>0</td>\n",
       "      <td>0</td>\n",
       "      <td>1.021000e+15</td>\n",
       "      <td>1.040000e+15</td>\n",
       "    </tr>\n",
       "    <tr>\n",
       "      <td>1</td>\n",
       "      <td>1</td>\n",
       "      <td>1</td>\n",
       "      <td>8.764000e+14</td>\n",
       "      <td>8.856000e+14</td>\n",
       "    </tr>\n",
       "    <tr>\n",
       "      <td>2</td>\n",
       "      <td>2</td>\n",
       "      <td>2</td>\n",
       "      <td>6.446000e+14</td>\n",
       "      <td>7.000000e+14</td>\n",
       "    </tr>\n",
       "    <tr>\n",
       "      <td>3</td>\n",
       "      <td>3</td>\n",
       "      <td>3</td>\n",
       "      <td>5.923000e+14</td>\n",
       "      <td>6.094000e+14</td>\n",
       "    </tr>\n",
       "    <tr>\n",
       "      <td>4</td>\n",
       "      <td>4</td>\n",
       "      <td>4</td>\n",
       "      <td>5.618000e+14</td>\n",
       "      <td>5.702000e+14</td>\n",
       "    </tr>\n",
       "    <tr>\n",
       "      <td>...</td>\n",
       "      <td>...</td>\n",
       "      <td>...</td>\n",
       "      <td>...</td>\n",
       "      <td>...</td>\n",
       "    </tr>\n",
       "    <tr>\n",
       "      <td>507535</td>\n",
       "      <td>233452</td>\n",
       "      <td>17621455</td>\n",
       "      <td>1.074000e+11</td>\n",
       "      <td>1.121000e+09</td>\n",
       "    </tr>\n",
       "    <tr>\n",
       "      <td>507536</td>\n",
       "      <td>64861</td>\n",
       "      <td>17622524</td>\n",
       "      <td>4.568000e+11</td>\n",
       "      <td>4.780000e+08</td>\n",
       "    </tr>\n",
       "    <tr>\n",
       "      <td>507537</td>\n",
       "      <td>106353</td>\n",
       "      <td>17622884</td>\n",
       "      <td>2.592000e+11</td>\n",
       "      <td>7.641000e+08</td>\n",
       "    </tr>\n",
       "    <tr>\n",
       "      <td>507538</td>\n",
       "      <td>39555</td>\n",
       "      <td>17623990</td>\n",
       "      <td>6.809000e+11</td>\n",
       "      <td>6.064000e+08</td>\n",
       "    </tr>\n",
       "    <tr>\n",
       "      <td>507539</td>\n",
       "      <td>35842</td>\n",
       "      <td>17625655</td>\n",
       "      <td>4.981000e+11</td>\n",
       "      <td>9.959000e+08</td>\n",
       "    </tr>\n",
       "  </tbody>\n",
       "</table>\n",
       "<p>507540 rows × 4 columns</p>\n",
       "</div>"
      ],
      "text/plain": [
       "        ID_DMO  ID_HYDRO      M200_DMO    M200_HYDRO\n",
       "0            0         0  1.021000e+15  1.040000e+15\n",
       "1            1         1  8.764000e+14  8.856000e+14\n",
       "2            2         2  6.446000e+14  7.000000e+14\n",
       "3            3         3  5.923000e+14  6.094000e+14\n",
       "4            4         4  5.618000e+14  5.702000e+14\n",
       "...        ...       ...           ...           ...\n",
       "507535  233452  17621455  1.074000e+11  1.121000e+09\n",
       "507536   64861  17622524  4.568000e+11  4.780000e+08\n",
       "507537  106353  17622884  2.592000e+11  7.641000e+08\n",
       "507538   39555  17623990  6.809000e+11  6.064000e+08\n",
       "507539   35842  17625655  4.981000e+11  9.959000e+08\n",
       "\n",
       "[507540 rows x 4 columns]"
      ]
     },
     "execution_count": 6,
     "metadata": {},
     "output_type": "execute_result"
    }
   ],
   "source": [
    "matching_df"
   ]
  },
  {
   "cell_type": "code",
   "execution_count": 7,
   "metadata": {
    "scrolled": true
   },
   "outputs": [
    {
     "data": {
      "image/png": "[encoded data removed]",
      "text/plain": [
       "<Figure size 432x288 with 1 Axes>"
      ]
     },
     "metadata": {},
     "output_type": "display_data"
    }
   ],
   "source": [
    "plot_halo_mass_function(matching_df['M200_DMO'])\n"
   ]
  },
  {
   "cell_type": "code",
   "execution_count": 8,
   "metadata": {},
   "outputs": [
    {
     "data": {
      "image/png": "[encoded data removed]",
      "text/plain": [
       "<Figure size 432x288 with 1 Axes>"
      ]
     },
     "metadata": {},
     "output_type": "display_data"
    }
   ],
   "source": [
    "plot_halo_mass_function(matching_df['M200_HYDRO'])"
   ]
  },
  {
   "cell_type": "code",
   "execution_count": 9,
   "metadata": {},
   "outputs": [
    {
     "name": "stdout",
     "output_type": "stream",
     "text": [
      "There are 228051 unique haloes in the Dark matter only simulation\n"
     ]
    }
   ],
   "source": [
    "print(f'There are {len(np.unique(matching_df.ID_DMO))} unique haloes in the Dark matter only simulation')"
   ]
  },
  {
   "cell_type": "code",
   "execution_count": 10,
   "metadata": {},
   "outputs": [
    {
     "name": "stdout",
     "output_type": "stream",
     "text": [
      "There are 507540 haloes in the hydro simulation\n"
     ]
    }
   ],
   "source": [
    "print(f'There are {len(np.unique(matching_df.ID_HYDRO))} haloes in the hydro simulation')"
   ]
  },
  {
   "cell_type": "markdown",
   "metadata": {},
   "source": [
    "## Halo mass cut on the DMO ones"
   ]
  },
  {
   "cell_type": "code",
   "execution_count": 11,
   "metadata": {},
   "outputs": [],
   "source": [
    "mass_matching_df = matching_df.loc[matching_df['M200_DMO'] > halo_mass_cut]"
   ]
  },
  {
   "cell_type": "code",
   "execution_count": 12,
   "metadata": {},
   "outputs": [
    {
     "name": "stdout",
     "output_type": "stream",
     "text": [
      "There are 227968 unique haloes above 1.0E+11 solar masses in the Dark matter only simulation\n"
     ]
    }
   ],
   "source": [
    "print(f'There are {len(np.unique(mass_matching_df.ID_DMO))} unique haloes above {halo_mass_cut:.1E}'\n",
    "      ' solar masses in the Dark matter only simulation')"
   ]
  },
  {
   "cell_type": "code",
   "execution_count": 13,
   "metadata": {},
   "outputs": [
    {
     "name": "stdout",
     "output_type": "stream",
     "text": [
      "There are 507434 unique haloes above 1.0E+11 solar masses in the Hydro simulation\n"
     ]
    }
   ],
   "source": [
    "print(f'There are {len(np.unique(mass_matching_df.ID_HYDRO))} unique haloes above {halo_mass_cut:.1E}'\n",
    "      ' solar masses in the Hydro simulation')"
   ]
  },
  {
   "cell_type": "code",
   "execution_count": 14,
   "metadata": {},
   "outputs": [],
   "source": [
    "idx, count = np.unique(mass_matching_df.ID_DMO, return_counts=True)"
   ]
  },
  {
   "cell_type": "code",
   "execution_count": 15,
   "metadata": {},
   "outputs": [
    {
     "data": {
      "text/html": [
       "<div>\n",
       "<style scoped>\n",
       "    .dataframe tbody tr th:only-of-type {\n",
       "        vertical-align: middle;\n",
       "    }\n",
       "\n",
       "    .dataframe tbody tr th {\n",
       "        vertical-align: top;\n",
       "    }\n",
       "\n",
       "    .dataframe thead th {\n",
       "        text-align: right;\n",
       "    }\n",
       "</style>\n",
       "<table border=\"1\" class=\"dataframe\">\n",
       "  <thead>\n",
       "    <tr style=\"text-align: right;\">\n",
       "      <th></th>\n",
       "      <th>ID_DMO</th>\n",
       "      <th>ID_HYDRO</th>\n",
       "      <th>M200_DMO</th>\n",
       "      <th>M200_HYDRO</th>\n",
       "    </tr>\n",
       "  </thead>\n",
       "  <tbody>\n",
       "    <tr>\n",
       "      <td>0</td>\n",
       "      <td>0</td>\n",
       "      <td>0</td>\n",
       "      <td>1.021000e+15</td>\n",
       "      <td>1.040000e+15</td>\n",
       "    </tr>\n",
       "    <tr>\n",
       "      <td>30</td>\n",
       "      <td>0</td>\n",
       "      <td>30</td>\n",
       "      <td>1.021000e+15</td>\n",
       "      <td>2.637000e+14</td>\n",
       "    </tr>\n",
       "    <tr>\n",
       "      <td>239</td>\n",
       "      <td>0</td>\n",
       "      <td>239</td>\n",
       "      <td>1.021000e+15</td>\n",
       "      <td>7.667000e+13</td>\n",
       "    </tr>\n",
       "    <tr>\n",
       "      <td>2607</td>\n",
       "      <td>0</td>\n",
       "      <td>2607</td>\n",
       "      <td>1.021000e+15</td>\n",
       "      <td>8.674000e+12</td>\n",
       "    </tr>\n",
       "    <tr>\n",
       "      <td>13023</td>\n",
       "      <td>0</td>\n",
       "      <td>13037</td>\n",
       "      <td>1.021000e+15</td>\n",
       "      <td>2.638000e+12</td>\n",
       "    </tr>\n",
       "    <tr>\n",
       "      <td>...</td>\n",
       "      <td>...</td>\n",
       "      <td>...</td>\n",
       "      <td>...</td>\n",
       "      <td>...</td>\n",
       "    </tr>\n",
       "    <tr>\n",
       "      <td>497590</td>\n",
       "      <td>0</td>\n",
       "      <td>13922870</td>\n",
       "      <td>1.021000e+15</td>\n",
       "      <td>1.005000e+09</td>\n",
       "    </tr>\n",
       "    <tr>\n",
       "      <td>497619</td>\n",
       "      <td>0</td>\n",
       "      <td>13931381</td>\n",
       "      <td>1.021000e+15</td>\n",
       "      <td>1.036000e+09</td>\n",
       "    </tr>\n",
       "    <tr>\n",
       "      <td>499400</td>\n",
       "      <td>0</td>\n",
       "      <td>14419195</td>\n",
       "      <td>1.021000e+15</td>\n",
       "      <td>9.344000e+08</td>\n",
       "    </tr>\n",
       "    <tr>\n",
       "      <td>501507</td>\n",
       "      <td>0</td>\n",
       "      <td>15042347</td>\n",
       "      <td>1.021000e+15</td>\n",
       "      <td>1.086000e+09</td>\n",
       "    </tr>\n",
       "    <tr>\n",
       "      <td>501570</td>\n",
       "      <td>0</td>\n",
       "      <td>15060239</td>\n",
       "      <td>1.021000e+15</td>\n",
       "      <td>8.063000e+08</td>\n",
       "    </tr>\n",
       "  </tbody>\n",
       "</table>\n",
       "<p>1124 rows × 4 columns</p>\n",
       "</div>"
      ],
      "text/plain": [
       "        ID_DMO  ID_HYDRO      M200_DMO    M200_HYDRO\n",
       "0            0         0  1.021000e+15  1.040000e+15\n",
       "30           0        30  1.021000e+15  2.637000e+14\n",
       "239          0       239  1.021000e+15  7.667000e+13\n",
       "2607         0      2607  1.021000e+15  8.674000e+12\n",
       "13023        0     13037  1.021000e+15  2.638000e+12\n",
       "...        ...       ...           ...           ...\n",
       "497590       0  13922870  1.021000e+15  1.005000e+09\n",
       "497619       0  13931381  1.021000e+15  1.036000e+09\n",
       "499400       0  14419195  1.021000e+15  9.344000e+08\n",
       "501507       0  15042347  1.021000e+15  1.086000e+09\n",
       "501570       0  15060239  1.021000e+15  8.063000e+08\n",
       "\n",
       "[1124 rows x 4 columns]"
      ]
     },
     "execution_count": 15,
     "metadata": {},
     "output_type": "execute_result"
    }
   ],
   "source": [
    "mass_matching_df.loc[mass_matching_df.ID_DMO == 0]"
   ]
  },
  {
   "cell_type": "code",
   "execution_count": 16,
   "metadata": {},
   "outputs": [
    {
     "data": {
      "text/plain": [
       "Text(0.5,0,'Number of hydro haloes matched to the same DMO halo')"
      ]
     },
     "execution_count": 16,
     "metadata": {},
     "output_type": "execute_result"
    },
    {
     "data": {
      "image/png": "[encoded data removed]",
      "text/plain": [
       "<Figure size 432x288 with 1 Axes>"
      ]
     },
     "metadata": {},
     "output_type": "display_data"
    }
   ],
   "source": [
    "plt.hist(count, log = True)\n",
    "plt.xlabel('Number of hydro haloes matched to the same DMO halo')"
   ]
  },
  {
   "cell_type": "code",
   "execution_count": 17,
   "metadata": {},
   "outputs": [],
   "source": [
    "# keep only those haloes in the hydro simulation that have been matched to one halo in the dark matter only"
   ]
  },
  {
   "cell_type": "code",
   "execution_count": 18,
   "metadata": {},
   "outputs": [],
   "source": [
    "unique_dmo_idx = idx[count == 1]"
   ]
  },
  {
   "cell_type": "code",
   "execution_count": 19,
   "metadata": {},
   "outputs": [],
   "source": [
    "unique_matching_df = mass_matching_df.loc[mass_matching_df.ID_DMO.isin(unique_dmo_idx)]"
   ]
  },
  {
   "cell_type": "code",
   "execution_count": 22,
   "metadata": {},
   "outputs": [
    {
     "data": {
      "text/plain": [
       "<matplotlib.legend.Legend at 0x2b5e1f4b0400>"
      ]
     },
     "execution_count": 22,
     "metadata": {},
     "output_type": "execute_result"
    },
    {
     "data": {
      "image/png": "[encoded data removed]",
      "text/plain": [
       "<Figure size 432x288 with 1 Axes>"
      ]
     },
     "metadata": {},
     "output_type": "display_data"
    }
   ],
   "source": [
    "plot_halo_mass_function(mass_matching_df['M200_DMO'], color = 'indianred', label = 'DMO')\n",
    "plot_halo_mass_function(mass_matching_df['M200_HYDRO'], color = 'black', label = 'Hydro')\n",
    "plt.legend()"
   ]
  },
  {
   "cell_type": "code",
   "execution_count": 21,
   "metadata": {},
   "outputs": [
    {
     "data": {
      "text/plain": [
       "<matplotlib.legend.Legend at 0x2b5e1f3b7358>"
      ]
     },
     "execution_count": 21,
     "metadata": {},
     "output_type": "execute_result"
    },
    {
     "data": {
      "image/png": "[encoded data removed]",
      "text/plain": [
       "<Figure size 432x288 with 1 Axes>"
      ]
     },
     "metadata": {},
     "output_type": "display_data"
    }
   ],
   "source": [
    "plot_halo_mass_function(unique_matching_df['M200_DMO'], color = 'indianred', label = 'DMO')\n",
    "plot_halo_mass_function(unique_matching_df['M200_HYDRO'], color = 'black', label = 'Hydro')\n",
    "plt.legend()"
   ]
  },
  {
   "cell_type": "code",
   "execution_count": 23,
   "metadata": {},
   "outputs": [
    {
     "data": {
      "text/plain": [
       "<matplotlib.legend.Legend at 0x2b5e1f3de390>"
      ]
     },
     "execution_count": 23,
     "metadata": {},
     "output_type": "execute_result"
    },
    {
     "data": {
      "image/png": "[encoded data removed]",
      "text/plain": [
       "<Figure size 432x288 with 1 Axes>"
      ]
     },
     "metadata": {},
     "output_type": "display_data"
    }
   ],
   "source": [
    "plot_halo_mass_function(mass_matching_df['M200_DMO'], color = 'indianred', label = 'Multipole')\n",
    "plot_halo_mass_function(unique_matching_df['M200_DMO'], color = 'black', label = 'Unique')\n",
    "plt.legend()"
   ]
  },
  {
   "cell_type": "markdown",
   "metadata": {},
   "source": [
    "## Halo properties"
   ]
  },
  {
   "cell_type": "code",
   "execution_count": 24,
   "metadata": {},
   "outputs": [
    {
     "name": "stdout",
     "output_type": "stream",
     "text": [
      "['BetaDM', 'BetaTot', 'Cnfw', 'CoP', 'DMDenProfile', 'DMMassProfile', 'DMVelProfile', 'GammaDM', 'GammaTot', 'GasDenProfile', 'GasMassProfile', 'GasVelProfile', 'GroupNumber', 'HaloMassDM', 'HaloMassGas', 'HaloMassStar', 'HaloMassTot', 'LessRR200', 'LessRadius', 'LessTexp', 'M200', 'Nsubs', 'NumPartsBH', 'NumPartsDM', 'NumPartsGas', 'NumPartsStar', 'PLIndex', 'R200', 'RR200', 'R_Conv', 'Radius', 'Rhosnfw', 'Rmax', 'Spin', 'StarDenProfile', 'StarMassProfile', 'StarVelProfile', 'SubCumSFH', 'SubSFR', 'Texp', 'TotDenProfile', 'TotMassProfile', 'TotVelProfile', 'Vmax', 'doff', 'fsub']\n"
     ]
    }
   ],
   "source": [
    "with h5py.File(data_path + 'HaloProfiles_DMO_z0.00_ext.hdf5', 'r') as hf:\n",
    "        \n",
    "    print(list(hf['Haloes'].keys()))\n",
    "    \n",
    "\n",
    "    \n",
    "    mass = hf['Haloes']['M200'][:]\n",
    "    vmax = hf['Haloes']['Vmax'][:]\n",
    "    rmax = hf['Haloes']['Rmax'][:]\n",
    "    r200c = hf['Haloes']['R200'][:]\n",
    "    cnfw = hf['Haloes']['Cnfw'][:]\n",
    "    rhosnfw = hf['Haloes']['Rhosnfw'][:]\n",
    "\n",
    "    massprofile = hf['Haloes']['DMMassProfile'][:]\n",
    "\n",
    "    parametrized_cnfw = vmax/(rmax * 70)\n",
    "\n",
    "    properties_ids = hf['Haloes']['GroupNumber'][:]"
   ]
  },
  {
   "cell_type": "code",
   "execution_count": 25,
   "metadata": {},
   "outputs": [],
   "source": [
    "properties = np.vstack([properties_ids,mass, vmax, rmax,\n",
    "                                     r200c, cnfw, rhosnfw]).T"
   ]
  },
  {
   "cell_type": "code",
   "execution_count": 26,
   "metadata": {},
   "outputs": [],
   "source": [
    "properties_df = pd.DataFrame(data = properties,\n",
    "                             columns = ['ID_DMO', 'M200c', 'Vmax', 'Rmax', \n",
    "                                        'R200c', 'Cnfw', 'Rhosnfw'])"
   ]
  },
  {
   "cell_type": "code",
   "execution_count": 27,
   "metadata": {},
   "outputs": [
    {
     "data": {
      "text/html": [
       "<div>\n",
       "<style scoped>\n",
       "    .dataframe tbody tr th:only-of-type {\n",
       "        vertical-align: middle;\n",
       "    }\n",
       "\n",
       "    .dataframe tbody tr th {\n",
       "        vertical-align: top;\n",
       "    }\n",
       "\n",
       "    .dataframe thead th {\n",
       "        text-align: right;\n",
       "    }\n",
       "</style>\n",
       "<table border=\"1\" class=\"dataframe\">\n",
       "  <thead>\n",
       "    <tr style=\"text-align: right;\">\n",
       "      <th></th>\n",
       "      <th>ID_DMO</th>\n",
       "      <th>M200c</th>\n",
       "      <th>Vmax</th>\n",
       "      <th>Rmax</th>\n",
       "      <th>R200c</th>\n",
       "      <th>Cnfw</th>\n",
       "      <th>Rhosnfw</th>\n",
       "    </tr>\n",
       "  </thead>\n",
       "  <tbody>\n",
       "    <tr>\n",
       "      <td>0</td>\n",
       "      <td>0.0</td>\n",
       "      <td>1.021094e+15</td>\n",
       "      <td>1720.320608</td>\n",
       "      <td>1.017927</td>\n",
       "      <td>1637.737427</td>\n",
       "      <td>5.698943e+00</td>\n",
       "      <td>3.148591e+06</td>\n",
       "    </tr>\n",
       "    <tr>\n",
       "      <td>1</td>\n",
       "      <td>1.0</td>\n",
       "      <td>8.763998e+14</td>\n",
       "      <td>1626.658679</td>\n",
       "      <td>1.095801</td>\n",
       "      <td>1556.385864</td>\n",
       "      <td>4.528827e+00</td>\n",
       "      <td>1.890909e+06</td>\n",
       "    </tr>\n",
       "    <tr>\n",
       "      <td>2</td>\n",
       "      <td>2.0</td>\n",
       "      <td>6.445536e+14</td>\n",
       "      <td>1435.573084</td>\n",
       "      <td>0.915569</td>\n",
       "      <td>1404.871216</td>\n",
       "      <td>5.604312e+00</td>\n",
       "      <td>2.870591e+06</td>\n",
       "    </tr>\n",
       "    <tr>\n",
       "      <td>3</td>\n",
       "      <td>3.0</td>\n",
       "      <td>5.922584e+14</td>\n",
       "      <td>1418.062988</td>\n",
       "      <td>0.788401</td>\n",
       "      <td>1365.790283</td>\n",
       "      <td>4.750148e+00</td>\n",
       "      <td>2.012141e+06</td>\n",
       "    </tr>\n",
       "    <tr>\n",
       "      <td>4</td>\n",
       "      <td>4.0</td>\n",
       "      <td>5.617762e+14</td>\n",
       "      <td>1398.909960</td>\n",
       "      <td>0.767208</td>\n",
       "      <td>1341.978027</td>\n",
       "      <td>5.069929e+00</td>\n",
       "      <td>2.391334e+06</td>\n",
       "    </tr>\n",
       "    <tr>\n",
       "      <td>...</td>\n",
       "      <td>...</td>\n",
       "      <td>...</td>\n",
       "      <td>...</td>\n",
       "      <td>...</td>\n",
       "      <td>...</td>\n",
       "      <td>...</td>\n",
       "      <td>...</td>\n",
       "    </tr>\n",
       "    <tr>\n",
       "      <td>229260</td>\n",
       "      <td>278079.0</td>\n",
       "      <td>1.007831e+11</td>\n",
       "      <td>103.223734</td>\n",
       "      <td>0.014772</td>\n",
       "      <td>75.686066</td>\n",
       "      <td>5.608999e+01</td>\n",
       "      <td>1.312776e+09</td>\n",
       "    </tr>\n",
       "    <tr>\n",
       "      <td>229261</td>\n",
       "      <td>278541.0</td>\n",
       "      <td>1.001213e+11</td>\n",
       "      <td>109.084942</td>\n",
       "      <td>0.011484</td>\n",
       "      <td>75.523170</td>\n",
       "      <td>7.382515e+01</td>\n",
       "      <td>2.832885e+09</td>\n",
       "    </tr>\n",
       "    <tr>\n",
       "      <td>229262</td>\n",
       "      <td>279423.0</td>\n",
       "      <td>1.003104e+11</td>\n",
       "      <td>108.027972</td>\n",
       "      <td>0.012738</td>\n",
       "      <td>75.567726</td>\n",
       "      <td>5.663748e+01</td>\n",
       "      <td>1.331717e+09</td>\n",
       "    </tr>\n",
       "    <tr>\n",
       "      <td>229263</td>\n",
       "      <td>279745.0</td>\n",
       "      <td>1.006413e+11</td>\n",
       "      <td>117.696697</td>\n",
       "      <td>0.012200</td>\n",
       "      <td>75.648079</td>\n",
       "      <td>3.588773e+07</td>\n",
       "      <td>2.795470e+26</td>\n",
       "    </tr>\n",
       "    <tr>\n",
       "      <td>229264</td>\n",
       "      <td>280987.0</td>\n",
       "      <td>1.000741e+11</td>\n",
       "      <td>108.866826</td>\n",
       "      <td>0.014430</td>\n",
       "      <td>75.510895</td>\n",
       "      <td>1.792922e+07</td>\n",
       "      <td>3.687706e+25</td>\n",
       "    </tr>\n",
       "  </tbody>\n",
       "</table>\n",
       "<p>229265 rows × 7 columns</p>\n",
       "</div>"
      ],
      "text/plain": [
       "          ID_DMO         M200c         Vmax      Rmax        R200c  \\\n",
       "0            0.0  1.021094e+15  1720.320608  1.017927  1637.737427   \n",
       "1            1.0  8.763998e+14  1626.658679  1.095801  1556.385864   \n",
       "2            2.0  6.445536e+14  1435.573084  0.915569  1404.871216   \n",
       "3            3.0  5.922584e+14  1418.062988  0.788401  1365.790283   \n",
       "4            4.0  5.617762e+14  1398.909960  0.767208  1341.978027   \n",
       "...          ...           ...          ...       ...          ...   \n",
       "229260  278079.0  1.007831e+11   103.223734  0.014772    75.686066   \n",
       "229261  278541.0  1.001213e+11   109.084942  0.011484    75.523170   \n",
       "229262  279423.0  1.003104e+11   108.027972  0.012738    75.567726   \n",
       "229263  279745.0  1.006413e+11   117.696697  0.012200    75.648079   \n",
       "229264  280987.0  1.000741e+11   108.866826  0.014430    75.510895   \n",
       "\n",
       "                Cnfw       Rhosnfw  \n",
       "0       5.698943e+00  3.148591e+06  \n",
       "1       4.528827e+00  1.890909e+06  \n",
       "2       5.604312e+00  2.870591e+06  \n",
       "3       4.750148e+00  2.012141e+06  \n",
       "4       5.069929e+00  2.391334e+06  \n",
       "...              ...           ...  \n",
       "229260  5.608999e+01  1.312776e+09  \n",
       "229261  7.382515e+01  2.832885e+09  \n",
       "229262  5.663748e+01  1.331717e+09  \n",
       "229263  3.588773e+07  2.795470e+26  \n",
       "229264  1.792922e+07  3.687706e+25  \n",
       "\n",
       "[229265 rows x 7 columns]"
      ]
     },
     "execution_count": 27,
     "metadata": {},
     "output_type": "execute_result"
    }
   ],
   "source": [
    "properties_df"
   ]
  },
  {
   "cell_type": "markdown",
   "metadata": {},
   "source": [
    "## Merger Tree"
   ]
  },
  {
   "cell_type": "code",
   "execution_count": 28,
   "metadata": {},
   "outputs": [
    {
     "name": "stdout",
     "output_type": "stream",
     "text": [
      "['Haloes']\n",
      "['Index', 'MainProgMass', 'Mhist', 'Mpeak', 'NMerg', 'Redshifts', 'Vpeak', 'z0p25', 'z0p50', 'z0p75']\n"
     ]
    }
   ],
   "source": [
    " \n",
    "with h5py.File(data_path + 'MergerTree_L205n2500TNG_DM_ext_New.hdf5',\n",
    "               'r') as hf:\n",
    "    print(list(hf.keys()))\n",
    "    print(list(hf['Haloes'].keys()))\n",
    "    \n",
    "    formation_time = hf['Haloes']['z0p50'][:]\n",
    "    n_mergers = hf['Haloes']['NMerg'][:]\n",
    "    mass_peak = hf['Haloes']['Mpeak'][:]\n",
    "    main_prog_mass = hf['Haloes']['MainProgMass'][:]\n",
    "    vpeak = hf['Haloes']['Vpeak'][:]\n",
    "    \n",
    "    mergertree_ids = hf['Haloes']['Index'][:]\n"
   ]
  },
  {
   "cell_type": "code",
   "execution_count": 30,
   "metadata": {},
   "outputs": [],
   "source": [
    "mergertree_data = np.vstack([mergertree_ids, formation_time, n_mergers,\n",
    "                            mass_peak, vpeak]).T"
   ]
  },
  {
   "cell_type": "code",
   "execution_count": 31,
   "metadata": {},
   "outputs": [],
   "source": [
    "mergertree_df = pd.DataFrame(data = mergertree_data, \n",
    "                columns = ['ID_DMO', 'Formation Time', 'Nmergers','MassPeak', 'vpeak'])"
   ]
  },
  {
   "cell_type": "code",
   "execution_count": 32,
   "metadata": {},
   "outputs": [],
   "source": [
    "common_ids = pd.merge(mass_matching_df, mergertree_df, on = ['ID_DMO'], how = 'inner')"
   ]
  },
  {
   "cell_type": "code",
   "execution_count": 33,
   "metadata": {},
   "outputs": [
    {
     "data": {
      "text/plain": [
       "227968"
      ]
     },
     "execution_count": 33,
     "metadata": {},
     "output_type": "execute_result"
    }
   ],
   "source": [
    "len(np.unique(common_ids['ID_DMO']))"
   ]
  },
  {
   "cell_type": "code",
   "execution_count": 34,
   "metadata": {},
   "outputs": [],
   "source": [
    "merged_df = pd.merge(unique_matching_df, properties_df, on = ['ID_DMO'], how = 'inner')"
   ]
  },
  {
   "cell_type": "code",
   "execution_count": 35,
   "metadata": {},
   "outputs": [],
   "source": [
    "merged_df = pd.merge(merged_df, mergertree_df, on = ['ID_DMO'], how = 'inner')"
   ]
  },
  {
   "cell_type": "code",
   "execution_count": 36,
   "metadata": {},
   "outputs": [],
   "source": [
    "merged_df.to_hdf('merged_dataframe.h5', key = 'df', mode = 'w')"
   ]
  },
  {
   "cell_type": "code",
   "execution_count": 37,
   "metadata": {},
   "outputs": [
    {
     "data": {
      "text/plain": [
       "0.0"
      ]
     },
     "execution_count": 37,
     "metadata": {},
     "output_type": "execute_result"
    }
   ],
   "source": [
    "np.min(merged_df.vpeak)"
   ]
  },
  {
   "cell_type": "code",
   "execution_count": 38,
   "metadata": {},
   "outputs": [
    {
     "data": {
      "text/plain": [
       "(array([3.8849e+04, 6.7142e+04, 2.2283e+04, 7.9610e+03, 2.5700e+03,\n",
       "        6.7700e+02, 1.6200e+02, 2.9000e+01, 1.0000e+01, 2.0000e+00]),\n",
       " array([ 70.60100313,  99.07810803, 127.55521292, 156.03231782,\n",
       "        184.50942272, 212.98652762, 241.46363251, 269.94073741,\n",
       "        298.41784231, 326.89494721, 355.3720521 ]),\n",
       " <a list of 10 Patch objects>)"
      ]
     },
     "execution_count": 38,
     "metadata": {},
     "output_type": "execute_result"
    },
    {
     "data": {
      "image/png": "[encoded data removed]",
      "text/plain": [
       "<Figure size 432x288 with 1 Axes>"
      ]
     },
     "metadata": {},
     "output_type": "display_data"
    }
   ],
   "source": [
    "plt.hist(merged_df.vpeak, log=True)\n",
    "plt.hist(merged_df.Vmax, log=True, alpha = 0.4)"
   ]
  },
  {
   "cell_type": "code",
   "execution_count": 40,
   "metadata": {},
   "outputs": [
    {
     "data": {
      "text/html": [
       "<div>\n",
       "<style scoped>\n",
       "    .dataframe tbody tr th:only-of-type {\n",
       "        vertical-align: middle;\n",
       "    }\n",
       "\n",
       "    .dataframe tbody tr th {\n",
       "        vertical-align: top;\n",
       "    }\n",
       "\n",
       "    .dataframe thead th {\n",
       "        text-align: right;\n",
       "    }\n",
       "</style>\n",
       "<table border=\"1\" class=\"dataframe\">\n",
       "  <thead>\n",
       "    <tr style=\"text-align: right;\">\n",
       "      <th></th>\n",
       "      <th>ID_DMO</th>\n",
       "      <th>ID_HYDRO</th>\n",
       "      <th>M200_DMO</th>\n",
       "      <th>M200_HYDRO</th>\n",
       "      <th>M200c</th>\n",
       "      <th>Vmax</th>\n",
       "      <th>Rmax</th>\n",
       "      <th>R200c</th>\n",
       "      <th>Cnfw</th>\n",
       "      <th>Rhosnfw</th>\n",
       "      <th>Formation Time</th>\n",
       "      <th>Nmergers</th>\n",
       "      <th>MassPeak</th>\n",
       "      <th>vpeak</th>\n",
       "    </tr>\n",
       "  </thead>\n",
       "  <tbody>\n",
       "    <tr>\n",
       "      <td>0</td>\n",
       "      <td>5176</td>\n",
       "      <td>4911</td>\n",
       "      <td>7.404000e+12</td>\n",
       "      <td>6.413000e+12</td>\n",
       "      <td>7.403636e+12</td>\n",
       "      <td>341.285688</td>\n",
       "      <td>0.193742</td>\n",
       "      <td>316.973663</td>\n",
       "      <td>5.780107</td>\n",
       "      <td>3.311509e+06</td>\n",
       "      <td>0.888712</td>\n",
       "      <td>1.0</td>\n",
       "      <td>1.054004e+13</td>\n",
       "      <td>350.585571</td>\n",
       "    </tr>\n",
       "    <tr>\n",
       "      <td>1</td>\n",
       "      <td>5334</td>\n",
       "      <td>4981</td>\n",
       "      <td>5.937000e+12</td>\n",
       "      <td>4.846000e+12</td>\n",
       "      <td>5.937365e+12</td>\n",
       "      <td>294.382288</td>\n",
       "      <td>0.298076</td>\n",
       "      <td>294.488647</td>\n",
       "      <td>4.394269</td>\n",
       "      <td>1.596827e+06</td>\n",
       "      <td>0.415892</td>\n",
       "      <td>3.0</td>\n",
       "      <td>9.169651e+12</td>\n",
       "      <td>321.656036</td>\n",
       "    </tr>\n",
       "    <tr>\n",
       "      <td>2</td>\n",
       "      <td>7238</td>\n",
       "      <td>5392</td>\n",
       "      <td>2.402000e+12</td>\n",
       "      <td>2.440000e+12</td>\n",
       "      <td>2.402108e+12</td>\n",
       "      <td>231.512614</td>\n",
       "      <td>0.352976</td>\n",
       "      <td>217.811813</td>\n",
       "      <td>3.177258</td>\n",
       "      <td>7.646312e+05</td>\n",
       "      <td>0.458952</td>\n",
       "      <td>5.0</td>\n",
       "      <td>2.608179e+12</td>\n",
       "      <td>179.030655</td>\n",
       "    </tr>\n",
       "    <tr>\n",
       "      <td>3</td>\n",
       "      <td>5653</td>\n",
       "      <td>5485</td>\n",
       "      <td>4.640000e+12</td>\n",
       "      <td>3.960000e+12</td>\n",
       "      <td>4.640279e+12</td>\n",
       "      <td>278.607024</td>\n",
       "      <td>0.190633</td>\n",
       "      <td>271.265900</td>\n",
       "      <td>5.482615</td>\n",
       "      <td>2.777998e+06</td>\n",
       "      <td>0.458491</td>\n",
       "      <td>2.0</td>\n",
       "      <td>6.994806e+12</td>\n",
       "      <td>293.718719</td>\n",
       "    </tr>\n",
       "    <tr>\n",
       "      <td>4</td>\n",
       "      <td>5543</td>\n",
       "      <td>6160</td>\n",
       "      <td>6.915000e+12</td>\n",
       "      <td>5.426000e+12</td>\n",
       "      <td>6.914848e+12</td>\n",
       "      <td>355.372052</td>\n",
       "      <td>0.085405</td>\n",
       "      <td>309.844360</td>\n",
       "      <td>8.628157</td>\n",
       "      <td>8.548512e+06</td>\n",
       "      <td>0.955517</td>\n",
       "      <td>3.0</td>\n",
       "      <td>1.071244e+13</td>\n",
       "      <td>387.690948</td>\n",
       "    </tr>\n",
       "    <tr>\n",
       "      <td>...</td>\n",
       "      <td>...</td>\n",
       "      <td>...</td>\n",
       "      <td>...</td>\n",
       "      <td>...</td>\n",
       "      <td>...</td>\n",
       "      <td>...</td>\n",
       "      <td>...</td>\n",
       "      <td>...</td>\n",
       "      <td>...</td>\n",
       "      <td>...</td>\n",
       "      <td>...</td>\n",
       "      <td>...</td>\n",
       "      <td>...</td>\n",
       "      <td>...</td>\n",
       "    </tr>\n",
       "    <tr>\n",
       "      <td>139680</td>\n",
       "      <td>169414</td>\n",
       "      <td>15666405</td>\n",
       "      <td>1.665000e+11</td>\n",
       "      <td>3.983000e+08</td>\n",
       "      <td>1.665380e+11</td>\n",
       "      <td>118.816171</td>\n",
       "      <td>0.015918</td>\n",
       "      <td>89.480110</td>\n",
       "      <td>19.172514</td>\n",
       "      <td>6.569397e+07</td>\n",
       "      <td>2.166447</td>\n",
       "      <td>1.0</td>\n",
       "      <td>2.544429e+11</td>\n",
       "      <td>128.871277</td>\n",
       "    </tr>\n",
       "    <tr>\n",
       "      <td>139681</td>\n",
       "      <td>157986</td>\n",
       "      <td>16588519</td>\n",
       "      <td>1.395000e+11</td>\n",
       "      <td>1.045000e+09</td>\n",
       "      <td>1.395459e+11</td>\n",
       "      <td>108.840086</td>\n",
       "      <td>0.020274</td>\n",
       "      <td>84.356422</td>\n",
       "      <td>14.366032</td>\n",
       "      <td>3.012063e+07</td>\n",
       "      <td>2.508967</td>\n",
       "      <td>1.0</td>\n",
       "      <td>2.879590e+11</td>\n",
       "      <td>122.507401</td>\n",
       "    </tr>\n",
       "    <tr>\n",
       "      <td>139682</td>\n",
       "      <td>99063</td>\n",
       "      <td>16847757</td>\n",
       "      <td>2.851000e+11</td>\n",
       "      <td>1.235000e+09</td>\n",
       "      <td>2.850953e+11</td>\n",
       "      <td>135.821922</td>\n",
       "      <td>0.021882</td>\n",
       "      <td>107.039574</td>\n",
       "      <td>12.763321</td>\n",
       "      <td>2.275998e+07</td>\n",
       "      <td>2.208860</td>\n",
       "      <td>2.0</td>\n",
       "      <td>4.746016e+11</td>\n",
       "      <td>146.854996</td>\n",
       "    </tr>\n",
       "    <tr>\n",
       "      <td>139683</td>\n",
       "      <td>89584</td>\n",
       "      <td>17276508</td>\n",
       "      <td>1.174000e+11</td>\n",
       "      <td>9.225000e+08</td>\n",
       "      <td>1.173755e+11</td>\n",
       "      <td>92.015236</td>\n",
       "      <td>0.013619</td>\n",
       "      <td>79.628708</td>\n",
       "      <td>7.290335</td>\n",
       "      <td>5.485306e+06</td>\n",
       "      <td>1.277335</td>\n",
       "      <td>1.0</td>\n",
       "      <td>2.030516e+11</td>\n",
       "      <td>100.451073</td>\n",
       "    </tr>\n",
       "    <tr>\n",
       "      <td>139684</td>\n",
       "      <td>103555</td>\n",
       "      <td>17321597</td>\n",
       "      <td>2.997000e+11</td>\n",
       "      <td>1.042000e+09</td>\n",
       "      <td>2.997022e+11</td>\n",
       "      <td>151.487513</td>\n",
       "      <td>0.020798</td>\n",
       "      <td>108.839729</td>\n",
       "      <td>20.284984</td>\n",
       "      <td>7.392029e+07</td>\n",
       "      <td>3.097634</td>\n",
       "      <td>1.0</td>\n",
       "      <td>6.252146e+11</td>\n",
       "      <td>184.535172</td>\n",
       "    </tr>\n",
       "  </tbody>\n",
       "</table>\n",
       "<p>139685 rows × 14 columns</p>\n",
       "</div>"
      ],
      "text/plain": [
       "        ID_DMO  ID_HYDRO      M200_DMO    M200_HYDRO         M200c  \\\n",
       "0         5176      4911  7.404000e+12  6.413000e+12  7.403636e+12   \n",
       "1         5334      4981  5.937000e+12  4.846000e+12  5.937365e+12   \n",
       "2         7238      5392  2.402000e+12  2.440000e+12  2.402108e+12   \n",
       "3         5653      5485  4.640000e+12  3.960000e+12  4.640279e+12   \n",
       "4         5543      6160  6.915000e+12  5.426000e+12  6.914848e+12   \n",
       "...        ...       ...           ...           ...           ...   \n",
       "139680  169414  15666405  1.665000e+11  3.983000e+08  1.665380e+11   \n",
       "139681  157986  16588519  1.395000e+11  1.045000e+09  1.395459e+11   \n",
       "139682   99063  16847757  2.851000e+11  1.235000e+09  2.850953e+11   \n",
       "139683   89584  17276508  1.174000e+11  9.225000e+08  1.173755e+11   \n",
       "139684  103555  17321597  2.997000e+11  1.042000e+09  2.997022e+11   \n",
       "\n",
       "              Vmax      Rmax       R200c       Cnfw       Rhosnfw  \\\n",
       "0       341.285688  0.193742  316.973663   5.780107  3.311509e+06   \n",
       "1       294.382288  0.298076  294.488647   4.394269  1.596827e+06   \n",
       "2       231.512614  0.352976  217.811813   3.177258  7.646312e+05   \n",
       "3       278.607024  0.190633  271.265900   5.482615  2.777998e+06   \n",
       "4       355.372052  0.085405  309.844360   8.628157  8.548512e+06   \n",
       "...            ...       ...         ...        ...           ...   \n",
       "139680  118.816171  0.015918   89.480110  19.172514  6.569397e+07   \n",
       "139681  108.840086  0.020274   84.356422  14.366032  3.012063e+07   \n",
       "139682  135.821922  0.021882  107.039574  12.763321  2.275998e+07   \n",
       "139683   92.015236  0.013619   79.628708   7.290335  5.485306e+06   \n",
       "139684  151.487513  0.020798  108.839729  20.284984  7.392029e+07   \n",
       "\n",
       "        Formation Time  Nmergers      MassPeak       vpeak  \n",
       "0             0.888712       1.0  1.054004e+13  350.585571  \n",
       "1             0.415892       3.0  9.169651e+12  321.656036  \n",
       "2             0.458952       5.0  2.608179e+12  179.030655  \n",
       "3             0.458491       2.0  6.994806e+12  293.718719  \n",
       "4             0.955517       3.0  1.071244e+13  387.690948  \n",
       "...                ...       ...           ...         ...  \n",
       "139680        2.166447       1.0  2.544429e+11  128.871277  \n",
       "139681        2.508967       1.0  2.879590e+11  122.507401  \n",
       "139682        2.208860       2.0  4.746016e+11  146.854996  \n",
       "139683        1.277335       1.0  2.030516e+11  100.451073  \n",
       "139684        3.097634       1.0  6.252146e+11  184.535172  \n",
       "\n",
       "[139685 rows x 14 columns]"
      ]
     },
     "execution_count": 40,
     "metadata": {},
     "output_type": "execute_result"
    }
   ],
   "source": [
    "merged_df"
   ]
  },
  {
   "cell_type": "code",
   "execution_count": null,
   "metadata": {},
   "outputs": [],
   "source": []
  }
 ],
 "metadata": {
  "kernelspec": {
   "display_name": "Python 3",
   "language": "python",
   "name": "python3"
  },
  "language_info": {
   "codemirror_mode": {
    "name": "ipython",
    "version": 3
   },
   "file_extension": ".py",
   "mimetype": "text/x-python",
   "name": "python",
   "nbconvert_exporter": "python",
   "pygments_lexer": "ipython3",
   "version": "3.6.2"
  }
 },
 "nbformat": 4,
 "nbformat_minor": 2
}
