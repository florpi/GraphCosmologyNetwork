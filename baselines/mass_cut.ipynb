{
 "cells": [
  {
   "cell_type": "code",
   "execution_count": 1,
   "metadata": {},
   "outputs": [],
   "source": [
    "import h5py\n",
    "import pickle\n",
    "from GNN.inputs import split\n",
    "import numpy as np\n",
    "import matplotlib.pyplot as plt\n",
    "from sklearn.metrics import confusion_matrix\n",
    "from GNN.utils.cm import plot_confusion_matrix\n",
    "from scipy.stats import binned_statistic"
   ]
  },
  {
   "cell_type": "code",
   "execution_count": 2,
   "metadata": {},
   "outputs": [],
   "source": [
    "hdf5_filename = '/cosma5/data/dp004/dc-cues1/features/halo_features_s99'\n",
    "\n",
    "with h5py.File(hdf5_filename,'r+') as feats: \n",
    "    \n",
    "    mass = feats['M200c'][:]\n",
    "    \n",
    "    labels = feats['Ngals'][:]\n",
    "\n",
    "\n",
    "labels = labels > 0 \n"
   ]
  },
  {
   "cell_type": "code",
   "execution_count": 3,
   "metadata": {},
   "outputs": [],
   "source": [
    "nbins= 15\n",
    "bins = np.logspace(np.log10(np.min(mass)),\n",
    "                   12, nbins+1)\n"
   ]
  },
  {
   "cell_type": "code",
   "execution_count": 4,
   "metadata": {},
   "outputs": [],
   "source": [
    "nluminous, edges, _ = binned_statistic(mass, labels, \n",
    "                                      statistic = 'mean',\n",
    "                                      bins = bins)"
   ]
  },
  {
   "cell_type": "code",
   "execution_count": 14,
   "metadata": {},
   "outputs": [],
   "source": [
    "center = 2.1e11\n",
    "end = 5e11"
   ]
  },
  {
   "cell_type": "code",
   "execution_count": 26,
   "metadata": {},
   "outputs": [
    {
     "data": {
      "text/plain": [
       "Text(6e+11,0.5,'74250')"
      ]
     },
     "execution_count": 26,
     "metadata": {},
     "output_type": "execute_result"
    },
    {
     "data": {
      "image/png": "[encoded data removed]",
      "text/plain": [
       "<Figure size 432x288 with 1 Axes>"
      ]
     },
     "metadata": {},
     "output_type": "display_data"
    }
   ],
   "source": [
    "plt.semilogx((edges[1:]+edges[:-1])/2.,\n",
    "           nluminous,color='black', marker='o',markersize=3)\n",
    "plt.axvline(x = center)\n",
    "plt.axvline(x = end)\n",
    "\n",
    "plt.text(1.5e11, 0.7, str(len(mass[mass < center])))\n",
    "plt.text(1.5e11, 0.5, str(np.sum(labels[mass < center] > 0)), color = 'orange')\n",
    "\n",
    "plt.text(3.e11, 0.7, str(len(mass[(mass >  center) & (mass < end)])))\n",
    "plt.text(3.e11, 0.5, str(np.sum(labels[(mass >  center) & (mass < end)] > 0)), color = 'orange')\n",
    "\n",
    "plt.text(6.e11, 0.7, str(len(mass[(mass > end)])))\n",
    "plt.text(6.e11, 0.5, str(np.sum(labels[mass > end] > 0)), color = 'orange')\n"
   ]
  },
  {
   "cell_type": "code",
   "execution_count": 13,
   "metadata": {},
   "outputs": [
    {
     "data": {
      "text/plain": [
       "Text(0.5,0,'$M_{200c}$')"
      ]
     },
     "execution_count": 13,
     "metadata": {},
     "output_type": "execute_result"
    },
    {
     "data": {
      "image/png": "[encoded data removed]",
      "text/plain": [
       "<Figure size 432x288 with 1 Axes>"
      ]
     },
     "metadata": {},
     "output_type": "display_data"
    }
   ],
   "source": [
    "\n",
    "\n",
    "\n",
    "mass_func, edges = np.histogram(mass, bins=bins)\n",
    "plt.loglog((edges[1:]+edges[:-1])/2.,\n",
    "           mass_func,color='black', marker='o',markersize=3)\n",
    "\n",
    "plt.ylabel('Number of halos')\n",
    "plt.xlabel(r'$M_{200c}$')"
   ]
  },
  {
   "cell_type": "code",
   "execution_count": 12,
   "metadata": {},
   "outputs": [
    {
     "data": {
      "text/plain": [
       "125445"
      ]
     },
     "execution_count": 12,
     "metadata": {},
     "output_type": "execute_result"
    }
   ],
   "source": [
    "np.sum(mass < 2.e11)"
   ]
  },
  {
   "cell_type": "code",
   "execution_count": 11,
   "metadata": {},
   "outputs": [
    {
     "data": {
      "text/plain": [
       "12430"
      ]
     },
     "execution_count": 11,
     "metadata": {},
     "output_type": "execute_result"
    }
   ],
   "source": [
    "np.sum(labels[mass < 2.e11] > 0)"
   ]
  },
  {
   "cell_type": "code",
   "execution_count": 15,
   "metadata": {
    "scrolled": false
   },
   "outputs": [],
   "source": [
    "thresholds = np.linspace(1.5e11, 5.e11, 20)\n",
    "\n",
    "true_rate, false_rate = [], []\n",
    "for t in thresholds:\n",
    "    \n",
    "    #print(f'Mass thresohld = {t:.2E}')\n",
    "    prediction = mass > t\n",
    "    \n",
    "    cm = confusion_matrix(labels, prediction)\n",
    "    \n",
    "    #cm = cm.astype('float') / cm.sum(axis=1)[:, np.newaxis]\n",
    "    \n",
    "    true_dark = cm[0,0]\n",
    "    true_lum = cm[1,1]\n",
    "    false_dark = cm[0,1]\n",
    "    false_lum = cm[1,0]\n",
    "    \n",
    "    true_rate.append(true_dark/(false_dark + true_dark))\n",
    "    \n",
    "    false_rate.append(false_lum/(false_lum + true_dark))\n",
    "    \n",
    "\n",
    "    \n",
    "    #plt.semilogx((edges[1:]+edges[:-1])/2.,\n",
    "    #       nluminous,color='black', marker='o',markersize=3)\n",
    "    #plt.axvline(x =t)\n",
    "    #plt.show()\n",
    "    #plot_confusion_matrix(labels, prediction, classes = ['Dark', 'Luminous'], normalize = True)\n",
    "    #plt.show()"
   ]
  },
  {
   "cell_type": "code",
   "execution_count": 28,
   "metadata": {},
   "outputs": [
    {
     "data": {
      "text/plain": [
       "Text(0.5,0,'False positive rate')"
      ]
     },
     "execution_count": 28,
     "metadata": {},
     "output_type": "execute_result"
    },
    {
     "data": {
      "image/png": "[encoded data removed]",
      "text/plain": [
       "<Figure size 432x288 with 1 Axes>"
      ]
     },
     "metadata": {},
     "output_type": "display_data"
    }
   ],
   "source": [
    "plt.plot(false_rate, true_rate, label = 'threshold')\n",
    "plt.scatter(false_rate_fcn, true_rate_fcn, color = 'red', label = 'FCN')\n",
    "plt.legend()\n",
    "plt.ylabel('True positive rate')\n",
    "plt.xlabel('False positive rate')"
   ]
  },
  {
   "cell_type": "code",
   "execution_count": 24,
   "metadata": {},
   "outputs": [],
   "source": [
    "true_dark = 0.94\n",
    "true_lum = 0.93\n",
    "false_dark = 0.06\n",
    "false_lum = 0.07\n",
    "\n",
    "true_rate_fcn = (true_dark/(false_dark + true_dark))\n",
    "\n",
    "false_rate_fcn = (false_lum/(false_lum + true_dark))\n",
    "    \n",
    "\n"
   ]
  },
  {
   "cell_type": "code",
   "execution_count": null,
   "metadata": {},
   "outputs": [],
   "source": []
  }
 ],
 "metadata": {
  "kernelspec": {
   "display_name": "Python 3",
   "language": "python",
   "name": "python3"
  },
  "language_info": {
   "codemirror_mode": {
    "name": "ipython",
    "version": 3
   },
   "file_extension": ".py",
   "mimetype": "text/x-python",
   "name": "python",
   "nbconvert_exporter": "python",
   "pygments_lexer": "ipython3",
   "version": "3.6.2"
  }
 },
 "nbformat": 4,
 "nbformat_minor": 2
}
