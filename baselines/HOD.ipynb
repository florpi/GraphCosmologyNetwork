{
 "cells": [
  {
   "cell_type": "code",
   "execution_count": 74,
   "metadata": {},
   "outputs": [],
   "source": [
    "import numpy as np\n",
    "import matplotlib.pyplot as plt\n",
    "from scipy.stats import binned_statistic\n",
    "import h5py\n",
    "from halotools.empirical_models import Zheng07Cens, Zheng07Sats\n",
    "from GNN.utils.datautils import  get_data\n",
    "from scipy.optimize import curve_fit\n",
    "from sklearn.metrics import confusion_matrix\n",
    "from GNN.utils.cm import plot_confusion_matrix\n",
    "from halotools.sim_manager import UserSuppliedHaloCatalog\n",
    "from halotools.mock_observables import tpcf\n",
    "from halotools.empirical_models import TrivialPhaseSpace, NFWPhaseSpace, HodModelFactory\n",
    "import pandas as pd\n",
    "import pickle\n",
    "import seaborn as sns\n",
    "sns.set_context('talk')"
   ]
  },
  {
   "cell_type": "code",
   "execution_count": 75,
   "metadata": {},
   "outputs": [],
   "source": [
    "output_file = 'merged_dataframe.h5'\n",
    "data_path = '/cosma6/data/dp004/dc-cues1/tng_dataframes/'\n",
    " \n",
    "train, test = get_data(data_path + output_file, arg_label = 'both')"
   ]
  },
  {
   "cell_type": "code",
   "execution_count": 76,
   "metadata": {},
   "outputs": [
    {
     "data": {
      "text/html": [
       "<div>\n",
       "<style scoped>\n",
       "    .dataframe tbody tr th:only-of-type {\n",
       "        vertical-align: middle;\n",
       "    }\n",
       "\n",
       "    .dataframe tbody tr th {\n",
       "        vertical-align: top;\n",
       "    }\n",
       "\n",
       "    .dataframe thead th {\n",
       "        text-align: right;\n",
       "    }\n",
       "</style>\n",
       "<table border=\"1\" class=\"dataframe\">\n",
       "  <thead>\n",
       "    <tr style=\"text-align: right;\">\n",
       "      <th></th>\n",
       "      <th>ID_DMO</th>\n",
       "      <th>ID_HYDRO</th>\n",
       "      <th>M200_DMO</th>\n",
       "      <th>M200_HYDRO</th>\n",
       "      <th>M200c</th>\n",
       "      <th>Rmax</th>\n",
       "      <th>R200c</th>\n",
       "      <th>Cnfw</th>\n",
       "      <th>Rhosnfw</th>\n",
       "      <th>Formation Time</th>\n",
       "      <th>...</th>\n",
       "      <th>x_offset</th>\n",
       "      <th>x_dmo</th>\n",
       "      <th>y_dmo</th>\n",
       "      <th>z_dmo</th>\n",
       "      <th>N_gals</th>\n",
       "      <th>M_stars</th>\n",
       "      <th>x_hydro</th>\n",
       "      <th>y_hydro</th>\n",
       "      <th>z_hydro</th>\n",
       "      <th>labels</th>\n",
       "    </tr>\n",
       "  </thead>\n",
       "  <tbody>\n",
       "    <tr>\n",
       "      <td>131073</td>\n",
       "      <td>225031</td>\n",
       "      <td>240522</td>\n",
       "      <td>1.099000e+11</td>\n",
       "      <td>9.548000e+10</td>\n",
       "      <td>1.098593e+11</td>\n",
       "      <td>0.008820</td>\n",
       "      <td>77.896492</td>\n",
       "      <td>7.866057</td>\n",
       "      <td>6.573355e+06</td>\n",
       "      <td>1.127003</td>\n",
       "      <td>...</td>\n",
       "      <td>1936.219399</td>\n",
       "      <td>286.087812</td>\n",
       "      <td>284.226250</td>\n",
       "      <td>294.378750</td>\n",
       "      <td>0.0</td>\n",
       "      <td>3.390875e+08</td>\n",
       "      <td>286.094969</td>\n",
       "      <td>284.223031</td>\n",
       "      <td>294.375281</td>\n",
       "      <td>False</td>\n",
       "    </tr>\n",
       "    <tr>\n",
       "      <td>2</td>\n",
       "      <td>7238</td>\n",
       "      <td>5392</td>\n",
       "      <td>2.402000e+12</td>\n",
       "      <td>2.440000e+12</td>\n",
       "      <td>2.402108e+12</td>\n",
       "      <td>0.352976</td>\n",
       "      <td>217.811813</td>\n",
       "      <td>3.177258</td>\n",
       "      <td>7.646312e+05</td>\n",
       "      <td>0.458952</td>\n",
       "      <td>...</td>\n",
       "      <td>529.864573</td>\n",
       "      <td>151.945797</td>\n",
       "      <td>44.601000</td>\n",
       "      <td>157.183750</td>\n",
       "      <td>8.0</td>\n",
       "      <td>1.215231e+11</td>\n",
       "      <td>151.954688</td>\n",
       "      <td>44.607535</td>\n",
       "      <td>157.211750</td>\n",
       "      <td>True</td>\n",
       "    </tr>\n",
       "    <tr>\n",
       "      <td>131074</td>\n",
       "      <td>211548</td>\n",
       "      <td>240523</td>\n",
       "      <td>1.197000e+11</td>\n",
       "      <td>1.006000e+11</td>\n",
       "      <td>1.197391e+11</td>\n",
       "      <td>0.014888</td>\n",
       "      <td>80.161522</td>\n",
       "      <td>11.203557</td>\n",
       "      <td>1.596397e+07</td>\n",
       "      <td>0.814929</td>\n",
       "      <td>...</td>\n",
       "      <td>604.320757</td>\n",
       "      <td>294.960625</td>\n",
       "      <td>3.876552</td>\n",
       "      <td>279.140125</td>\n",
       "      <td>0.0</td>\n",
       "      <td>3.599013e+08</td>\n",
       "      <td>294.971500</td>\n",
       "      <td>3.869190</td>\n",
       "      <td>279.136781</td>\n",
       "      <td>False</td>\n",
       "    </tr>\n",
       "    <tr>\n",
       "      <td>4</td>\n",
       "      <td>5543</td>\n",
       "      <td>6160</td>\n",
       "      <td>6.915000e+12</td>\n",
       "      <td>5.426000e+12</td>\n",
       "      <td>6.914848e+12</td>\n",
       "      <td>0.085405</td>\n",
       "      <td>309.844360</td>\n",
       "      <td>8.628157</td>\n",
       "      <td>8.548512e+06</td>\n",
       "      <td>0.955517</td>\n",
       "      <td>...</td>\n",
       "      <td>515.772693</td>\n",
       "      <td>297.496688</td>\n",
       "      <td>164.154469</td>\n",
       "      <td>148.109125</td>\n",
       "      <td>3.0</td>\n",
       "      <td>1.768937e+11</td>\n",
       "      <td>297.516219</td>\n",
       "      <td>164.154078</td>\n",
       "      <td>148.116297</td>\n",
       "      <td>True</td>\n",
       "    </tr>\n",
       "    <tr>\n",
       "      <td>5</td>\n",
       "      <td>7681</td>\n",
       "      <td>6173</td>\n",
       "      <td>3.631000e+12</td>\n",
       "      <td>3.173000e+12</td>\n",
       "      <td>3.630934e+12</td>\n",
       "      <td>0.200317</td>\n",
       "      <td>249.969940</td>\n",
       "      <td>3.840995</td>\n",
       "      <td>1.224789e+06</td>\n",
       "      <td>0.390785</td>\n",
       "      <td>...</td>\n",
       "      <td>367.230657</td>\n",
       "      <td>33.252168</td>\n",
       "      <td>93.309883</td>\n",
       "      <td>121.395938</td>\n",
       "      <td>8.0</td>\n",
       "      <td>1.258065e+11</td>\n",
       "      <td>33.300016</td>\n",
       "      <td>93.468781</td>\n",
       "      <td>121.208062</td>\n",
       "      <td>True</td>\n",
       "    </tr>\n",
       "  </tbody>\n",
       "</table>\n",
       "<p>5 rows × 28 columns</p>\n",
       "</div>"
      ],
      "text/plain": [
       "        ID_DMO  ID_HYDRO      M200_DMO    M200_HYDRO         M200c      Rmax  \\\n",
       "131073  225031    240522  1.099000e+11  9.548000e+10  1.098593e+11  0.008820   \n",
       "2         7238      5392  2.402000e+12  2.440000e+12  2.402108e+12  0.352976   \n",
       "131074  211548    240523  1.197000e+11  1.006000e+11  1.197391e+11  0.014888   \n",
       "4         5543      6160  6.915000e+12  5.426000e+12  6.914848e+12  0.085405   \n",
       "5         7681      6173  3.631000e+12  3.173000e+12  3.630934e+12  0.200317   \n",
       "\n",
       "             R200c       Cnfw       Rhosnfw  Formation Time  ...     x_offset  \\\n",
       "131073   77.896492   7.866057  6.573355e+06        1.127003  ...  1936.219399   \n",
       "2       217.811813   3.177258  7.646312e+05        0.458952  ...   529.864573   \n",
       "131074   80.161522  11.203557  1.596397e+07        0.814929  ...   604.320757   \n",
       "4       309.844360   8.628157  8.548512e+06        0.955517  ...   515.772693   \n",
       "5       249.969940   3.840995  1.224789e+06        0.390785  ...   367.230657   \n",
       "\n",
       "             x_dmo       y_dmo       z_dmo  N_gals       M_stars     x_hydro  \\\n",
       "131073  286.087812  284.226250  294.378750     0.0  3.390875e+08  286.094969   \n",
       "2       151.945797   44.601000  157.183750     8.0  1.215231e+11  151.954688   \n",
       "131074  294.960625    3.876552  279.140125     0.0  3.599013e+08  294.971500   \n",
       "4       297.496688  164.154469  148.109125     3.0  1.768937e+11  297.516219   \n",
       "5        33.252168   93.309883  121.395938     8.0  1.258065e+11   33.300016   \n",
       "\n",
       "           y_hydro     z_hydro  labels  \n",
       "131073  284.223031  294.375281   False  \n",
       "2        44.607535  157.211750    True  \n",
       "131074    3.869190  279.136781   False  \n",
       "4       164.154078  148.116297    True  \n",
       "5        93.468781  121.208062    True  \n",
       "\n",
       "[5 rows x 28 columns]"
      ]
     },
     "execution_count": 76,
     "metadata": {},
     "output_type": "execute_result"
    }
   ],
   "source": [
    "train.head()"
   ]
  },
  {
   "cell_type": "code",
   "execution_count": 77,
   "metadata": {},
   "outputs": [
    {
     "data": {
      "text/plain": [
       "<matplotlib.legend.Legend at 0x2b6465184898>"
      ]
     },
     "execution_count": 77,
     "metadata": {},
     "output_type": "execute_result"
    },
    {
     "data": {
      "image/png": "[encoded data removed]",
      "text/plain": [
       "<Figure size 432x288 with 1 Axes>"
      ]
     },
     "metadata": {},
     "output_type": "display_data"
    }
   ],
   "source": [
    "plt.hist(train.N_gals, log=True, histtype='step', label = 'train')\n",
    "plt.hist(test.N_gals, log=True, histtype='step', label = 'test')\n",
    "plt.xlabel('N galaxies')\n",
    "plt.legend()"
   ]
  },
  {
   "cell_type": "code",
   "execution_count": 78,
   "metadata": {},
   "outputs": [],
   "source": [
    "bins = np.logspace(np.log10(0.01), np.log10(800), 20)"
   ]
  },
  {
   "cell_type": "code",
   "execution_count": 79,
   "metadata": {},
   "outputs": [
    {
     "data": {
      "text/plain": [
       "Text(0.5,0,'$M_{200c}$')"
      ]
     },
     "execution_count": 79,
     "metadata": {},
     "output_type": "execute_result"
    },
    {
     "data": {
      "image/png": "[encoded data removed]",
      "text/plain": [
       "<Figure size 432x288 with 1 Axes>"
      ]
     },
     "metadata": {},
     "output_type": "display_data"
    }
   ],
   "source": [
    "nbins= 20\n",
    "bins = np.logspace(np.log10(np.min(train.M200c)),\n",
    "                   np.log10(np.max(train.M200c)), nbins+1)\n",
    "\n",
    "bin_centers = (bins[1:]+bins[:-1])/2.\n",
    "\n",
    "mass_func, edges = np.histogram(train.M200c, bins=bins)\n",
    "plt.loglog((edges[1:]+edges[:-1])/2.,\n",
    "           mass_func,color='black', marker='o',markersize=3)\n",
    "\n",
    "plt.ylabel('Number of halos')\n",
    "plt.xlabel(r'$M_{200c}$')"
   ]
  },
  {
   "cell_type": "markdown",
   "metadata": {},
   "source": [
    "# Fit HOD parameters to training set"
   ]
  },
  {
   "cell_type": "code",
   "execution_count": 80,
   "metadata": {},
   "outputs": [],
   "source": [
    "n_centrals = train.labels\n",
    "n_satellites = train.N_gals - 1"
   ]
  },
  {
   "cell_type": "code",
   "execution_count": 81,
   "metadata": {},
   "outputs": [],
   "source": [
    "n_centrals_binned, edges, _ = binned_statistic(train.M200c, n_centrals, statistic = 'mean',\n",
    "                                     bins=bins)\n",
    "\n",
    "n_centrals_error, edges, _ = binned_statistic(train.M200c, n_centrals, statistic = 'std',\n",
    "                                     bins=bins)"
   ]
  },
  {
   "cell_type": "code",
   "execution_count": 82,
   "metadata": {},
   "outputs": [],
   "source": [
    "n_satellites_binned, edges, _ = binned_statistic(train.M200c, n_satellites, statistic = 'mean',\n",
    "                                     bins=bins)\n",
    "\n",
    "n_satellites_error, edges, _ = binned_statistic(train.M200c, n_satellites, statistic = 'std',\n",
    "                                     bins=bins)"
   ]
  },
  {
   "cell_type": "code",
   "execution_count": 83,
   "metadata": {},
   "outputs": [
    {
     "data": {
      "text/plain": [
       "<matplotlib.legend.Legend at 0x2b64657e55f8>"
      ]
     },
     "execution_count": 83,
     "metadata": {},
     "output_type": "execute_result"
    },
    {
     "data": {
      "image/png": "[encoded data removed]",
      "text/plain": [
       "<Figure size 432x288 with 1 Axes>"
      ]
     },
     "metadata": {},
     "output_type": "display_data"
    }
   ],
   "source": [
    "fig = plt.figure()\n",
    "ax = plt.axes()\n",
    "ax.plot((edges[1:]+edges[:-1])/2.,\n",
    "           n_centrals_binned, #yerr = n_centrals_error, \n",
    "        color='orange', marker='o',markersize=3,\n",
    "           label = 'centrals')\n",
    "\n",
    "ax.plot((edges[1:]+edges[:-1])/2.,\n",
    "           n_satellites_binned, #yerr = n_satellites_error, \n",
    "             color='royalblue', marker='o',markersize=3,\n",
    "        label = 'satellites')\n",
    "\n",
    "\n",
    "\n",
    "ax.set_xscale(\"log\")\n",
    "ax.set_yscale(\"log\")\n",
    "\n",
    "ax.set_ylabel('Number of galaxies')\n",
    "ax.set_xlabel(r'$M_{200c}$')\n",
    "plt.legend()"
   ]
  },
  {
   "cell_type": "markdown",
   "metadata": {},
   "source": [
    "## Find HOD parameters"
   ]
  },
  {
   "cell_type": "code",
   "execution_count": 84,
   "metadata": {},
   "outputs": [],
   "source": [
    "cen_model = Zheng07Cens()\n",
    "\n",
    "def mean_centrals(mass, logMin, sigma_logM):\n",
    "\n",
    "    cen_model.param_dict = {'logMmin': logMin,\n",
    "                    'sigma_logM': sigma_logM}\n",
    "    \n",
    "    return cen_model.mean_occupation(prim_haloprop = mass)\n",
    "\n",
    "sats_model = Zheng07Sats()\n",
    "\n",
    "def mean_sats(mass, M0, M1, alpha):\n",
    "    \n",
    "    logM0 = np.log10(M0)\n",
    "\n",
    "    logM1 = np.log10(M1)\n",
    "    \n",
    "    sats_model.param_dict = {'logM0': logM0, \n",
    "                'logM1': logM1, 'alpha': alpha}\n",
    "    \n",
    "    return sats_model.mean_occupation(prim_haloprop = mass)\n",
    "    \n"
   ]
  },
  {
   "cell_type": "code",
   "execution_count": 85,
   "metadata": {},
   "outputs": [],
   "source": [
    "popt_central, pcov_central = curve_fit(mean_centrals, bin_centers,\n",
    "                      n_centrals_binned,\n",
    "                    p0 = list(cen_model.param_dict.values()))"
   ]
  },
  {
   "cell_type": "code",
   "execution_count": 86,
   "metadata": {},
   "outputs": [
    {
     "name": "stderr",
     "output_type": "stream",
     "text": [
      "/cosma/local/pythonconda3/4.5.4/lib/python3.6/site-packages/scipy/optimize/minpack.py:794: OptimizeWarning: Covariance of the parameters could not be estimated\n",
      "  category=OptimizeWarning)\n"
     ]
    }
   ],
   "source": [
    "popt_sats, pcov_sats = curve_fit(mean_sats, bin_centers,\n",
    "                      n_satellites_binned,\n",
    "                    p0 =list(sats_model.param_dict.values()))"
   ]
  },
  {
   "cell_type": "code",
   "execution_count": 87,
   "metadata": {},
   "outputs": [],
   "source": [
    "nbins= 30\n",
    "masses = np.logspace(np.log10(np.min(train.M200c)),\n",
    "                   np.log10(np.max(train.M200c)), nbins+1)"
   ]
  },
  {
   "cell_type": "code",
   "execution_count": 88,
   "metadata": {},
   "outputs": [
    {
     "data": {
      "text/plain": [
       "<matplotlib.legend.Legend at 0x2b64659cf198>"
      ]
     },
     "execution_count": 88,
     "metadata": {},
     "output_type": "execute_result"
    },
    {
     "data": {
      "image/png": "[encoded data removed]",
      "text/plain": [
       "<Figure size 432x288 with 1 Axes>"
      ]
     },
     "metadata": {},
     "output_type": "display_data"
    }
   ],
   "source": [
    "fig = plt.figure()\n",
    "ax = plt.axes()\n",
    "ax.plot((edges[1:]+edges[:-1])/2.,\n",
    "           n_centrals_binned, #yerr = n_centrals_error, \n",
    "        color='orange', marker='o',markersize=3,\n",
    "           label = 'centrals', linestyle='')\n",
    "\n",
    "ax.plot((edges[1:]+edges[:-1])/2.,\n",
    "           n_satellites_binned, #yerr = n_satellites_error, \n",
    "             color='royalblue', marker='o',markersize=3,\n",
    "        label = 'satellites', linestyle='')\n",
    "\n",
    "cen_model.param_dict = {'logMmin':popt_central[0], 'sigma_logM': popt_central[1]}\n",
    "\n",
    "sats_model.param_dict = {'logM0': np.log10(popt_sats[0]), \n",
    "                'logM1': np.log10(popt_sats[1]), 'alpha': popt_sats[2]}\n",
    "ax.plot(masses,\n",
    "           cen_model.mean_occupation(prim_haloprop = masses), #yerr = n_satellites_error, \n",
    "             color='orange',\n",
    "        label = 'central')\n",
    "\n",
    "ax.plot(masses,\n",
    "          cen_model.mean_occupation(prim_haloprop = masses)*  sats_model.mean_occupation(prim_haloprop = masses) , #yerr = n_satellites_error, \n",
    "             color='royalblue',\n",
    "        label = 'satellites')\n",
    "\n",
    "\n",
    "\n",
    "ax.set_xscale(\"log\")\n",
    "ax.set_yscale(\"log\")\n",
    "\n",
    "ax.set_ylabel('Number of galaxies')\n",
    "ax.set_xlabel(r'$M_{200c}$')\n",
    "plt.ylim(1e-1)\n",
    "plt.legend()"
   ]
  },
  {
   "cell_type": "markdown",
   "metadata": {},
   "source": [
    "# Performance on test set"
   ]
  },
  {
   "cell_type": "code",
   "execution_count": 89,
   "metadata": {},
   "outputs": [],
   "source": [
    "np.random.seed(22222)\n",
    "\n",
    "Udf = np.random.uniform(0,1,len(test))\n",
    "\n",
    "N_mean_cen = cen_model.mean_occupation(prim_haloprop = test.M200c)\n",
    "\n"
   ]
  },
  {
   "cell_type": "code",
   "execution_count": 90,
   "metadata": {},
   "outputs": [],
   "source": [
    "Nc_test = (N_mean_cen > Udf).astype(int)"
   ]
  },
  {
   "cell_type": "code",
   "execution_count": 91,
   "metadata": {},
   "outputs": [],
   "source": [
    "cm = confusion_matrix(test.labels, Nc_test)"
   ]
  },
  {
   "cell_type": "code",
   "execution_count": 92,
   "metadata": {},
   "outputs": [
    {
     "name": "stdout",
     "output_type": "stream",
     "text": [
      "Normalized confusion matrix\n"
     ]
    },
    {
     "data": {
      "text/plain": [
       "(array([[0.75550952, 0.24449048],\n",
       "        [0.16702115, 0.83297885]]),\n",
       " <matplotlib.axes._subplots.AxesSubplot at 0x2b6465b9f390>)"
      ]
     },
     "execution_count": 92,
     "metadata": {},
     "output_type": "execute_result"
    },
    {
     "data": {
      "image/png": "[encoded data removed]",
      "text/plain": [
       "<Figure size 432x288 with 2 Axes>"
      ]
     },
     "metadata": {},
     "output_type": "display_data"
    }
   ],
   "source": [
    "plot_confusion_matrix(test.labels,\n",
    "    Nc_test, classes = ['Dark', 'Luminous'], \n",
    "    normalize = True)"
   ]
  },
  {
   "cell_type": "markdown",
   "metadata": {},
   "source": [
    "## Two point correlation function for the test set central galaxies"
   ]
  },
  {
   "cell_type": "code",
   "execution_count": null,
   "metadata": {},
   "outputs": [],
   "source": []
  },
  {
   "cell_type": "code",
   "execution_count": 93,
   "metadata": {},
   "outputs": [],
   "source": [
    "pos_test = np.vstack((test.x_hydro, test.y_hydro, test.z_hydro)).T.clip(0.)\n",
    "boxsize = np.max(pos_test)\n",
    "pos_test_galaxies = pos_test[test.N_gals > 0]\n",
    "\n",
    "r = np.geomspace(0.3, 30., 50)\n",
    "\n",
    "test_tpcf = tpcf(pos_test_galaxies, rbins = r, period = boxsize, estimator =  'Landy-Szalay' )"
   ]
  },
  {
   "cell_type": "code",
   "execution_count": 94,
   "metadata": {},
   "outputs": [
    {
     "data": {
      "text/plain": [
       "(69842, 3)"
      ]
     },
     "execution_count": 94,
     "metadata": {},
     "output_type": "execute_result"
    }
   ],
   "source": [
    "pos_test.shape"
   ]
  },
  {
   "cell_type": "code",
   "execution_count": 95,
   "metadata": {},
   "outputs": [
    {
     "data": {
      "text/plain": [
       "(41845, 3)"
      ]
     },
     "execution_count": 95,
     "metadata": {},
     "output_type": "execute_result"
    }
   ],
   "source": [
    "pos_test_galaxies.shape"
   ]
  },
  {
   "cell_type": "code",
   "execution_count": 96,
   "metadata": {},
   "outputs": [
    {
     "data": {
      "text/plain": [
       "[<matplotlib.lines.Line2D at 0x2b64674528d0>]"
      ]
     },
     "execution_count": 96,
     "metadata": {},
     "output_type": "execute_result"
    },
    {
     "data": {
      "image/png": "[encoded data removed]",
      "text/plain": [
       "<Figure size 432x288 with 1 Axes>"
      ]
     },
     "metadata": {},
     "output_type": "display_data"
    }
   ],
   "source": [
    "r_c = 0.5 * (r[1:] + r[:-1])\n",
    "plt.loglog(r_c, test_tpcf)"
   ]
  },
  {
   "cell_type": "markdown",
   "metadata": {},
   "source": [
    "## Populate halo catalog"
   ]
  },
  {
   "cell_type": "code",
   "execution_count": 103,
   "metadata": {},
   "outputs": [
    {
     "data": {
      "text/plain": [
       "(69842,)"
      ]
     },
     "execution_count": 103,
     "metadata": {},
     "output_type": "execute_result"
    }
   ],
   "source": [
    "test.ID_DMO.shape"
   ]
  },
  {
   "cell_type": "code",
   "execution_count": 104,
   "metadata": {},
   "outputs": [
    {
     "data": {
      "text/plain": [
       "(69842,)"
      ]
     },
     "execution_count": 104,
     "metadata": {},
     "output_type": "execute_result"
    }
   ],
   "source": [
    "test.x_dmo.shape"
   ]
  },
  {
   "cell_type": "code",
   "execution_count": 105,
   "metadata": {},
   "outputs": [
    {
     "data": {
      "text/plain": [
       "(69842,)"
      ]
     },
     "execution_count": 105,
     "metadata": {},
     "output_type": "execute_result"
    }
   ],
   "source": [
    "test.M200c.shape"
   ]
  },
  {
   "cell_type": "code",
   "execution_count": 109,
   "metadata": {},
   "outputs": [
    {
     "data": {
      "text/plain": [
       "array([294.48864746,  77.41929626, 271.26589966, ...,  89.47777557,\n",
       "        78.51371002, 113.57344818])"
      ]
     },
     "execution_count": 109,
     "metadata": {},
     "output_type": "execute_result"
    }
   ],
   "source": [
    "test.R200c.values"
   ]
  },
  {
   "cell_type": "code",
   "execution_count": 100,
   "metadata": {},
   "outputs": [],
   "source": [
    "velocities = np.random.random((len(test), 3))"
   ]
  },
  {
   "cell_type": "code",
   "execution_count": 118,
   "metadata": {},
   "outputs": [],
   "source": [
    "halocat = UserSuppliedHaloCatalog( redshift = 0., Lbox = boxsize, \n",
    "        halo_x =test.x_dmo.values.clip(0), halo_y = test.y_dmo.values, halo_z = test.z_dmo.values,\n",
    "        halo_vx = velocities[:,0], halo_vy = velocities[:,1], halo_vz = velocities[:,2],\n",
    "        halo_mvir = test.M200c.values, halo_id = test.ID_DMO.values, halo_hostid = test.ID_DMO.values,\n",
    "        particle_mass = 1e9, halo_upid = -1. * np.ones_like(test.ID_DMO),\n",
    "        halo_rvir = test.R200c.values\n",
    "        )"
   ]
  },
  {
   "cell_type": "code",
   "execution_count": 119,
   "metadata": {},
   "outputs": [],
   "source": [
    "cens_prof_model = TrivialPhaseSpace()"
   ]
  },
  {
   "cell_type": "code",
   "execution_count": 120,
   "metadata": {},
   "outputs": [],
   "source": [
    "#sats_prof_model = TrivialPhaseSpace()"
   ]
  },
  {
   "cell_type": "code",
   "execution_count": 121,
   "metadata": {},
   "outputs": [],
   "source": [
    "model_instance = HodModelFactory(\n",
    "    centrals_occupation = cen_model,\n",
    "    centrals_profile = cens_prof_model)"
   ]
  },
  {
   "cell_type": "code",
   "execution_count": 122,
   "metadata": {},
   "outputs": [],
   "source": [
    "model_instance.populate_mock(halocat)"
   ]
  },
  {
   "cell_type": "code",
   "execution_count": 123,
   "metadata": {},
   "outputs": [
    {
     "data": {
      "text/plain": [
       "astropy.table.table.Table"
      ]
     },
     "execution_count": 123,
     "metadata": {},
     "output_type": "execute_result"
    }
   ],
   "source": [
    "type(model_instance.mock.galaxy_table)"
   ]
  },
  {
   "cell_type": "code",
   "execution_count": 124,
   "metadata": {},
   "outputs": [],
   "source": [
    "df_mock_test = pd.DataFrame(np.array(model_instance.mock.galaxy_table))"
   ]
  },
  {
   "cell_type": "code",
   "execution_count": 125,
   "metadata": {},
   "outputs": [
    {
     "data": {
      "text/plain": [
       "16029"
      ]
     },
     "execution_count": 125,
     "metadata": {},
     "output_type": "execute_result"
    }
   ],
   "source": [
    "len(df_mock_test)"
   ]
  },
  {
   "cell_type": "code",
   "execution_count": 126,
   "metadata": {},
   "outputs": [],
   "source": [
    "pos_test_mock = np.vstack([df_mock_test['x'], \n",
    "                           df_mock_test['y'],\n",
    "                           df_mock_test['z']]\n",
    "                         ).T"
   ]
  },
  {
   "cell_type": "code",
   "execution_count": 127,
   "metadata": {},
   "outputs": [
    {
     "data": {
      "text/plain": [
       "(16029, 3)"
      ]
     },
     "execution_count": 127,
     "metadata": {},
     "output_type": "execute_result"
    }
   ],
   "source": [
    "pos_test_mock.shape"
   ]
  },
  {
   "cell_type": "code",
   "execution_count": 128,
   "metadata": {},
   "outputs": [],
   "source": [
    "#r, clustering = model_instance.mock.compute_galaxy_clustering(gal_type = 'centrals') \n",
    "\n",
    "mock_tpcf = tpcf(pos_test_mock, rbins = r, period = boxsize, estimator =  'Landy-Szalay' )"
   ]
  },
  {
   "cell_type": "code",
   "execution_count": 137,
   "metadata": {},
   "outputs": [
    {
     "data": {
      "text/plain": [
       "<matplotlib.legend.Legend at 0x2b6467fa3a90>"
      ]
     },
     "execution_count": 137,
     "metadata": {},
     "output_type": "execute_result"
    },
    {
     "data": {
      "image/png": "[encoded data removed]",
      "text/plain": [
       "<Figure size 432x288 with 1 Axes>"
      ]
     },
     "metadata": {},
     "output_type": "display_data"
    }
   ],
   "source": [
    "plt.loglog(r_c, test_tpcf, label = 'measured')\n",
    "plt.loglog(r_c, mock_tpcf, label = 'hod')\n",
    "plt.ylabel(r'$\\xi (r)$')\n",
    "\n",
    "plt.xlabel(r'$r \\, \\, \\mathrm{[Mpc/h]}$')\n",
    "plt.legend()"
   ]
  },
  {
   "cell_type": "code",
   "execution_count": 135,
   "metadata": {},
   "outputs": [
    {
     "data": {
      "text/plain": [
       "Text(0.5,0,'$r \\\\, \\\\, \\\\mathrm{[Mpc/h]}$')"
      ]
     },
     "execution_count": 135,
     "metadata": {},
     "output_type": "execute_result"
    },
    {
     "data": {
      "image/png": "[encoded data removed]",
      "text/plain": [
       "<Figure size 432x288 with 1 Axes>"
      ]
     },
     "metadata": {},
     "output_type": "display_data"
    }
   ],
   "source": [
    "plt.plot(r_c, mock_tpcf/test_tpcf, label = 'Ratio')\n",
    "plt.axhline(y = 1., color='gray', linestyle='dashed')\n",
    "plt.legend()\n",
    "plt.ylim(0.8,1.2)\n",
    "plt.ylabel(r'$\\frac{\\xi_{HOD}}{\\xi_{hydro}}$')\n",
    "\n",
    "plt.xlabel(r'$r \\, \\, \\mathrm{[Mpc/h]}$')"
   ]
  },
  {
   "cell_type": "code",
   "execution_count": 42,
   "metadata": {},
   "outputs": [],
   "source": [
    "hod_tpcf_dict = {\n",
    "        'r_c': r_c,\n",
    "        'tpcf': mock_tpcf,\n",
    "                }"
   ]
  },
  {
   "cell_type": "code",
   "execution_count": 43,
   "metadata": {},
   "outputs": [],
   "source": [
    "with open('hod_tpcf.pkl', 'wb') as f:\n",
    "    pickle.dump(hod_tpcf_dict, f)"
   ]
  },
  {
   "cell_type": "code",
   "execution_count": null,
   "metadata": {},
   "outputs": [],
   "source": []
  }
 ],
 "metadata": {
  "kernelspec": {
   "display_name": "Python 3",
   "language": "python",
   "name": "python3"
  },
  "language_info": {
   "codemirror_mode": {
    "name": "ipython",
    "version": 3
   },
   "file_extension": ".py",
   "mimetype": "text/x-python",
   "name": "python",
   "nbconvert_exporter": "python",
   "pygments_lexer": "ipython3",
   "version": "3.6.2"
  }
 },
 "nbformat": 4,
 "nbformat_minor": 2
}
