{
 "cells": [
  {
   "cell_type": "code",
   "execution_count": 1,
   "metadata": {},
   "outputs": [
    {
     "name": "stderr",
     "output_type": "stream",
     "text": [
      "/cosma/local/Python/3.6.5/lib/python3.6/importlib/_bootstrap.py:219: RuntimeWarning: numpy.dtype size changed, may indicate binary incompatibility. Expected 96, got 88\n",
      "  return f(*args, **kwds)\n"
     ]
    }
   ],
   "source": [
    "import os, glob\n",
    "import numpy as np\n",
    "\n",
    "from yellowbrick.target import FeatureCorrelation\n",
    "from yellowbrick.features import Rank2D\n",
    "\n",
    "from sklearn.utils import resample\n",
    "from sklearn.datasets import make_blobs\n",
    "from sklearn.preprocessing import StandardScaler\n",
    "from sklearn.discriminant_analysis import LinearDiscriminantAnalysis as LDA\n",
    "\n",
    "import h5py\n",
    "import pandas as pd\n",
    "\n",
    "import seaborn as sns\n",
    "import matplotlib.pyplot as plt\n",
    "\n",
    "from GNN.utils.datautils import (\n",
    "    get_data,\n",
    "    balance_dataset,\n",
    "    find_transition_regions\n",
    ")"
   ]
  },
  {
   "cell_type": "code",
   "execution_count": 33,
   "metadata": {},
   "outputs": [],
   "source": [
    "label = \"dark_or_light\"\n",
    "sampling = \"downsample\""
   ]
  },
  {
   "cell_type": "markdown",
   "metadata": {},
   "source": [
    "# 1. Load combined features from SubFind & Sownak "
   ]
  },
  {
   "cell_type": "code",
   "execution_count": 34,
   "metadata": {},
   "outputs": [
    {
     "name": "stdout",
     "output_type": "stream",
     "text": [
      "20\n"
     ]
    }
   ],
   "source": [
    "# arxiv:1905.08799 talks about this stellar mass cut on page 4 top right column\n",
    "output_file = 'merged_dataframe.h5'                                          \n",
    "data_path = '/cosma6/data/dp004/dc-cues1/tng_dataframes/'\n",
    "\n",
    "train, test = get_data(data_path + output_file, label)\n",
    "print(len(train.columns.values))"
   ]
  },
  {
   "cell_type": "code",
   "execution_count": 35,
   "metadata": {},
   "outputs": [
    {
     "data": {
      "text/html": [
       "<div>\n",
       "<style scoped>\n",
       "    .dataframe tbody tr th:only-of-type {\n",
       "        vertical-align: middle;\n",
       "    }\n",
       "\n",
       "    .dataframe tbody tr th {\n",
       "        vertical-align: top;\n",
       "    }\n",
       "\n",
       "    .dataframe thead th {\n",
       "        text-align: right;\n",
       "    }\n",
       "</style>\n",
       "<table border=\"1\" class=\"dataframe\">\n",
       "  <thead>\n",
       "    <tr style=\"text-align: right;\">\n",
       "      <th></th>\n",
       "      <th>M200_DMO</th>\n",
       "      <th>M200c</th>\n",
       "      <th>Rmax</th>\n",
       "      <th>R200c</th>\n",
       "      <th>Cnfw</th>\n",
       "      <th>Rhosnfw</th>\n",
       "      <th>Formation Time</th>\n",
       "      <th>Nmergers</th>\n",
       "      <th>MassPeak</th>\n",
       "      <th>vpeak</th>\n",
       "      <th>N_subhalos</th>\n",
       "      <th>VelDisp</th>\n",
       "      <th>Vmax</th>\n",
       "      <th>Spin</th>\n",
       "      <th>fsub_unbound</th>\n",
       "      <th>x_offset</th>\n",
       "      <th>x_dmo</th>\n",
       "      <th>y_dmo</th>\n",
       "      <th>z_dmo</th>\n",
       "      <th>labels</th>\n",
       "    </tr>\n",
       "  </thead>\n",
       "  <tbody>\n",
       "    <tr>\n",
       "      <th>33967</th>\n",
       "      <td>3.222000e+11</td>\n",
       "      <td>3.222035e+11</td>\n",
       "      <td>0.025756</td>\n",
       "      <td>111.500549</td>\n",
       "      <td>9.541781</td>\n",
       "      <td>1.095388e+07</td>\n",
       "      <td>1.151545</td>\n",
       "      <td>1.0</td>\n",
       "      <td>5.354194e+11</td>\n",
       "      <td>158.870071</td>\n",
       "      <td>1.0</td>\n",
       "      <td>73.738907</td>\n",
       "      <td>132.469254</td>\n",
       "      <td>13.077200</td>\n",
       "      <td>0.007121</td>\n",
       "      <td>657.466485</td>\n",
       "      <td>265.680687</td>\n",
       "      <td>269.871812</td>\n",
       "      <td>199.033187</td>\n",
       "      <td>True</td>\n",
       "    </tr>\n",
       "    <tr>\n",
       "      <th>87515</th>\n",
       "      <td>1.594000e+11</td>\n",
       "      <td>1.594472e+11</td>\n",
       "      <td>0.015614</td>\n",
       "      <td>88.186943</td>\n",
       "      <td>16.635263</td>\n",
       "      <td>4.515792e+07</td>\n",
       "      <td>1.966384</td>\n",
       "      <td>1.0</td>\n",
       "      <td>2.638693e+11</td>\n",
       "      <td>116.536285</td>\n",
       "      <td>2.0</td>\n",
       "      <td>62.604664</td>\n",
       "      <td>114.830658</td>\n",
       "      <td>5.033566</td>\n",
       "      <td>0.008136</td>\n",
       "      <td>2196.179003</td>\n",
       "      <td>144.617547</td>\n",
       "      <td>260.009687</td>\n",
       "      <td>162.087938</td>\n",
       "      <td>True</td>\n",
       "    </tr>\n",
       "    <tr>\n",
       "      <th>14264</th>\n",
       "      <td>4.474000e+11</td>\n",
       "      <td>4.473788e+11</td>\n",
       "      <td>0.058838</td>\n",
       "      <td>124.389297</td>\n",
       "      <td>4.836464</td>\n",
       "      <td>2.172080e+06</td>\n",
       "      <td>1.044931</td>\n",
       "      <td>2.0</td>\n",
       "      <td>7.858822e+11</td>\n",
       "      <td>138.228745</td>\n",
       "      <td>9.0</td>\n",
       "      <td>74.484482</td>\n",
       "      <td>128.212570</td>\n",
       "      <td>10.046845</td>\n",
       "      <td>0.170153</td>\n",
       "      <td>1174.137065</td>\n",
       "      <td>42.755012</td>\n",
       "      <td>50.261793</td>\n",
       "      <td>204.619156</td>\n",
       "      <td>True</td>\n",
       "    </tr>\n",
       "  </tbody>\n",
       "</table>\n",
       "</div>"
      ],
      "text/plain": [
       "           M200_DMO         M200c      Rmax       R200c       Cnfw  \\\n",
       "33967  3.222000e+11  3.222035e+11  0.025756  111.500549   9.541781   \n",
       "87515  1.594000e+11  1.594472e+11  0.015614   88.186943  16.635263   \n",
       "14264  4.474000e+11  4.473788e+11  0.058838  124.389297   4.836464   \n",
       "\n",
       "            Rhosnfw  Formation Time  Nmergers      MassPeak       vpeak  \\\n",
       "33967  1.095388e+07        1.151545       1.0  5.354194e+11  158.870071   \n",
       "87515  4.515792e+07        1.966384       1.0  2.638693e+11  116.536285   \n",
       "14264  2.172080e+06        1.044931       2.0  7.858822e+11  138.228745   \n",
       "\n",
       "       N_subhalos    VelDisp        Vmax       Spin  fsub_unbound  \\\n",
       "33967         1.0  73.738907  132.469254  13.077200      0.007121   \n",
       "87515         2.0  62.604664  114.830658   5.033566      0.008136   \n",
       "14264         9.0  74.484482  128.212570  10.046845      0.170153   \n",
       "\n",
       "          x_offset       x_dmo       y_dmo       z_dmo  labels  \n",
       "33967   657.466485  265.680687  269.871812  199.033187    True  \n",
       "87515  2196.179003  144.617547  260.009687  162.087938    True  \n",
       "14264  1174.137065   42.755012   50.261793  204.619156    True  "
      ]
     },
     "execution_count": 35,
     "metadata": {},
     "output_type": "execute_result"
    }
   ],
   "source": [
    "train.sample(n=3, random_state=1)"
   ]
  },
  {
   "cell_type": "code",
   "execution_count": 36,
   "metadata": {},
   "outputs": [
    {
     "name": "stderr",
     "output_type": "stream",
     "text": [
      "/cosma/home/dp004/dc-beck3/.local/lib/python3.6/site-packages/scipy/stats/_binned_statistic.py:607: FutureWarning: Using a non-tuple sequence for multidimensional indexing is deprecated; use `arr[tuple(seq)]` instead of `arr[seq]`. In the future this will be interpreted as an array index, `arr[np.array(seq)]`, which will result either in an error or a different result.\n",
      "  result = result[core]\n"
     ]
    }
   ],
   "source": [
    "## Balance training set in the transition region                             \n",
    "center_transition, end_transition = find_transition_regions(train)"
   ]
  },
  {
   "cell_type": "code",
   "execution_count": 37,
   "metadata": {},
   "outputs": [],
   "source": [
    "train = balance_dataset(                                                     \n",
    "    train, center_transition, end_transition, sampling\n",
    ")\n"
   ]
  },
  {
   "cell_type": "code",
   "execution_count": 38,
   "metadata": {},
   "outputs": [],
   "source": [
    "train_features = train.drop(columns=\"labels\")                                \n",
    "train_labels = train[\"labels\"]\n",
    "\n",
    "test_features = test.drop(columns=\"labels\")                                \n",
    "test_labels = test[\"labels\"]\n",
    "\n",
    "feature_names = train_features.columns.values"
   ]
  },
  {
   "cell_type": "code",
   "execution_count": 39,
   "metadata": {},
   "outputs": [],
   "source": [
    "## Standarize features                                                       \n",
    "scaler = StandardScaler()\n",
    "scaler.fit(train_features.values)\n",
    "train_features_std = scaler.transform(train_features.values)\n",
    "test_features_std = scaler.transform(test_features.values)\n",
    "\n",
    "train_labels = train_labels.values\n",
    "test_labels = test_labels.values\n",
    "\n",
    "# !!!\n",
    "# notice that features and labels are np.ndarrays now\n",
    "# !!!"
   ]
  },
  {
   "cell_type": "markdown",
   "metadata": {},
   "source": [
    "# 2 Feature Importance\n",
    "\n",
    "## 2.0 LDA decomposition"
   ]
  },
  {
   "cell_type": "code",
   "execution_count": 83,
   "metadata": {},
   "outputs": [
    {
     "name": "stdout",
     "output_type": "stream",
     "text": [
      "Original feature space dimensions = 19 \n",
      "\n",
      "(19715, 19)\n",
      "explained_variance_ratio_ [1.]\n",
      "n_components_manual: 1 (19715, 1)\n",
      " \n",
      "explained_variance_ratio_  [0.45722735]\n",
      "n_components_dict: None (19715, 1)\n"
     ]
    }
   ],
   "source": [
    "def lda_transform(\n",
    "    train_features, train_labels,\n",
    "    test_features, test_labels,\n",
    "    arg_lda):\n",
    "    \"\"\"\n",
    "    \"\"\"\n",
    "    \n",
    "    if isinstance(arg_lda, (float)):\n",
    "        return _lda_varlimit(\n",
    "            train_features, train_labels,\n",
    "            test_features, test_labels,\n",
    "            arg_lda,\n",
    "        )\n",
    "    elif isinstance(arg_lda, (dict)):\n",
    "        return _lda_dict(\n",
    "            train_features, train_labels,\n",
    "            test_features, test_labels,\n",
    "            arg_lda,\n",
    "        )\n",
    "\n",
    "\n",
    "def _lda_dict(\n",
    "    train_features, train_labels,\n",
    "    test_features, test_labels,\n",
    "    arg_lda: dict):\n",
    "    \"\"\"\n",
    "    \"\"\"\n",
    "    # Create LDA\n",
    "    lda = LDA(**arg_lda)\n",
    "    \n",
    "    # tranform features based on training dataset\n",
    "    train_features = lda.fit_transform(train_features, train_labels)\n",
    "    test_features = lda.transform(test_features)\n",
    "    \n",
    "    print(\"explained_variance_ratio_ \", lda.explained_variance_ratio_)\n",
    "        \n",
    "    return train_features, test_features, lda.n_components\n",
    "\n",
    "\n",
    "def _lda_varlimit(\n",
    "    train_features, train_labels,\n",
    "    test_features, test_labels,\n",
    "    variance_limit: float):\n",
    "    \"\"\"\n",
    "    \"\"\"\n",
    "    # Create array of explained variance ratios\n",
    "    lda = LDA(n_components=None)\n",
    "    print(train_features.shape)\n",
    "    dump = lda.fit(train_features, train_labels)\n",
    "    lda_var_ratios = lda.explained_variance_ratio_\n",
    "    print(\"explained_variance_ratio_\", lda_var_ratios)\n",
    "    \n",
    "    # Set initial variance\n",
    "    total_variance = 0.0\n",
    "    # Set initial number of features\n",
    "    n_components = 0\n",
    "    \n",
    "    # Run through explained variance of each feature:\n",
    "    for explained_variance in lda_var_ratios:\n",
    "        \n",
    "        # Add the explained variance to the total\n",
    "        total_variance += explained_variance\n",
    "        \n",
    "        # Add one to the number of components\n",
    "        n_components += 1\n",
    "        \n",
    "        if total_variance >= variance_limit:\n",
    "            break\n",
    "    \n",
    "    # Create LDA\n",
    "    lda = LDA(n_components=n_components, priors=None)\n",
    "    \n",
    "    # tranform features based on training dataset\n",
    "    train_features = lda.fit_transform(train_features, train_labels)\n",
    "    test_features = lda.transform(test_features)\n",
    "    \n",
    "    # check mean accuracy\n",
    "    #score_lda = lda.score(test_features, test_labels)\n",
    "        \n",
    "    return train_features, test_features, lda.n_components\n",
    "\n",
    "\n",
    "print(\"Original feature space dimensions = %d \\n\" %\n",
    "      train_features_std.shape[1])\n",
    "#\"\"\"\n",
    "arg_lda = 0.95\n",
    "train_features_manual, test_features_manual, n_components_manual = lda_transform(\n",
    "    train_features_std, train_labels,\n",
    "    test_features_std, test_labels,\n",
    "    arg_lda,\n",
    ")\n",
    "#\"\"\"\n",
    "print(\"n_components_manual:\", n_components_manual, train_features_manual.shape)\n",
    "print(\" \")\n",
    "\n",
    "arg_lda = {'solver': 'eigen', 'shrinkage': 'auto'}\n",
    "train_features_dict, test_features_dict, n_components_dict = lda_transform(\n",
    "    train_features_std, train_labels,\n",
    "    test_features_std, test_labels,\n",
    "    arg_lda,\n",
    ")\n",
    "\n",
    "print(\"n_components_dict:\", n_components_dict, train_features_dict.shape)"
   ]
  },
  {
   "cell_type": "code",
   "execution_count": 81,
   "metadata": {},
   "outputs": [
    {
     "name": "stderr",
     "output_type": "stream",
     "text": [
      "/cosma/home/dp004/dc-beck3/.local/lib/python3.6/site-packages/matplotlib/font_manager.py:1331: UserWarning: findfont: Font family ['sans-serif'] not found. Falling back to DejaVu Sans\n",
      "  (prop.get_family(), self.defaultFamily[fontext]))\n"
     ]
    },
    {
     "data": {
      "image/png": "[encoded data removed]",
      "text/plain": [
       "<Figure size 432x288 with 1 Axes>"
      ]
     },
     "metadata": {},
     "output_type": "display_data"
    }
   ],
   "source": [
    "plt.figure()\n",
    "\n",
    "plt.scatter(\n",
    "    train_features_dict[np.where(train_labels)[0], 0],\n",
    "    [0]*len(np.where(train_labels)[0]),\n",
    "    alpha=.8, label='Luminos',\n",
    ")\n",
    "plt.scatter(\n",
    "    train_features_dict[np.where(~train_labels)[0], 0],\n",
    "    [1]*len(np.where(~train_labels)[0]),\n",
    "    alpha=.8, label='Dark',\n",
    ")\n",
    "\n",
    "plt.legend(loc='best', shadow=False, scatterpoints=1)\n",
    "plt.show()"
   ]
  },
  {
   "cell_type": "markdown",
   "metadata": {},
   "source": [
    "## 2.1 Pearson correlation score\n",
    "\n",
    "### Before LDA"
   ]
  },
  {
   "cell_type": "code",
   "execution_count": null,
   "metadata": {},
   "outputs": [],
   "source": [
    "visualizer = Rank2D(features=feature_names, algorithm='pearson')\n",
    "\n",
    "visualizer.fit(train_features_std, test_labels.values)\n",
    "visualizer.transform(train_features_std)  \n",
    "visualizer.poof()  "
   ]
  },
  {
   "cell_type": "markdown",
   "metadata": {},
   "source": [
    "### After LDA - manual"
   ]
  },
  {
   "cell_type": "code",
   "execution_count": null,
   "metadata": {},
   "outputs": [],
   "source": [
    "visualizer = Rank2D(\n",
    "    features=['PCA_%d' % dd for dd in range(train_features_pca_manual.shape[1])],\n",
    "    algorithm='pearson',\n",
    ")\n",
    "\n",
    "visualizer.fit(train_features_pca_manual, train_labels.values)\n",
    "visualizer.transform(train_features_pca_manual)  \n",
    "visualizer.poof()"
   ]
  },
  {
   "cell_type": "code",
   "execution_count": null,
   "metadata": {},
   "outputs": [],
   "source": []
  }
 ],
 "metadata": {
  "kernelspec": {
   "display_name": "Python 3",
   "language": "python",
   "name": "python3"
  },
  "language_info": {
   "codemirror_mode": {
    "name": "ipython",
    "version": 3
   },
   "file_extension": ".py",
   "mimetype": "text/x-python",
   "name": "python",
   "nbconvert_exporter": "python",
   "pygments_lexer": "ipython3",
   "version": "3.6.5"
  }
 },
 "nbformat": 4,
 "nbformat_minor": 2
}
