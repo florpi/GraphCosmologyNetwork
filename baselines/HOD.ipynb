{
 "cells": [
  {
   "cell_type": "code",
   "execution_count": 41,
   "metadata": {},
   "outputs": [],
   "source": [
    "import numpy as np\n",
    "import matplotlib.pyplot as plt\n",
    "from scipy.stats import binned_statistic\n",
    "import h5py\n",
    "from halotools.empirical_models import Zheng07Cens, Zheng07Sats\n",
    "from GNN.inputs import  split\n",
    "from scipy.optimize import curve_fit\n",
    "from sklearn.metrics import confusion_matrix\n",
    "from GNN.utils.cm import plot_confusion_matrix\n",
    "from halotools.sim_manager import UserSuppliedHaloCatalog\n",
    "from halotools.mock_observables import tpcf\n",
    "from halotools.empirical_models import TrivialPhaseSpace, NFWPhaseSpace, HodModelFactory\n",
    "import pandas as pd\n",
    "import pickle"
   ]
  },
  {
   "cell_type": "code",
   "execution_count": 3,
   "metadata": {},
   "outputs": [],
   "source": [
    "hdf5_filename = '/cosma5/data/dp004/dc-cues1/features/halo_features_s99'\n",
    "\n",
    "with h5py.File(hdf5_filename,'r+') as feats: \n",
    "    \n",
    "    mass = feats['M200c'][:]\n",
    "    \n",
    "    labels = feats['Ngals'][:]\n",
    "    \n",
    "    boxsize = feats['boxsize'].value / 1000. # to Mpc\n",
    "    \n",
    "    positions = feats['Pos'][:] / 1000.\n",
    "\n",
    "    velocities = feats['Vel'][:] / 1000.\n",
    "\n",
    "    rvir = feats['R200c'][:] / 1000.\n",
    "\n",
    "\n",
    "#labels = labels > 0 "
   ]
  },
  {
   "cell_type": "code",
   "execution_count": 4,
   "metadata": {},
   "outputs": [],
   "source": [
    "train_idx, test_idx, val_idx = split.train_test_val_split(len(mass),\n",
    "                                                    train_size = 0.5)\n",
    "\n"
   ]
  },
  {
   "cell_type": "code",
   "execution_count": 5,
   "metadata": {},
   "outputs": [
    {
     "data": {
      "text/plain": [
       "<matplotlib.legend.Legend at 0x2b616066d710>"
      ]
     },
     "execution_count": 5,
     "metadata": {},
     "output_type": "execute_result"
    },
    {
     "data": {
      "image/png": "[encoded data removed]",
      "text/plain": [
       "<Figure size 432x288 with 1 Axes>"
      ]
     },
     "metadata": {},
     "output_type": "display_data"
    }
   ],
   "source": [
    "plt.hist(labels[train_idx], log=True, histtype='step', label = 'train')\n",
    "plt.hist(labels[test_idx], log=True, histtype='step', label = 'test')\n",
    "plt.hist(labels[val_idx], log=True, histtype='step', label = 'val')\n",
    "plt.xlabel('N galaxies')\n",
    "plt.legend()"
   ]
  },
  {
   "cell_type": "code",
   "execution_count": 6,
   "metadata": {},
   "outputs": [],
   "source": [
    "train_idx, test_idx, val_idx = split.train_test_val_split(labels.shape[0],\n",
    "                                        train_size = 0.5)\n",
    "\n",
    "test_idx = np.concatenate((test_idx,val_idx))\n"
   ]
  },
  {
   "cell_type": "code",
   "execution_count": 7,
   "metadata": {},
   "outputs": [
    {
     "data": {
      "text/plain": [
       "<matplotlib.legend.Legend at 0x2b61607bef28>"
      ]
     },
     "execution_count": 7,
     "metadata": {},
     "output_type": "execute_result"
    },
    {
     "data": {
      "image/png": "[encoded data removed]",
      "text/plain": [
       "<Figure size 432x288 with 1 Axes>"
      ]
     },
     "metadata": {},
     "output_type": "display_data"
    }
   ],
   "source": [
    "plt.hist(labels[train_idx], log=True, histtype='step', label = 'train')\n",
    "plt.hist(labels[test_idx], log=True, histtype='step', label = 'test')\n",
    "plt.xlabel('N galaxies')\n",
    "\n",
    "plt.legend()"
   ]
  },
  {
   "cell_type": "code",
   "execution_count": 8,
   "metadata": {},
   "outputs": [
    {
     "data": {
      "text/plain": [
       "Text(0.5,0,'$M_{200c}$')"
      ]
     },
     "execution_count": 8,
     "metadata": {},
     "output_type": "execute_result"
    },
    {
     "data": {
      "image/png": "[encoded data removed]",
      "text/plain": [
       "<Figure size 432x288 with 1 Axes>"
      ]
     },
     "metadata": {},
     "output_type": "display_data"
    }
   ],
   "source": [
    "nbins= 20\n",
    "bins = np.logspace(np.log10(np.min(mass)),\n",
    "                   np.log10(np.max(mass)), nbins+1)\n",
    "\n",
    "bin_centers = (bins[1:]+bins[:-1])/2.\n",
    "\n",
    "mass_func, edges = np.histogram(mass, bins=bins)\n",
    "plt.loglog((edges[1:]+edges[:-1])/2.,\n",
    "           mass_func,color='black', marker='o',markersize=3)\n",
    "\n",
    "plt.ylabel('Number of halos')\n",
    "plt.xlabel(r'$M_{200c}$')"
   ]
  },
  {
   "cell_type": "markdown",
   "metadata": {},
   "source": [
    "# Fit HOD parameters to training set"
   ]
  },
  {
   "cell_type": "code",
   "execution_count": 9,
   "metadata": {},
   "outputs": [],
   "source": [
    "n_centrals = labels[train_idx] > 0\n",
    "n_satellites = labels[train_idx] - 1"
   ]
  },
  {
   "cell_type": "code",
   "execution_count": 10,
   "metadata": {},
   "outputs": [],
   "source": [
    "n_centrals_binned, edges, _ = binned_statistic(mass[train_idx], n_centrals, statistic = 'mean',\n",
    "                                     bins=bins)\n",
    "\n",
    "n_centrals_error, edges, _ = binned_statistic(mass[train_idx], n_centrals, statistic = 'std',\n",
    "                                     bins=bins)"
   ]
  },
  {
   "cell_type": "code",
   "execution_count": 11,
   "metadata": {},
   "outputs": [],
   "source": [
    "n_satellites_binned, edges, _ = binned_statistic(mass[train_idx], n_satellites, statistic = 'mean',\n",
    "                                     bins=bins)\n",
    "\n",
    "n_satellites_error, edges, _ = binned_statistic(mass[train_idx], n_satellites, statistic = 'std',\n",
    "                                     bins=bins)"
   ]
  },
  {
   "cell_type": "code",
   "execution_count": 12,
   "metadata": {},
   "outputs": [
    {
     "data": {
      "text/plain": [
       "<matplotlib.legend.Legend at 0x2b6160be6390>"
      ]
     },
     "execution_count": 12,
     "metadata": {},
     "output_type": "execute_result"
    },
    {
     "data": {
      "image/png": "[encoded data removed]",
      "text/plain": [
       "<Figure size 432x288 with 1 Axes>"
      ]
     },
     "metadata": {},
     "output_type": "display_data"
    }
   ],
   "source": [
    "fig = plt.figure()\n",
    "ax = plt.axes()\n",
    "ax.plot((edges[1:]+edges[:-1])/2.,\n",
    "           n_centrals_binned, #yerr = n_centrals_error, \n",
    "        color='orange', marker='o',markersize=3,\n",
    "           label = 'centrals')\n",
    "\n",
    "ax.plot((edges[1:]+edges[:-1])/2.,\n",
    "           n_satellites_binned, #yerr = n_satellites_error, \n",
    "             color='royalblue', marker='o',markersize=3,\n",
    "        label = 'satellites')\n",
    "\n",
    "\n",
    "\n",
    "ax.set_xscale(\"log\")\n",
    "ax.set_yscale(\"log\")\n",
    "\n",
    "ax.set_ylabel('Number of galaxies')\n",
    "ax.set_xlabel(r'$M_{200c}$')\n",
    "plt.legend()"
   ]
  },
  {
   "cell_type": "markdown",
   "metadata": {},
   "source": [
    "## Find HOD parameters"
   ]
  },
  {
   "cell_type": "code",
   "execution_count": 13,
   "metadata": {},
   "outputs": [],
   "source": [
    "cen_model = Zheng07Cens()\n",
    "\n",
    "def mean_centrals(mass, logMin, sigma_logM):\n",
    "\n",
    "    cen_model.param_dict = {'logMmin': logMin,\n",
    "                    'sigma_logM': sigma_logM}\n",
    "    \n",
    "    return cen_model.mean_occupation(prim_haloprop = mass)\n",
    "\n",
    "sats_model = Zheng07Sats()\n",
    "\n",
    "def mean_sats(mass, M0, M1, alpha):\n",
    "    \n",
    "    logM0 = np.log10(M0)\n",
    "\n",
    "    logM1 = np.log10(M1)\n",
    "    \n",
    "    sats_model.param_dict = {'logM0': logM0, \n",
    "                'logM1': logM1, 'alpha': alpha}\n",
    "    \n",
    "    return sats_model.mean_occupation(prim_haloprop = mass)\n",
    "    \n"
   ]
  },
  {
   "cell_type": "code",
   "execution_count": 14,
   "metadata": {},
   "outputs": [],
   "source": [
    "popt_central, pcov_central = curve_fit(mean_centrals, bin_centers,\n",
    "                      n_centrals_binned,\n",
    "                    p0 = list(cen_model.param_dict.values()))"
   ]
  },
  {
   "cell_type": "code",
   "execution_count": 15,
   "metadata": {},
   "outputs": [
    {
     "name": "stderr",
     "output_type": "stream",
     "text": [
      "/cosma/local/pythonconda3/4.5.4/lib/python3.6/site-packages/scipy/optimize/minpack.py:794: OptimizeWarning: Covariance of the parameters could not be estimated\n",
      "  category=OptimizeWarning)\n"
     ]
    }
   ],
   "source": [
    "popt_sats, pcov_sats = curve_fit(mean_sats, bin_centers,\n",
    "                      n_satellites_binned,\n",
    "                    p0 =list(sats_model.param_dict.values()))"
   ]
  },
  {
   "cell_type": "code",
   "execution_count": 16,
   "metadata": {},
   "outputs": [],
   "source": [
    "nbins= 30\n",
    "masses = np.logspace(np.log10(np.min(mass)),\n",
    "                   np.log10(np.max(mass)), nbins+1)"
   ]
  },
  {
   "cell_type": "code",
   "execution_count": 17,
   "metadata": {},
   "outputs": [
    {
     "data": {
      "text/plain": [
       "<matplotlib.legend.Legend at 0x2b6163f7cfd0>"
      ]
     },
     "execution_count": 17,
     "metadata": {},
     "output_type": "execute_result"
    },
    {
     "data": {
      "image/png": "[encoded data removed]",
      "text/plain": [
       "<Figure size 432x288 with 1 Axes>"
      ]
     },
     "metadata": {},
     "output_type": "display_data"
    }
   ],
   "source": [
    "fig = plt.figure()\n",
    "ax = plt.axes()\n",
    "ax.plot((edges[1:]+edges[:-1])/2.,\n",
    "           n_centrals_binned, #yerr = n_centrals_error, \n",
    "        color='orange', marker='o',markersize=3,\n",
    "           label = 'centrals', linestyle='')\n",
    "\n",
    "ax.plot((edges[1:]+edges[:-1])/2.,\n",
    "           n_satellites_binned, #yerr = n_satellites_error, \n",
    "             color='royalblue', marker='o',markersize=3,\n",
    "        label = 'satellites', linestyle='')\n",
    "\n",
    "cen_model.param_dict = {'logMmin':popt_central[0], 'sigma_logM': popt_central[1]}\n",
    "\n",
    "sats_model.param_dict = {'logM0': np.log10(popt_sats[0]), \n",
    "                'logM1': np.log10(popt_sats[1]), 'alpha': popt_sats[2]}\n",
    "ax.plot(masses,\n",
    "           cen_model.mean_occupation(prim_haloprop = masses), #yerr = n_satellites_error, \n",
    "             color='orange',\n",
    "        label = 'central')\n",
    "\n",
    "ax.plot(masses,\n",
    "          cen_model.mean_occupation(prim_haloprop = masses)*  sats_model.mean_occupation(prim_haloprop = masses) , #yerr = n_satellites_error, \n",
    "             color='royalblue',\n",
    "        label = 'satellites')\n",
    "\n",
    "\n",
    "\n",
    "ax.set_xscale(\"log\")\n",
    "ax.set_yscale(\"log\")\n",
    "\n",
    "ax.set_ylabel('Number of galaxies')\n",
    "ax.set_xlabel(r'$M_{200c}$')\n",
    "plt.ylim(1e-1)\n",
    "plt.legend()"
   ]
  },
  {
   "cell_type": "markdown",
   "metadata": {},
   "source": [
    "# Performance on test set"
   ]
  },
  {
   "cell_type": "code",
   "execution_count": 18,
   "metadata": {},
   "outputs": [],
   "source": [
    "np.random.seed(22222)\n",
    "\n",
    "Udf = np.random.uniform(0,1,len(test_idx))\n",
    "\n",
    "N_mean_cen = cen_model.mean_occupation(prim_haloprop = mass[test_idx])\n",
    "\n"
   ]
  },
  {
   "cell_type": "code",
   "execution_count": 19,
   "metadata": {},
   "outputs": [],
   "source": [
    "Nc_test = (N_mean_cen > Udf).astype(int)"
   ]
  },
  {
   "cell_type": "code",
   "execution_count": 20,
   "metadata": {},
   "outputs": [],
   "source": [
    "cm = confusion_matrix((labels[test_idx] > 0).astype(int), Nc_test)"
   ]
  },
  {
   "cell_type": "code",
   "execution_count": 21,
   "metadata": {},
   "outputs": [
    {
     "name": "stdout",
     "output_type": "stream",
     "text": [
      "Normalized confusion matrix\n"
     ]
    },
    {
     "data": {
      "text/plain": [
       "(array([[0.85776989, 0.14223011],\n",
       "        [0.14886372, 0.85113628]]),\n",
       " <matplotlib.axes._subplots.AxesSubplot at 0x2b6169156208>)"
      ]
     },
     "execution_count": 21,
     "metadata": {},
     "output_type": "execute_result"
    },
    {
     "data": {
      "image/png": "[encoded data removed]",
      "text/plain": [
       "<Figure size 432x288 with 2 Axes>"
      ]
     },
     "metadata": {},
     "output_type": "display_data"
    }
   ],
   "source": [
    "plot_confusion_matrix((labels[test_idx] > 0).astype(int),\n",
    "    Nc_test, classes = ['Dark', 'Luminous'], \n",
    "    normalize = True)"
   ]
  },
  {
   "cell_type": "markdown",
   "metadata": {},
   "source": [
    "## Two point correlation function for the test set central galaxies"
   ]
  },
  {
   "cell_type": "code",
   "execution_count": 22,
   "metadata": {},
   "outputs": [],
   "source": [
    "pos_test = positions[test_idx, :].clip(0.)\n",
    "\n",
    "pos_test_galaxies = pos_test[labels[test_idx] > 0]\n",
    "\n",
    "r = np.geomspace(0.3, 10., 20)\n",
    "\n",
    "test_tpcf = tpcf(pos_test_galaxies, rbins = r, period = boxsize, estimator =  'Landy-Szalay' )"
   ]
  },
  {
   "cell_type": "code",
   "execution_count": 23,
   "metadata": {},
   "outputs": [
    {
     "data": {
      "text/plain": [
       "[<matplotlib.lines.Line2D at 0x2b616be5ce10>]"
      ]
     },
     "execution_count": 23,
     "metadata": {},
     "output_type": "execute_result"
    },
    {
     "data": {
      "image/png": "[encoded data removed]",
      "text/plain": [
       "<Figure size 432x288 with 1 Axes>"
      ]
     },
     "metadata": {},
     "output_type": "display_data"
    }
   ],
   "source": [
    "r_c = 0.5 * (r[1:] + r[:-1])\n",
    "plt.loglog(r_c, test_tpcf)"
   ]
  },
  {
   "cell_type": "markdown",
   "metadata": {},
   "source": [
    "## Populate halo catalog"
   ]
  },
  {
   "cell_type": "code",
   "execution_count": 24,
   "metadata": {},
   "outputs": [],
   "source": [
    "halocat = UserSuppliedHaloCatalog( redshift = 0., Lbox = boxsize, \n",
    "        halo_x = positions[:, 0].clip(0), halo_y = positions[:, 1], halo_z = positions[:, 2],\n",
    "        halo_vx = velocities[:,0], halo_vy = velocities[:,1], halo_vz = velocities[:,2],\n",
    "        halo_mvir = mass, halo_id = np.arange(mass.shape[0]), halo_hostid = np.arange(mass.shape[0]),\n",
    "        particle_mass = 1e9, halo_upid = -1. * np.ones_like(mass),\n",
    "        halo_rvir = rvir\n",
    "        )"
   ]
  },
  {
   "cell_type": "code",
   "execution_count": 25,
   "metadata": {},
   "outputs": [],
   "source": [
    "cens_prof_model = TrivialPhaseSpace()"
   ]
  },
  {
   "cell_type": "code",
   "execution_count": 26,
   "metadata": {},
   "outputs": [],
   "source": [
    "#sats_prof_model = TrivialPhaseSpace()"
   ]
  },
  {
   "cell_type": "code",
   "execution_count": 27,
   "metadata": {},
   "outputs": [],
   "source": [
    "model_instance = HodModelFactory(\n",
    "    centrals_occupation = cen_model,\n",
    "    centrals_profile = cens_prof_model)"
   ]
  },
  {
   "cell_type": "code",
   "execution_count": 28,
   "metadata": {},
   "outputs": [],
   "source": [
    "model_instance.populate_mock(halocat)"
   ]
  },
  {
   "cell_type": "code",
   "execution_count": 29,
   "metadata": {},
   "outputs": [
    {
     "data": {
      "text/plain": [
       "astropy.table.table.Table"
      ]
     },
     "execution_count": 29,
     "metadata": {},
     "output_type": "execute_result"
    }
   ],
   "source": [
    "type(model_instance.mock.galaxy_table)"
   ]
  },
  {
   "cell_type": "code",
   "execution_count": 30,
   "metadata": {},
   "outputs": [],
   "source": [
    "df_mock = pd.DataFrame(np.array(model_instance.mock.galaxy_table))"
   ]
  },
  {
   "cell_type": "code",
   "execution_count": 31,
   "metadata": {},
   "outputs": [
    {
     "data": {
      "text/plain": [
       "114372"
      ]
     },
     "execution_count": 31,
     "metadata": {},
     "output_type": "execute_result"
    }
   ],
   "source": [
    "len(df_mock)"
   ]
  },
  {
   "cell_type": "code",
   "execution_count": 32,
   "metadata": {},
   "outputs": [],
   "source": [
    "df_mock_test = df_mock[df_mock['halo_id'].isin(test_idx)]"
   ]
  },
  {
   "cell_type": "code",
   "execution_count": 33,
   "metadata": {},
   "outputs": [
    {
     "data": {
      "text/plain": [
       "57157"
      ]
     },
     "execution_count": 33,
     "metadata": {},
     "output_type": "execute_result"
    }
   ],
   "source": [
    "len(df_mock_test)"
   ]
  },
  {
   "cell_type": "code",
   "execution_count": 34,
   "metadata": {},
   "outputs": [],
   "source": [
    "pos_test_mock = np.vstack([df_mock_test['x'], \n",
    "                           df_mock_test['y'],\n",
    "                           df_mock_test['z']]\n",
    "                         ).T"
   ]
  },
  {
   "cell_type": "code",
   "execution_count": 35,
   "metadata": {},
   "outputs": [
    {
     "data": {
      "text/plain": [
       "(57157, 3)"
      ]
     },
     "execution_count": 35,
     "metadata": {},
     "output_type": "execute_result"
    }
   ],
   "source": [
    "pos_test_mock.shape"
   ]
  },
  {
   "cell_type": "code",
   "execution_count": 36,
   "metadata": {},
   "outputs": [],
   "source": [
    "#r, clustering = model_instance.mock.compute_galaxy_clustering(gal_type = 'centrals') \n",
    "\n",
    "mock_tpcf = tpcf(pos_test_mock, rbins = r, period = boxsize, estimator =  'Landy-Szalay' )"
   ]
  },
  {
   "cell_type": "code",
   "execution_count": 37,
   "metadata": {},
   "outputs": [
    {
     "data": {
      "text/plain": [
       "[<matplotlib.lines.Line2D at 0x2b61c5139d68>]"
      ]
     },
     "execution_count": 37,
     "metadata": {},
     "output_type": "execute_result"
    },
    {
     "data": {
      "image/png": "[encoded data removed]",
      "text/plain": [
       "<Figure size 432x288 with 1 Axes>"
      ]
     },
     "metadata": {},
     "output_type": "display_data"
    }
   ],
   "source": [
    "plt.loglog(r_c, test_tpcf)\n",
    "plt.loglog(r_c, mock_tpcf)"
   ]
  },
  {
   "cell_type": "code",
   "execution_count": 39,
   "metadata": {},
   "outputs": [
    {
     "data": {
      "text/plain": [
       "(0.8, 1.2)"
      ]
     },
     "execution_count": 39,
     "metadata": {},
     "output_type": "execute_result"
    },
    {
     "data": {
      "image/png": "[encoded data removed]",
      "text/plain": [
       "<Figure size 432x288 with 1 Axes>"
      ]
     },
     "metadata": {},
     "output_type": "display_data"
    }
   ],
   "source": [
    "plt.plot(r_c, mock_tpcf/test_tpcf, label = 'Ratio')\n",
    "plt.axhline(y = 1., color='gray', linestyle='dashed')\n",
    "plt.legend()\n",
    "plt.ylim(0.8,1.2)"
   ]
  },
  {
   "cell_type": "code",
   "execution_count": 40,
   "metadata": {},
   "outputs": [],
   "source": [
    "hod_tpcf_dict = {\n",
    "        'r_c': r_c,\n",
    "        'tpcf': mock_tpcf,\n",
    "                }"
   ]
  },
  {
   "cell_type": "code",
   "execution_count": 42,
   "metadata": {},
   "outputs": [],
   "source": [
    "with open('hod_tpcf.pkl', 'wb') as f:\n",
    "    pickle.dump(hod_tpcf_dict, f)"
   ]
  },
  {
   "cell_type": "code",
   "execution_count": null,
   "metadata": {},
   "outputs": [],
   "source": []
  }
 ],
 "metadata": {
  "kernelspec": {
   "display_name": "Python 3",
   "language": "python",
   "name": "python3"
  },
  "language_info": {
   "codemirror_mode": {
    "name": "ipython",
    "version": 3
   },
   "file_extension": ".py",
   "mimetype": "text/x-python",
   "name": "python",
   "nbconvert_exporter": "python",
   "pygments_lexer": "ipython3",
   "version": "3.6.2"
  }
 },
 "nbformat": 4,
 "nbformat_minor": 2
}
