{
 "cells": [
  {
   "cell_type": "code",
   "execution_count": 17,
   "metadata": {
    "scrolled": true
   },
   "outputs": [],
   "source": [
    "#from yellowbrick.target import FeatureCorrelation\n",
    "import h5py\n",
    "from GNN.utils.datautils import _train_test_val_split as train_test_val_split\n",
    "from GNN.utils.cm import plot_confusion_matrix\n",
    "import matplotlib.pyplot as plt \n",
    "import numpy as np\n",
    "from sklearn.preprocessing import StandardScaler\n",
    "from sklearn.ensemble import RandomForestClassifier\n",
    "from sklearn.model_selection import RandomizedSearchCV\n",
    "from sklearn.metrics import mean_squared_error, confusion_matrix, precision_recall_fscore_support\n",
    "#from yellowbrick.features import Rank2D\n",
    "from sklearn.decomposition import PCA\n",
    "from halotools.mock_observables import tpcf\n",
    "import pickle\n",
    "from scipy.stats import binned_statistic\n",
    "#import xgboost as xgb\n",
    "import pandas as pd\n",
    "from sklearn.utils import resample\n",
    "from sklearn.metrics import roc_auc_score\n",
    "import balance_dataset as bf\n",
    "import seaborn as sns\n",
    "\n",
    "sns.set_context('talk')"
   ]
  },
  {
   "cell_type": "markdown",
   "metadata": {},
   "source": [
    "# Read inputs"
   ]
  },
  {
   "cell_type": "code",
   "execution_count": 9,
   "metadata": {},
   "outputs": [],
   "source": [
    "additional_data_path = '/cosma5/data/dp004/hvrn44/HOD/'\n",
    "output_file = 'merged_dataframe.h5'\n",
    "data_path = '/cosma6/data/dp004/dc-cues1/tng_dataframes/'"
   ]
  },
  {
   "cell_type": "code",
   "execution_count": 24,
   "metadata": {},
   "outputs": [],
   "source": [
    "df = pd.read_hdf(data_path + output_file)\n",
    "df.columns\n",
    "\n",
    "labels = df.N_gals > 0\n",
    "features = df.drop(columns = 'N_gals')\n",
    "\n",
    "train_idx, test_idx, val_idx = train_test_val_split(\n",
    "    labels.values.shape[0],\n",
    "    train_size=0.5,\n",
    ")\n",
    "\n",
    "train_features = features.iloc[train_idx]\n",
    "train_labels = labels.iloc[train_idx]\n",
    "\n",
    "test_features = features.iloc[test_idx]\n",
    "test_labels = labels.iloc[test_idx]"
   ]
  },
  {
   "cell_type": "code",
   "execution_count": 2,
   "metadata": {},
   "outputs": [],
   "source": [
    "hdf5_filename = \"/cosma5/data/dp004/dc-cues1/features/halo_features_s99\"\n",
    "with h5py.File(hdf5_filename, \"r+\") as feats:\n",
    "\n",
    "    \n",
    "    features = np.column_stack(\n",
    "        [\n",
    "            feats[\"M200c\"][:],\n",
    "            feats[\"R200c\"][:],\n",
    "            feats[\"N_subhalos\"][:],\n",
    "            feats[\"VelDisp\"][:],\n",
    "            feats[\"Vmax\"][:],\n",
    "            feats[\"Spin\"][:],\n",
    "            feats[\"Fsub\"][:],\n",
    "            feats[\"x_offset\"][:],\n",
    "\n",
    "        ]\n",
    "    )   \n",
    "    \n",
    "    \n",
    "    positions = feats['Pos'][:] / 1000.\n",
    "    boxsize = feats['boxsize'].value / 1000. # to Mpc\n",
    "\n",
    "\n",
    "    #labels = np.log10(feats[\"stellar_mass\"][:] + 1 )\n",
    "    labels = feats['Ngals'][:]\n",
    "    labels = labels > 0 \n",
    "    \n"
   ]
  },
  {
   "cell_type": "code",
   "execution_count": 3,
   "metadata": {},
   "outputs": [],
   "source": [
    "feature_names = ['M200c', 'R200c', 'N_subhalos', 'VelDisp', 'Vmax', 'Spin', 'Fsub', 'x_offset']"
   ]
  },
  {
   "cell_type": "code",
   "execution_count": 4,
   "metadata": {},
   "outputs": [],
   "source": [
    "train_idx, test_idx, val_idx = split.train_test_val_split(labels.shape[0],\n",
    "                                        train_size = 0.5)\n",
    "\n",
    "test_idx = np.concatenate((test_idx, val_idx))\n",
    "train_features = features[train_idx, :]\n",
    "train_labels = labels[train_idx]\n",
    "test_features = features[test_idx, :]\n",
    "test_labels = labels[test_idx]\n",
    "\n",
    "\n"
   ]
  },
  {
   "cell_type": "markdown",
   "metadata": {},
   "source": [
    "## Balance training set in the transition region"
   ]
  },
  {
   "cell_type": "code",
   "execution_count": 5,
   "metadata": {},
   "outputs": [],
   "source": [
    "center_transition = 2.1e11\n",
    "end_transition = 8e11"
   ]
  },
  {
   "cell_type": "code",
   "execution_count": 6,
   "metadata": {},
   "outputs": [],
   "source": [
    "df_train = pd.DataFrame(dict(zip(feature_names, train_features.T)))\n",
    "\n",
    "df_train['labels'] = train_labels"
   ]
  },
  {
   "cell_type": "code",
   "execution_count": 7,
   "metadata": {},
   "outputs": [
    {
     "data": {
      "text/plain": [
       "True     80953\n",
       "False    64350\n",
       "Name: labels, dtype: int64"
      ]
     },
     "execution_count": 7,
     "metadata": {},
     "output_type": "execute_result"
    }
   ],
   "source": [
    "df_train.labels.value_counts()"
   ]
  },
  {
   "cell_type": "code",
   "execution_count": 8,
   "metadata": {},
   "outputs": [],
   "source": [
    "df_train_up =bf.balance_df_given_mass(df_train,\n",
    "    'labels', 0., center_transition, 0, 1,\n",
    "     mode = 'upsample')\n",
    "\n",
    "df_train_up = bf.balance_df_given_mass(df_train_up,\n",
    "    'labels', center_transition, end_transition, 1, 0,\n",
    "     mode = 'upsample')"
   ]
  },
  {
   "cell_type": "code",
   "execution_count": 9,
   "metadata": {},
   "outputs": [
    {
     "data": {
      "text/plain": [
       "True     58378\n",
       "False    58378\n",
       "Name: labels, dtype: int64"
      ]
     },
     "execution_count": 9,
     "metadata": {},
     "output_type": "execute_result"
    }
   ],
   "source": [
    "df_train_up[df_train_up.M200c < center_transition].labels.value_counts()"
   ]
  },
  {
   "cell_type": "code",
   "execution_count": 10,
   "metadata": {},
   "outputs": [
    {
     "data": {
      "text/plain": [
       "True     48837\n",
       "False    48837\n",
       "Name: labels, dtype: int64"
      ]
     },
     "execution_count": 10,
     "metadata": {},
     "output_type": "execute_result"
    }
   ],
   "source": [
    "df_train_up[(df_train_up.M200c > center_transition) & (df_train_up.M200c < end_transition)].labels.value_counts()"
   ]
  },
  {
   "cell_type": "code",
   "execution_count": 11,
   "metadata": {},
   "outputs": [],
   "source": [
    "df_train_up_features = df_train_up.drop(columns = 'labels')\n",
    "df_train_up_labels = df_train_up['labels']"
   ]
  },
  {
   "cell_type": "code",
   "execution_count": 12,
   "metadata": {},
   "outputs": [
    {
     "data": {
      "text/plain": [
       "True     131575\n",
       "False    107215\n",
       "Name: labels, dtype: int64"
      ]
     },
     "execution_count": 12,
     "metadata": {},
     "output_type": "execute_result"
    }
   ],
   "source": [
    "df_train_up_labels.value_counts()"
   ]
  },
  {
   "cell_type": "code",
   "execution_count": 16,
   "metadata": {},
   "outputs": [],
   "source": [
    "df_train_down =bf.balance_df_given_mass(df_train,\n",
    "    'labels', 0., center_transition, 0, 1,\n",
    "     mode = 'downsample')\n",
    "\n",
    "df_train_down = bf.balance_df_given_mass(df_train_down,\n",
    "    'labels', center_transition, end_transition, 1, 0,\n",
    "     mode = 'downsample')"
   ]
  },
  {
   "cell_type": "code",
   "execution_count": 17,
   "metadata": {},
   "outputs": [],
   "source": [
    "df_train_down_features = df_train_down.drop(columns = 'labels')\n",
    "df_train_down_labels = df_train_down['labels']"
   ]
  },
  {
   "cell_type": "code",
   "execution_count": 18,
   "metadata": {},
   "outputs": [
    {
     "data": {
      "text/plain": [
       "True     38088\n",
       "False    13728\n",
       "Name: labels, dtype: int64"
      ]
     },
     "execution_count": 18,
     "metadata": {},
     "output_type": "execute_result"
    }
   ],
   "source": [
    "df_train_down_labels.value_counts()"
   ]
  },
  {
   "cell_type": "markdown",
   "metadata": {},
   "source": [
    "# Standarize features"
   ]
  },
  {
   "cell_type": "code",
   "execution_count": 19,
   "metadata": {},
   "outputs": [],
   "source": [
    "\n",
    "scaler = StandardScaler()\n",
    "\n",
    "scaler.fit(df_train_down_features)\n",
    "\n",
    "std_train_features = scaler.transform(df_train_down_features)\n",
    "test_features = scaler.transform(test_features)\n"
   ]
  },
  {
   "cell_type": "markdown",
   "metadata": {},
   "source": [
    "# Random Forest on downsampled Features"
   ]
  },
  {
   "cell_type": "code",
   "execution_count": 20,
   "metadata": {},
   "outputs": [
    {
     "data": {
      "text/plain": [
       "RandomForestClassifier(bootstrap=True, class_weight=None, criterion='gini',\n",
       "                       max_depth=None, max_features='auto', max_leaf_nodes=None,\n",
       "                       min_impurity_decrease=0.0, min_impurity_split=None,\n",
       "                       min_samples_leaf=1, min_samples_split=2,\n",
       "                       min_weight_fraction_leaf=0.0, n_estimators=500,\n",
       "                       n_jobs=None, oob_score=False, random_state=None,\n",
       "                       verbose=0, warm_start=False)"
      ]
     },
     "execution_count": 20,
     "metadata": {},
     "output_type": "execute_result"
    }
   ],
   "source": [
    "n_estimators = 500\n",
    "\n",
    "rf = RandomForestClassifier(n_estimators= n_estimators)\n",
    "\n",
    "rf.fit(std_train_features, df_train_down_labels)"
   ]
  },
  {
   "cell_type": "code",
   "execution_count": 21,
   "metadata": {},
   "outputs": [],
   "source": [
    "test_pred = rf.predict(test_features)"
   ]
  },
  {
   "cell_type": "code",
   "execution_count": 22,
   "metadata": {},
   "outputs": [
    {
     "data": {
      "text/plain": [
       "145302"
      ]
     },
     "execution_count": 22,
     "metadata": {},
     "output_type": "execute_result"
    }
   ],
   "source": [
    "test_masses = scaler.inverse_transform(test_features)[:,0]\n",
    "\n",
    "len(test_masses)"
   ]
  },
  {
   "cell_type": "code",
   "execution_count": 23,
   "metadata": {},
   "outputs": [],
   "source": [
    "assert np.sum(test_pred[test_masses > end_transition]) == len(test_pred[test_masses > end_transition])"
   ]
  },
  {
   "cell_type": "code",
   "execution_count": 24,
   "metadata": {},
   "outputs": [
    {
     "name": "stdout",
     "output_type": "stream",
     "text": [
      "Normalized confusion matrix\n"
     ]
    },
    {
     "data": {
      "image/png": "[encoded data removed]",
      "text/plain": [
       "<Figure size 432x288 with 2 Axes>"
      ]
     },
     "metadata": {},
     "output_type": "display_data"
    }
   ],
   "source": [
    "plot_confusion_matrix(test_labels, test_pred, \n",
    "    classes = ['Dark', 'Luminous'], normalize = True)\n",
    "plt.grid(b=None)"
   ]
  },
  {
   "cell_type": "code",
   "execution_count": 25,
   "metadata": {},
   "outputs": [
    {
     "data": {
      "text/plain": [
       "54603"
      ]
     },
     "execution_count": 25,
     "metadata": {},
     "output_type": "execute_result"
    }
   ],
   "source": [
    "# truly luminous classified as luminous ( true positives)\n",
    "np.sum(test_labels[test_labels > 0 ] == test_pred[test_labels > 0 ])\n",
    "# truly dark classified as dark ( true negatives)\n",
    "np.sum(test_labels[test_labels == 0 ] == test_pred[test_labels == 0 ])"
   ]
  },
  {
   "cell_type": "code",
   "execution_count": 26,
   "metadata": {},
   "outputs": [
    {
     "data": {
      "text/plain": [
       "81054"
      ]
     },
     "execution_count": 26,
     "metadata": {},
     "output_type": "execute_result"
    }
   ],
   "source": [
    "len(test_labels[test_labels > 0 ] == test_pred[test_labels > 0 ])"
   ]
  },
  {
   "cell_type": "code",
   "execution_count": 27,
   "metadata": {},
   "outputs": [],
   "source": [
    "nbins= 15\n",
    "bins = np.logspace(11,\n",
    "                   12, nbins+1)\n",
    "\n",
    "true_positives, edges, _ = binned_statistic(test_masses[test_labels > 0],\n",
    "                    test_labels[test_labels > 0 ] == test_pred[test_labels > 0 ],\n",
    "                    statistic = 'mean', bins = bins)\n",
    "\n",
    "\n",
    "true_negatives, edges, _ = binned_statistic(test_masses[test_labels == 0],\n",
    "                    test_labels[test_labels == 0 ] == test_pred[test_labels == 0 ],\n",
    "                    statistic = 'mean', bins = bins)"
   ]
  },
  {
   "cell_type": "code",
   "execution_count": 28,
   "metadata": {},
   "outputs": [
    {
     "data": {
      "text/plain": [
       "<matplotlib.legend.Legend at 0x2b2fa00d1898>"
      ]
     },
     "execution_count": 28,
     "metadata": {},
     "output_type": "execute_result"
    },
    {
     "data": {
      "image/png": "[encoded data removed]",
      "text/plain": [
       "<Figure size 432x288 with 1 Axes>"
      ]
     },
     "metadata": {},
     "output_type": "display_data"
    }
   ],
   "source": [
    "plt.semilogx((edges[1:]+edges[:-1])/2.,\n",
    "           true_positives,color='black', marker='o',markersize=3,\n",
    "            label = 'Luminous')\n",
    "plt.semilogx((edges[1:]+edges[:-1])/2.,\n",
    "           true_negatives,color='red', marker='o',markersize=3,\n",
    "            label = 'Dark')\n",
    "plt.ylabel('True')\n",
    "plt.xlabel('Halo mass')\n",
    "plt.legend()"
   ]
  },
  {
   "cell_type": "code",
   "execution_count": 29,
   "metadata": {},
   "outputs": [],
   "source": [
    "importances = rf.feature_importances_\n",
    "std = np.std([tree.feature_importances_ for tree in rf.estimators_],\n",
    "                     axis=0)\n",
    "indices = np.argsort(importances)[::-1]\n"
   ]
  },
  {
   "cell_type": "code",
   "execution_count": 30,
   "metadata": {},
   "outputs": [],
   "source": [
    "feature_names = np.array(feature_names)"
   ]
  },
  {
   "cell_type": "code",
   "execution_count": 31,
   "metadata": {},
   "outputs": [],
   "source": [
    "sns.set_context('paper')"
   ]
  },
  {
   "cell_type": "code",
   "execution_count": 32,
   "metadata": {},
   "outputs": [
    {
     "data": {
      "image/png": "[encoded data removed]",
      "text/plain": [
       "<Figure size 432x288 with 1 Axes>"
      ]
     },
     "metadata": {},
     "output_type": "display_data"
    }
   ],
   "source": [
    "plt.bar(range(train_features.shape[1]), importances[indices],\n",
    "               color=\"r\", yerr=std[indices], align=\"center\")\n",
    "plt.xticks(range(train_features.shape[1]), feature_names[indices])\n",
    "plt.xlim([-1, train_features.shape[1]])\n",
    "\n",
    "plt.grid(b=None)"
   ]
  },
  {
   "cell_type": "markdown",
   "metadata": {},
   "source": [
    "## Compare correlation functions"
   ]
  },
  {
   "cell_type": "code",
   "execution_count": 33,
   "metadata": {},
   "outputs": [],
   "source": [
    "pos_test = positions[test_idx, :]\n",
    "\n",
    "pos_test_galaxies = pos_test[test_labels]\n",
    "\n",
    "r = np.geomspace(0.3, 30., 50)\n",
    "r_c = 0.5 * (r[1:] + r[:-1])\n",
    "\n",
    "\n",
    "test_tpcf = tpcf(pos_test_galaxies, rbins = r,\n",
    "    period = boxsize, estimator =  'Landy-Szalay' )"
   ]
  },
  {
   "cell_type": "code",
   "execution_count": 34,
   "metadata": {},
   "outputs": [],
   "source": [
    "pos_test_pred = positions[test_idx][test_pred]\n",
    "\n",
    "\n",
    "predicted_tpcf = tpcf(pos_test_pred, rbins = r, \n",
    "    period = boxsize, estimator =  'Landy-Szalay' )"
   ]
  },
  {
   "cell_type": "code",
   "execution_count": 38,
   "metadata": {},
   "outputs": [],
   "source": [
    "with open('hod_tpcf.pkl', 'rb') as f:\n",
    "    hod_tpcf = pickle.load(f)"
   ]
  },
  {
   "cell_type": "code",
   "execution_count": 39,
   "metadata": {},
   "outputs": [
    {
     "data": {
      "text/plain": [
       "<matplotlib.legend.Legend at 0x2b2fa04baeb8>"
      ]
     },
     "execution_count": 39,
     "metadata": {},
     "output_type": "execute_result"
    },
    {
     "data": {
      "image/png": "[encoded data removed]",
      "text/plain": [
       "<Figure size 432x288 with 1 Axes>"
      ]
     },
     "metadata": {},
     "output_type": "display_data"
    }
   ],
   "source": [
    "plt.loglog(r_c, test_tpcf, label = 'Measured')\n",
    "plt.loglog(r_c, predicted_tpcf, label = 'Predicted')\n",
    "plt.loglog(hod_tpcf['r_c'],\n",
    "           hod_tpcf['tpcf'], label = 'HOD')\n",
    "\n",
    "plt.legend()"
   ]
  },
  {
   "cell_type": "code",
   "execution_count": 46,
   "metadata": {},
   "outputs": [
    {
     "data": {
      "text/plain": [
       "Text(0.5,0,'$r$ [Mpc/h]')"
      ]
     },
     "execution_count": 46,
     "metadata": {},
     "output_type": "execute_result"
    },
    {
     "data": {
      "image/png": "[encoded data removed]",
      "text/plain": [
       "<Figure size 432x288 with 1 Axes>"
      ]
     },
     "metadata": {},
     "output_type": "display_data"
    }
   ],
   "source": [
    "plt.plot(r_c[r_c > 1], (predicted_tpcf/test_tpcf)[r_c > 1], label = 'Random Forest')\n",
    "plt.plot(r_c[r_c > 1], (hod_tpcf['tpcf']/test_tpcf)[r_c > 1] , label = 'HOD', )\n",
    "\n",
    "plt.axhline(y = 1., color='gray', linestyle='dashed')\n",
    "plt.legend()\n",
    "plt.ylim(0.8,1.2)\n",
    "plt.ylabel(r'$\\hat{\\xi}/\\xi_{sim}$')\n",
    "plt.xlabel(r'$r$ [Mpc/h]')"
   ]
  },
  {
   "cell_type": "markdown",
   "metadata": {},
   "source": [
    "## Upsampled haloes"
   ]
  },
  {
   "cell_type": "code",
   "execution_count": 96,
   "metadata": {},
   "outputs": [],
   "source": [
    "scaler = StandardScaler()\n",
    "\n",
    "scaler.fit(df_train_up_features)\n",
    "\n",
    "std_train_features = scaler.transform(df_train_up_features)\n",
    "test_features = scaler.transform(test_features)\n"
   ]
  },
  {
   "cell_type": "code",
   "execution_count": 85,
   "metadata": {},
   "outputs": [
    {
     "data": {
      "text/plain": [
       "RandomForestClassifier(bootstrap=True, class_weight=None, criterion='gini',\n",
       "                       max_depth=None, max_features='auto', max_leaf_nodes=None,\n",
       "                       min_impurity_decrease=0.0, min_impurity_split=None,\n",
       "                       min_samples_leaf=1, min_samples_split=2,\n",
       "                       min_weight_fraction_leaf=0.0, n_estimators=500,\n",
       "                       n_jobs=None, oob_score=False, random_state=None,\n",
       "                       verbose=0, warm_start=False)"
      ]
     },
     "execution_count": 85,
     "metadata": {},
     "output_type": "execute_result"
    }
   ],
   "source": [
    "\n",
    "rf.fit(std_train_features, df_train_up_labels)"
   ]
  },
  {
   "cell_type": "code",
   "execution_count": 97,
   "metadata": {},
   "outputs": [],
   "source": [
    "test_pred = rf.predict(test_features)"
   ]
  },
  {
   "cell_type": "code",
   "execution_count": 98,
   "metadata": {},
   "outputs": [
    {
     "data": {
      "text/plain": [
       "145302"
      ]
     },
     "execution_count": 98,
     "metadata": {},
     "output_type": "execute_result"
    }
   ],
   "source": [
    "test_masses = scaler.inverse_transform(test_features)[:,0]\n",
    "\n",
    "len(test_masses)"
   ]
  },
  {
   "cell_type": "code",
   "execution_count": 99,
   "metadata": {},
   "outputs": [],
   "source": [
    "assert np.sum(test_pred[test_masses > end_transition]) == len(test_pred[test_masses > end_transition])"
   ]
  },
  {
   "cell_type": "code",
   "execution_count": 100,
   "metadata": {},
   "outputs": [
    {
     "name": "stdout",
     "output_type": "stream",
     "text": [
      "Normalized confusion matrix\n"
     ]
    },
    {
     "data": {
      "image/png": "[encoded data removed]",
      "text/plain": [
       "<Figure size 432x288 with 2 Axes>"
      ]
     },
     "metadata": {},
     "output_type": "display_data"
    }
   ],
   "source": [
    "plot_confusion_matrix(test_labels, test_pred, \n",
    "    classes = ['Dark', 'Luminous'], normalize = True)\n",
    "plt.grid(b=None)"
   ]
  },
  {
   "cell_type": "code",
   "execution_count": 101,
   "metadata": {},
   "outputs": [],
   "source": [
    "pos_test = positions[test_idx, :]\n",
    "\n",
    "pos_test_galaxies = pos_test[test_labels]\n",
    "\n",
    "r = np.geomspace(0.3, 10., 20)\n",
    "r_c = 0.5 * (r[1:] + r[:-1])\n",
    "\n",
    "\n",
    "test_tpcf = tpcf(pos_test_galaxies, rbins = r,\n",
    "    period = boxsize, estimator =  'Landy-Szalay' )"
   ]
  },
  {
   "cell_type": "code",
   "execution_count": 102,
   "metadata": {},
   "outputs": [],
   "source": [
    "pos_test_pred = positions[test_idx][test_pred]\n",
    "\n",
    "\n",
    "predicted_tpcf = tpcf(pos_test_pred, rbins = r, \n",
    "    period = boxsize, estimator =  'Landy-Szalay' )"
   ]
  },
  {
   "cell_type": "code",
   "execution_count": 103,
   "metadata": {},
   "outputs": [
    {
     "data": {
      "text/plain": [
       "(0.8, 1.2)"
      ]
     },
     "execution_count": 103,
     "metadata": {},
     "output_type": "execute_result"
    },
    {
     "data": {
      "image/png": "[encoded data removed]",
      "text/plain": [
       "<Figure size 432x288 with 1 Axes>"
      ]
     },
     "metadata": {},
     "output_type": "display_data"
    }
   ],
   "source": [
    "plt.plot(r_c, predicted_tpcf/test_tpcf, label = 'Random Forest')\n",
    "plt.plot(r_c, hod_tpcf['tpcf']/test_tpcf, label = 'HOD', )\n",
    "\n",
    "plt.axhline(y = 1., color='gray', linestyle='dashed')\n",
    "plt.legend()\n",
    "plt.ylim(0.8,1.2)"
   ]
  },
  {
   "cell_type": "code",
   "execution_count": 104,
   "metadata": {},
   "outputs": [],
   "source": [
    "nbins= 15\n",
    "bins = np.logspace(11,\n",
    "                   12, nbins+1)\n",
    "\n",
    "true_positives, edges, _ = binned_statistic(test_masses[test_labels > 0],\n",
    "                    test_labels[test_labels > 0 ] == test_pred[test_labels > 0 ],\n",
    "                    statistic = 'mean', bins = bins)\n",
    "\n",
    "\n",
    "true_negatives, edges, _ = binned_statistic(test_masses[test_labels == 0],\n",
    "                    test_labels[test_labels == 0 ] == test_pred[test_labels == 0 ],\n",
    "                    statistic = 'mean', bins = bins)"
   ]
  },
  {
   "cell_type": "code",
   "execution_count": 105,
   "metadata": {},
   "outputs": [
    {
     "data": {
      "text/plain": [
       "<matplotlib.legend.Legend at 0x2b4dd64bec18>"
      ]
     },
     "execution_count": 105,
     "metadata": {},
     "output_type": "execute_result"
    },
    {
     "data": {
      "image/png": "[encoded data removed]",
      "text/plain": [
       "<Figure size 432x288 with 1 Axes>"
      ]
     },
     "metadata": {},
     "output_type": "display_data"
    }
   ],
   "source": [
    "plt.semilogx((edges[1:]+edges[:-1])/2.,\n",
    "           true_positives,color='black', marker='o',markersize=3,\n",
    "            label = 'Luminous')\n",
    "plt.semilogx((edges[1:]+edges[:-1])/2.,\n",
    "           true_negatives,color='red', marker='o',markersize=3,\n",
    "            label = 'Dark')\n",
    "plt.ylabel('True')\n",
    "plt.xlabel('Halo mass')\n",
    "plt.legend()"
   ]
  },
  {
   "cell_type": "code",
   "execution_count": null,
   "metadata": {},
   "outputs": [],
   "source": []
  }
 ],
 "metadata": {
  "kernelspec": {
   "display_name": "Python 3",
   "language": "python",
   "name": "python3"
  },
  "language_info": {
   "codemirror_mode": {
    "name": "ipython",
    "version": 3
   },
   "file_extension": ".py",
   "mimetype": "text/x-python",
   "name": "python",
   "nbconvert_exporter": "python",
   "pygments_lexer": "ipython3",
   "version": "3.6.5"
  }
 },
 "nbformat": 4,
 "nbformat_minor": 2
}
