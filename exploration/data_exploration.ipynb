{
 "cells": [
  {
   "cell_type": "code",
   "execution_count": 1,
   "metadata": {},
   "outputs": [],
   "source": [
    "import pandas as pd\n",
    "import h5py\n",
    "import numpy as np\n",
    "import matplotlib.pyplot as plt"
   ]
  },
  {
   "cell_type": "code",
   "execution_count": 2,
   "metadata": {},
   "outputs": [],
   "source": [
    "data_path = '/cosma5/data/dp004/hvrn44/HOD/'"
   ]
  },
  {
   "cell_type": "code",
   "execution_count": 3,
   "metadata": {},
   "outputs": [],
   "source": [
    "halo_mass_cut = 1.e11 #solar masses"
   ]
  },
  {
   "cell_type": "code",
   "execution_count": 4,
   "metadata": {},
   "outputs": [],
   "source": [
    "def plot_halo_mass_function(mass):\n",
    "    nbins= 20\n",
    "    bins = np.logspace(11,\n",
    "                       np.log10(np.max(mass)), nbins+1)\n",
    "\n",
    "    bin_centers = (bins[1:]+bins[:-1])/2.\n",
    "\n",
    "    mass_func, edges = np.histogram(mass, bins=bins)\n",
    "    plt.loglog((edges[1:]+edges[:-1])/2.,\n",
    "               mass_func,color='black', marker='o',markersize=3)\n",
    "\n",
    "    plt.ylabel('Number of halos')\n",
    "    plt.xlabel(r'$M_{200c}$')\n"
   ]
  },
  {
   "cell_type": "markdown",
   "metadata": {},
   "source": [
    "## Halo matching"
   ]
  },
  {
   "cell_type": "code",
   "execution_count": 5,
   "metadata": {},
   "outputs": [],
   "source": [
    "matching_df = pd.read_csv(data_path + 'MatchedHaloes_L205n2500.dat',\n",
    "                         delimiter = ' ', skiprows = 1,\n",
    "        names = ['ID_DMO', 'ID_HYDRO', 'M200_DMO', 'M200_HYDRO'])"
   ]
  },
  {
   "cell_type": "code",
   "execution_count": 6,
   "metadata": {},
   "outputs": [
    {
     "data": {
      "text/html": [
       "<div>\n",
       "<style scoped>\n",
       "    .dataframe tbody tr th:only-of-type {\n",
       "        vertical-align: middle;\n",
       "    }\n",
       "\n",
       "    .dataframe tbody tr th {\n",
       "        vertical-align: top;\n",
       "    }\n",
       "\n",
       "    .dataframe thead th {\n",
       "        text-align: right;\n",
       "    }\n",
       "</style>\n",
       "<table border=\"1\" class=\"dataframe\">\n",
       "  <thead>\n",
       "    <tr style=\"text-align: right;\">\n",
       "      <th></th>\n",
       "      <th>ID_DMO</th>\n",
       "      <th>ID_HYDRO</th>\n",
       "      <th>M200_DMO</th>\n",
       "      <th>M200_HYDRO</th>\n",
       "    </tr>\n",
       "  </thead>\n",
       "  <tbody>\n",
       "    <tr>\n",
       "      <td>0</td>\n",
       "      <td>0</td>\n",
       "      <td>0</td>\n",
       "      <td>1.021000e+15</td>\n",
       "      <td>1.040000e+15</td>\n",
       "    </tr>\n",
       "    <tr>\n",
       "      <td>1</td>\n",
       "      <td>1</td>\n",
       "      <td>1</td>\n",
       "      <td>8.764000e+14</td>\n",
       "      <td>8.856000e+14</td>\n",
       "    </tr>\n",
       "    <tr>\n",
       "      <td>2</td>\n",
       "      <td>2</td>\n",
       "      <td>2</td>\n",
       "      <td>6.446000e+14</td>\n",
       "      <td>7.000000e+14</td>\n",
       "    </tr>\n",
       "    <tr>\n",
       "      <td>3</td>\n",
       "      <td>3</td>\n",
       "      <td>3</td>\n",
       "      <td>5.923000e+14</td>\n",
       "      <td>6.094000e+14</td>\n",
       "    </tr>\n",
       "    <tr>\n",
       "      <td>4</td>\n",
       "      <td>4</td>\n",
       "      <td>4</td>\n",
       "      <td>5.618000e+14</td>\n",
       "      <td>5.702000e+14</td>\n",
       "    </tr>\n",
       "    <tr>\n",
       "      <td>...</td>\n",
       "      <td>...</td>\n",
       "      <td>...</td>\n",
       "      <td>...</td>\n",
       "      <td>...</td>\n",
       "    </tr>\n",
       "    <tr>\n",
       "      <td>507535</td>\n",
       "      <td>233452</td>\n",
       "      <td>17621455</td>\n",
       "      <td>1.074000e+11</td>\n",
       "      <td>1.121000e+09</td>\n",
       "    </tr>\n",
       "    <tr>\n",
       "      <td>507536</td>\n",
       "      <td>64861</td>\n",
       "      <td>17622524</td>\n",
       "      <td>4.568000e+11</td>\n",
       "      <td>4.780000e+08</td>\n",
       "    </tr>\n",
       "    <tr>\n",
       "      <td>507537</td>\n",
       "      <td>106353</td>\n",
       "      <td>17622884</td>\n",
       "      <td>2.592000e+11</td>\n",
       "      <td>7.641000e+08</td>\n",
       "    </tr>\n",
       "    <tr>\n",
       "      <td>507538</td>\n",
       "      <td>39555</td>\n",
       "      <td>17623990</td>\n",
       "      <td>6.809000e+11</td>\n",
       "      <td>6.064000e+08</td>\n",
       "    </tr>\n",
       "    <tr>\n",
       "      <td>507539</td>\n",
       "      <td>35842</td>\n",
       "      <td>17625655</td>\n",
       "      <td>4.981000e+11</td>\n",
       "      <td>9.959000e+08</td>\n",
       "    </tr>\n",
       "  </tbody>\n",
       "</table>\n",
       "<p>507540 rows × 4 columns</p>\n",
       "</div>"
      ],
      "text/plain": [
       "        ID_DMO  ID_HYDRO      M200_DMO    M200_HYDRO\n",
       "0            0         0  1.021000e+15  1.040000e+15\n",
       "1            1         1  8.764000e+14  8.856000e+14\n",
       "2            2         2  6.446000e+14  7.000000e+14\n",
       "3            3         3  5.923000e+14  6.094000e+14\n",
       "4            4         4  5.618000e+14  5.702000e+14\n",
       "...        ...       ...           ...           ...\n",
       "507535  233452  17621455  1.074000e+11  1.121000e+09\n",
       "507536   64861  17622524  4.568000e+11  4.780000e+08\n",
       "507537  106353  17622884  2.592000e+11  7.641000e+08\n",
       "507538   39555  17623990  6.809000e+11  6.064000e+08\n",
       "507539   35842  17625655  4.981000e+11  9.959000e+08\n",
       "\n",
       "[507540 rows x 4 columns]"
      ]
     },
     "execution_count": 6,
     "metadata": {},
     "output_type": "execute_result"
    }
   ],
   "source": [
    "matching_df"
   ]
  },
  {
   "cell_type": "code",
   "execution_count": 9,
   "metadata": {
    "scrolled": true
   },
   "outputs": [
    {
     "data": {
      "image/png": "[encoded data removed]",
      "text/plain": [
       "<Figure size 432x288 with 1 Axes>"
      ]
     },
     "metadata": {},
     "output_type": "display_data"
    }
   ],
   "source": [
    "plot_halo_mass_function(matching_df['M200_DMO'])\n"
   ]
  },
  {
   "cell_type": "code",
   "execution_count": 10,
   "metadata": {},
   "outputs": [
    {
     "data": {
      "image/png": "[encoded data removed]",
      "text/plain": [
       "<Figure size 432x288 with 1 Axes>"
      ]
     },
     "metadata": {},
     "output_type": "display_data"
    }
   ],
   "source": [
    "plot_halo_mass_function(matching_df['M200_HYDRO'])"
   ]
  },
  {
   "cell_type": "code",
   "execution_count": 11,
   "metadata": {},
   "outputs": [
    {
     "name": "stdout",
     "output_type": "stream",
     "text": [
      "There are 228051 unique haloes in the Dark matter only simulation\n"
     ]
    }
   ],
   "source": [
    "print(f'There are {len(np.unique(matching_df.ID_DMO))} unique haloes in the Dark matter only simulation')"
   ]
  },
  {
   "cell_type": "code",
   "execution_count": 12,
   "metadata": {},
   "outputs": [
    {
     "name": "stdout",
     "output_type": "stream",
     "text": [
      "There are 507540 haloes in the hydro simulation\n"
     ]
    }
   ],
   "source": [
    "print(f'There are {len(np.unique(matching_df.ID_HYDRO))} haloes in the hydro simulation')"
   ]
  },
  {
   "cell_type": "markdown",
   "metadata": {},
   "source": [
    "## Halo mass cut on the hydro ones"
   ]
  },
  {
   "cell_type": "code",
   "execution_count": 13,
   "metadata": {},
   "outputs": [],
   "source": [
    "mass_matching_df = matching_df.loc[matching_df['M200_HYDRO'] > halo_mass_cut]"
   ]
  },
  {
   "cell_type": "code",
   "execution_count": 14,
   "metadata": {},
   "outputs": [
    {
     "name": "stdout",
     "output_type": "stream",
     "text": [
      "There are 207006 unique haloes above 1.0E+11 solar masses in the Dark matter only simulation\n"
     ]
    }
   ],
   "source": [
    "print(f'There are {len(np.unique(mass_matching_df.ID_DMO))} unique haloes above {halo_mass_cut:.1E}'\n",
    "      ' solar masses in the Dark matter only simulation')"
   ]
  },
  {
   "cell_type": "code",
   "execution_count": 15,
   "metadata": {},
   "outputs": [
    {
     "name": "stdout",
     "output_type": "stream",
     "text": [
      "There are 211124 unique haloes above 1.0E+11 solar masses in the Hydro simulation\n"
     ]
    }
   ],
   "source": [
    "print(f'There are {len(np.unique(mass_matching_df.ID_HYDRO))} unique haloes above {halo_mass_cut:.1E}'\n",
    "      ' solar masses in the Hydro simulation')"
   ]
  },
  {
   "cell_type": "code",
   "execution_count": 16,
   "metadata": {},
   "outputs": [],
   "source": [
    "idx, count = np.unique(mass_matching_df.ID_DMO, return_counts=True)"
   ]
  },
  {
   "cell_type": "code",
   "execution_count": 17,
   "metadata": {},
   "outputs": [
    {
     "data": {
      "text/html": [
       "<div>\n",
       "<style scoped>\n",
       "    .dataframe tbody tr th:only-of-type {\n",
       "        vertical-align: middle;\n",
       "    }\n",
       "\n",
       "    .dataframe tbody tr th {\n",
       "        vertical-align: top;\n",
       "    }\n",
       "\n",
       "    .dataframe thead th {\n",
       "        text-align: right;\n",
       "    }\n",
       "</style>\n",
       "<table border=\"1\" class=\"dataframe\">\n",
       "  <thead>\n",
       "    <tr style=\"text-align: right;\">\n",
       "      <th></th>\n",
       "      <th>ID_DMO</th>\n",
       "      <th>ID_HYDRO</th>\n",
       "      <th>M200_DMO</th>\n",
       "      <th>M200_HYDRO</th>\n",
       "    </tr>\n",
       "  </thead>\n",
       "  <tbody>\n",
       "    <tr>\n",
       "      <td>0</td>\n",
       "      <td>0</td>\n",
       "      <td>0</td>\n",
       "      <td>1.021000e+15</td>\n",
       "      <td>1.040000e+15</td>\n",
       "    </tr>\n",
       "    <tr>\n",
       "      <td>30</td>\n",
       "      <td>0</td>\n",
       "      <td>30</td>\n",
       "      <td>1.021000e+15</td>\n",
       "      <td>2.637000e+14</td>\n",
       "    </tr>\n",
       "    <tr>\n",
       "      <td>239</td>\n",
       "      <td>0</td>\n",
       "      <td>239</td>\n",
       "      <td>1.021000e+15</td>\n",
       "      <td>7.667000e+13</td>\n",
       "    </tr>\n",
       "    <tr>\n",
       "      <td>2607</td>\n",
       "      <td>0</td>\n",
       "      <td>2607</td>\n",
       "      <td>1.021000e+15</td>\n",
       "      <td>8.674000e+12</td>\n",
       "    </tr>\n",
       "    <tr>\n",
       "      <td>13023</td>\n",
       "      <td>0</td>\n",
       "      <td>13037</td>\n",
       "      <td>1.021000e+15</td>\n",
       "      <td>2.638000e+12</td>\n",
       "    </tr>\n",
       "    <tr>\n",
       "      <td>23841</td>\n",
       "      <td>0</td>\n",
       "      <td>23864</td>\n",
       "      <td>1.021000e+15</td>\n",
       "      <td>5.811000e+11</td>\n",
       "    </tr>\n",
       "    <tr>\n",
       "      <td>26114</td>\n",
       "      <td>0</td>\n",
       "      <td>26140</td>\n",
       "      <td>1.021000e+15</td>\n",
       "      <td>1.468000e+12</td>\n",
       "    </tr>\n",
       "    <tr>\n",
       "      <td>29699</td>\n",
       "      <td>0</td>\n",
       "      <td>29727</td>\n",
       "      <td>1.021000e+15</td>\n",
       "      <td>8.875000e+11</td>\n",
       "    </tr>\n",
       "    <tr>\n",
       "      <td>45926</td>\n",
       "      <td>0</td>\n",
       "      <td>45963</td>\n",
       "      <td>1.021000e+15</td>\n",
       "      <td>3.909000e+11</td>\n",
       "    </tr>\n",
       "    <tr>\n",
       "      <td>63827</td>\n",
       "      <td>0</td>\n",
       "      <td>63874</td>\n",
       "      <td>1.021000e+15</td>\n",
       "      <td>3.320000e+11</td>\n",
       "    </tr>\n",
       "    <tr>\n",
       "      <td>65278</td>\n",
       "      <td>0</td>\n",
       "      <td>65329</td>\n",
       "      <td>1.021000e+15</td>\n",
       "      <td>1.544000e+11</td>\n",
       "    </tr>\n",
       "    <tr>\n",
       "      <td>71070</td>\n",
       "      <td>0</td>\n",
       "      <td>71129</td>\n",
       "      <td>1.021000e+15</td>\n",
       "      <td>4.371000e+11</td>\n",
       "    </tr>\n",
       "    <tr>\n",
       "      <td>105767</td>\n",
       "      <td>0</td>\n",
       "      <td>105925</td>\n",
       "      <td>1.021000e+15</td>\n",
       "      <td>1.466000e+11</td>\n",
       "    </tr>\n",
       "    <tr>\n",
       "      <td>106306</td>\n",
       "      <td>0</td>\n",
       "      <td>106464</td>\n",
       "      <td>1.021000e+15</td>\n",
       "      <td>1.991000e+11</td>\n",
       "    </tr>\n",
       "    <tr>\n",
       "      <td>113184</td>\n",
       "      <td>0</td>\n",
       "      <td>113390</td>\n",
       "      <td>1.021000e+15</td>\n",
       "      <td>1.206000e+11</td>\n",
       "    </tr>\n",
       "    <tr>\n",
       "      <td>134683</td>\n",
       "      <td>0</td>\n",
       "      <td>135233</td>\n",
       "      <td>1.021000e+15</td>\n",
       "      <td>1.182000e+11</td>\n",
       "    </tr>\n",
       "    <tr>\n",
       "      <td>136821</td>\n",
       "      <td>0</td>\n",
       "      <td>137419</td>\n",
       "      <td>1.021000e+15</td>\n",
       "      <td>1.711000e+11</td>\n",
       "    </tr>\n",
       "    <tr>\n",
       "      <td>226940</td>\n",
       "      <td>0</td>\n",
       "      <td>250778</td>\n",
       "      <td>1.021000e+15</td>\n",
       "      <td>1.004000e+11</td>\n",
       "    </tr>\n",
       "  </tbody>\n",
       "</table>\n",
       "</div>"
      ],
      "text/plain": [
       "        ID_DMO  ID_HYDRO      M200_DMO    M200_HYDRO\n",
       "0            0         0  1.021000e+15  1.040000e+15\n",
       "30           0        30  1.021000e+15  2.637000e+14\n",
       "239          0       239  1.021000e+15  7.667000e+13\n",
       "2607         0      2607  1.021000e+15  8.674000e+12\n",
       "13023        0     13037  1.021000e+15  2.638000e+12\n",
       "23841        0     23864  1.021000e+15  5.811000e+11\n",
       "26114        0     26140  1.021000e+15  1.468000e+12\n",
       "29699        0     29727  1.021000e+15  8.875000e+11\n",
       "45926        0     45963  1.021000e+15  3.909000e+11\n",
       "63827        0     63874  1.021000e+15  3.320000e+11\n",
       "65278        0     65329  1.021000e+15  1.544000e+11\n",
       "71070        0     71129  1.021000e+15  4.371000e+11\n",
       "105767       0    105925  1.021000e+15  1.466000e+11\n",
       "106306       0    106464  1.021000e+15  1.991000e+11\n",
       "113184       0    113390  1.021000e+15  1.206000e+11\n",
       "134683       0    135233  1.021000e+15  1.182000e+11\n",
       "136821       0    137419  1.021000e+15  1.711000e+11\n",
       "226940       0    250778  1.021000e+15  1.004000e+11"
      ]
     },
     "execution_count": 17,
     "metadata": {},
     "output_type": "execute_result"
    }
   ],
   "source": [
    "mass_matching_df.loc[mass_matching_df.ID_DMO == 0]"
   ]
  },
  {
   "cell_type": "code",
   "execution_count": 20,
   "metadata": {},
   "outputs": [
    {
     "data": {
      "text/plain": [
       "Text(0.5,0,'Number of hydro haloes matched to the same DMO halo')"
      ]
     },
     "execution_count": 20,
     "metadata": {},
     "output_type": "execute_result"
    },
    {
     "data": {
      "image/png": "[encoded data removed]",
      "text/plain": [
       "<Figure size 432x288 with 1 Axes>"
      ]
     },
     "metadata": {},
     "output_type": "display_data"
    }
   ],
   "source": [
    "plt.hist(count, log = True)\n",
    "plt.xlabel('Number of hydro haloes matched to the same DMO halo')"
   ]
  },
  {
   "cell_type": "markdown",
   "metadata": {},
   "source": [
    "## Halo properties"
   ]
  },
  {
   "cell_type": "code",
   "execution_count": 21,
   "metadata": {},
   "outputs": [
    {
     "name": "stdout",
     "output_type": "stream",
     "text": [
      "['BetaDM', 'BetaTot', 'Cnfw', 'CoP', 'DMDenProfile', 'DMMassProfile', 'DMVelProfile', 'GammaDM', 'GammaTot', 'GasDenProfile', 'GasMassProfile', 'GasVelProfile', 'GroupNumber', 'HaloMassDM', 'HaloMassGas', 'HaloMassStar', 'HaloMassTot', 'LessRR200', 'LessRadius', 'LessTexp', 'M200', 'Nsubs', 'NumPartsBH', 'NumPartsDM', 'NumPartsGas', 'NumPartsStar', 'PLIndex', 'R200', 'RR200', 'R_Conv', 'Radius', 'Rhosnfw', 'Rmax', 'Spin', 'StarDenProfile', 'StarMassProfile', 'StarVelProfile', 'SubCumSFH', 'SubSFR', 'Texp', 'TotDenProfile', 'TotMassProfile', 'TotVelProfile', 'Vmax', 'doff', 'fsub']\n"
     ]
    }
   ],
   "source": [
    "with h5py.File(data_path + 'HaloProfiles_DMO_z0.00_ext.hdf5', 'r') as hf:\n",
    "        \n",
    "    print(list(hf['Haloes'].keys()))\n",
    "    \n",
    "    #for key in hf['Haloes'].keys():\n",
    "\n",
    "        #print('Shape : ', hf['Haloes'][key].shape)\n",
    "    \n",
    "    mass = hf['Haloes']['HaloMassDM'][:]\n",
    "    cnfw = hf['Haloes']['Cnfw'][:]\n",
    "    properties_ids = hf['Haloes']['GroupNumber'][:]"
   ]
  },
  {
   "cell_type": "code",
   "execution_count": 22,
   "metadata": {},
   "outputs": [
    {
     "data": {
      "text/plain": [
       "229265"
      ]
     },
     "execution_count": 22,
     "metadata": {},
     "output_type": "execute_result"
    }
   ],
   "source": [
    "len(mass)"
   ]
  },
  {
   "cell_type": "code",
   "execution_count": 23,
   "metadata": {},
   "outputs": [
    {
     "data": {
      "text/plain": [
       "229265"
      ]
     },
     "execution_count": 23,
     "metadata": {},
     "output_type": "execute_result"
    }
   ],
   "source": [
    "len(np.where(mass > 1.e11)[0])"
   ]
  },
  {
   "cell_type": "code",
   "execution_count": 24,
   "metadata": {},
   "outputs": [
    {
     "data": {
      "text/plain": [
       "Text(0.5,0,'$c_{NFW}$')"
      ]
     },
     "execution_count": 24,
     "metadata": {},
     "output_type": "execute_result"
    },
    {
     "data": {
      "image/png": "[encoded data removed]",
      "text/plain": [
       "<Figure size 432x288 with 1 Axes>"
      ]
     },
     "metadata": {},
     "output_type": "display_data"
    }
   ],
   "source": [
    "plt.hist(cnfw, log = True)\n",
    "plt.xlabel('$c_{NFW}$')"
   ]
  },
  {
   "cell_type": "code",
   "execution_count": 26,
   "metadata": {},
   "outputs": [
    {
     "data": {
      "image/png": "[encoded data removed]",
      "text/plain": [
       "<Figure size 432x288 with 1 Axes>"
      ]
     },
     "metadata": {},
     "output_type": "display_data"
    }
   ],
   "source": [
    "plot_halo_mass_function(matching_df['M200_HYDRO'])\n",
    "plot_halo_mass_function(mass)"
   ]
  },
  {
   "cell_type": "code",
   "execution_count": 27,
   "metadata": {},
   "outputs": [],
   "source": [
    "properties_df = pd.DataFrame(data = properties_ids, columns = ['ID_DMO'])"
   ]
  },
  {
   "cell_type": "code",
   "execution_count": 28,
   "metadata": {},
   "outputs": [
    {
     "data": {
      "text/html": [
       "<div>\n",
       "<style scoped>\n",
       "    .dataframe tbody tr th:only-of-type {\n",
       "        vertical-align: middle;\n",
       "    }\n",
       "\n",
       "    .dataframe tbody tr th {\n",
       "        vertical-align: top;\n",
       "    }\n",
       "\n",
       "    .dataframe thead th {\n",
       "        text-align: right;\n",
       "    }\n",
       "</style>\n",
       "<table border=\"1\" class=\"dataframe\">\n",
       "  <thead>\n",
       "    <tr style=\"text-align: right;\">\n",
       "      <th></th>\n",
       "      <th>ID_DMO</th>\n",
       "    </tr>\n",
       "  </thead>\n",
       "  <tbody>\n",
       "    <tr>\n",
       "      <td>0</td>\n",
       "      <td>0</td>\n",
       "    </tr>\n",
       "    <tr>\n",
       "      <td>1</td>\n",
       "      <td>1</td>\n",
       "    </tr>\n",
       "    <tr>\n",
       "      <td>2</td>\n",
       "      <td>2</td>\n",
       "    </tr>\n",
       "    <tr>\n",
       "      <td>3</td>\n",
       "      <td>3</td>\n",
       "    </tr>\n",
       "    <tr>\n",
       "      <td>4</td>\n",
       "      <td>4</td>\n",
       "    </tr>\n",
       "    <tr>\n",
       "      <td>...</td>\n",
       "      <td>...</td>\n",
       "    </tr>\n",
       "    <tr>\n",
       "      <td>229260</td>\n",
       "      <td>278079</td>\n",
       "    </tr>\n",
       "    <tr>\n",
       "      <td>229261</td>\n",
       "      <td>278541</td>\n",
       "    </tr>\n",
       "    <tr>\n",
       "      <td>229262</td>\n",
       "      <td>279423</td>\n",
       "    </tr>\n",
       "    <tr>\n",
       "      <td>229263</td>\n",
       "      <td>279745</td>\n",
       "    </tr>\n",
       "    <tr>\n",
       "      <td>229264</td>\n",
       "      <td>280987</td>\n",
       "    </tr>\n",
       "  </tbody>\n",
       "</table>\n",
       "<p>229265 rows × 1 columns</p>\n",
       "</div>"
      ],
      "text/plain": [
       "        ID_DMO\n",
       "0            0\n",
       "1            1\n",
       "2            2\n",
       "3            3\n",
       "4            4\n",
       "...        ...\n",
       "229260  278079\n",
       "229261  278541\n",
       "229262  279423\n",
       "229263  279745\n",
       "229264  280987\n",
       "\n",
       "[229265 rows x 1 columns]"
      ]
     },
     "execution_count": 28,
     "metadata": {},
     "output_type": "execute_result"
    }
   ],
   "source": [
    "properties_df"
   ]
  },
  {
   "cell_type": "markdown",
   "metadata": {},
   "source": [
    "## Merger Tree"
   ]
  },
  {
   "cell_type": "code",
   "execution_count": 30,
   "metadata": {},
   "outputs": [
    {
     "name": "stdout",
     "output_type": "stream",
     "text": [
      "['Haloes']\n",
      "['Index', 'MainProgMass', 'Mhist', 'Mpeak', 'NMerg', 'Redshifts', 'Vpeak', 'z0p25', 'z0p50', 'z0p75']\n"
     ]
    }
   ],
   "source": [
    " \n",
    "with h5py.File(data_path + 'MergerTree_L205n2500TNG_DM_ext_New.hdf5',\n",
    "               'r') as hf:\n",
    "    print(list(hf.keys()))\n",
    "    print(list(hf['Haloes'].keys()))\n",
    "    \n",
    "    formation_time = hf['Haloes']['z0p50'][:]\n",
    "    \n",
    "    mergertree_ids = hf['Haloes']['Index'][:]\n"
   ]
  },
  {
   "cell_type": "code",
   "execution_count": 31,
   "metadata": {},
   "outputs": [
    {
     "data": {
      "text/plain": [
       "(324884,)"
      ]
     },
     "execution_count": 31,
     "metadata": {},
     "output_type": "execute_result"
    }
   ],
   "source": [
    "formation_time.shape"
   ]
  },
  {
   "cell_type": "code",
   "execution_count": 32,
   "metadata": {},
   "outputs": [],
   "source": [
    "mergertree_df = pd.DataFrame(data = mergertree_ids, columns = ['ID_DMO'])"
   ]
  },
  {
   "cell_type": "code",
   "execution_count": 33,
   "metadata": {},
   "outputs": [],
   "source": [
    "common_ids = pd.merge(mass_matching_df, mergertree_df, on = ['ID_DMO'], how = 'inner')"
   ]
  },
  {
   "cell_type": "code",
   "execution_count": 34,
   "metadata": {},
   "outputs": [
    {
     "data": {
      "text/plain": [
       "207006"
      ]
     },
     "execution_count": 34,
     "metadata": {},
     "output_type": "execute_result"
    }
   ],
   "source": [
    "len(np.unique(common_ids['ID_DMO']))"
   ]
  },
  {
   "cell_type": "code",
   "execution_count": 35,
   "metadata": {},
   "outputs": [],
   "source": [
    "common_ids = pd.merge(mass_matching_df, properties_df, on = ['ID_DMO'], how = 'inner')"
   ]
  },
  {
   "cell_type": "code",
   "execution_count": 36,
   "metadata": {},
   "outputs": [
    {
     "data": {
      "text/plain": [
       "207006"
      ]
     },
     "execution_count": 36,
     "metadata": {},
     "output_type": "execute_result"
    }
   ],
   "source": [
    "len(np.unique(common_ids['ID_DMO']))"
   ]
  },
  {
   "cell_type": "code",
   "execution_count": 37,
   "metadata": {},
   "outputs": [
    {
     "data": {
      "text/plain": [
       "507540"
      ]
     },
     "execution_count": 37,
     "metadata": {},
     "output_type": "execute_result"
    }
   ],
   "source": [
    "len(matching_df)"
   ]
  },
  {
   "cell_type": "code",
   "execution_count": null,
   "metadata": {},
   "outputs": [],
   "source": []
  },
  {
   "cell_type": "code",
   "execution_count": null,
   "metadata": {},
   "outputs": [],
   "source": []
  }
 ],
 "metadata": {
  "kernelspec": {
   "display_name": "Python 3",
   "language": "python",
   "name": "python3"
  },
  "language_info": {
   "codemirror_mode": {
    "name": "ipython",
    "version": 3
   },
   "file_extension": ".py",
   "mimetype": "text/x-python",
   "name": "python",
   "nbconvert_exporter": "python",
   "pygments_lexer": "ipython3",
   "version": "3.6.2"
  }
 },
 "nbformat": 4,
 "nbformat_minor": 2
}
