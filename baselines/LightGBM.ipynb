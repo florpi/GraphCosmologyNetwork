{
 "cells": [
  {
   "cell_type": "code",
   "execution_count": 1,
   "metadata": {},
   "outputs": [
    {
     "name": "stderr",
     "output_type": "stream",
     "text": [
      "/cosma/local/Python/3.6.5/lib/python3.6/importlib/_bootstrap.py:219: RuntimeWarning: numpy.dtype size changed, may indicate binary incompatibility. Expected 96, got 88\n",
      "  return f(*args, **kwds)\n",
      "/cosma/local/Python/3.6.5/lib/python3.6/importlib/_bootstrap.py:219: RuntimeWarning: numpy.dtype size changed, may indicate binary incompatibility. Expected 96, got 88\n",
      "  return f(*args, **kwds)\n"
     ]
    }
   ],
   "source": [
    "import numpy as np\n",
    "import pandas as pd\n",
    "\n",
    "import lightgbm\n",
    "\n",
    "from sklearn.utils import resample\n",
    "from sklearn.decomposition import PCA\n",
    "from sklearn.metrics import confusion_matrix\n",
    "from sklearn.preprocessing import StandardScaler\n",
    "from sklearn.ensemble import RandomForestClassifier\n",
    "from sklearn.model_selection import train_test_split\n",
    "\n",
    "from GNN.utils.cm import plot_confusion_matrix\n",
    "from GNN.utils.datautils import (\n",
    "    get_data,\n",
    "    pca_transform,\n",
    "    balance_dataset,\n",
    "    find_transition_regions\n",
    ")"
   ]
  },
  {
   "cell_type": "code",
   "execution_count": 2,
   "metadata": {},
   "outputs": [],
   "source": [
    "label = \"dark_or_light\"\n",
    "sampling = \"downsample\""
   ]
  },
  {
   "cell_type": "markdown",
   "metadata": {},
   "source": [
    "# 1. Load combined features from SubFind & Sownak "
   ]
  },
  {
   "cell_type": "code",
   "execution_count": 3,
   "metadata": {},
   "outputs": [
    {
     "name": "stdout",
     "output_type": "stream",
     "text": [
      "20\n"
     ]
    },
    {
     "data": {
      "text/html": [
       "<div>\n",
       "<style scoped>\n",
       "    .dataframe tbody tr th:only-of-type {\n",
       "        vertical-align: middle;\n",
       "    }\n",
       "\n",
       "    .dataframe tbody tr th {\n",
       "        vertical-align: top;\n",
       "    }\n",
       "\n",
       "    .dataframe thead th {\n",
       "        text-align: right;\n",
       "    }\n",
       "</style>\n",
       "<table border=\"1\" class=\"dataframe\">\n",
       "  <thead>\n",
       "    <tr style=\"text-align: right;\">\n",
       "      <th></th>\n",
       "      <th>M200_DMO</th>\n",
       "      <th>M200c</th>\n",
       "      <th>Rmax</th>\n",
       "      <th>R200c</th>\n",
       "      <th>Cnfw</th>\n",
       "      <th>Rhosnfw</th>\n",
       "      <th>Formation Time</th>\n",
       "      <th>Nmergers</th>\n",
       "      <th>MassPeak</th>\n",
       "      <th>vpeak</th>\n",
       "      <th>N_subhalos</th>\n",
       "      <th>VelDisp</th>\n",
       "      <th>Vmax</th>\n",
       "      <th>Spin</th>\n",
       "      <th>fsub_unbound</th>\n",
       "      <th>x_offset</th>\n",
       "      <th>x_dmo</th>\n",
       "      <th>y_dmo</th>\n",
       "      <th>z_dmo</th>\n",
       "      <th>labels</th>\n",
       "    </tr>\n",
       "  </thead>\n",
       "  <tbody>\n",
       "    <tr>\n",
       "      <th>33967</th>\n",
       "      <td>3.222000e+11</td>\n",
       "      <td>3.222035e+11</td>\n",
       "      <td>0.025756</td>\n",
       "      <td>111.500549</td>\n",
       "      <td>9.541781</td>\n",
       "      <td>1.095388e+07</td>\n",
       "      <td>1.151545</td>\n",
       "      <td>1.0</td>\n",
       "      <td>5.354194e+11</td>\n",
       "      <td>158.870071</td>\n",
       "      <td>1.0</td>\n",
       "      <td>73.738907</td>\n",
       "      <td>132.469254</td>\n",
       "      <td>13.077200</td>\n",
       "      <td>0.007121</td>\n",
       "      <td>657.466485</td>\n",
       "      <td>265.680687</td>\n",
       "      <td>269.871812</td>\n",
       "      <td>199.033187</td>\n",
       "      <td>True</td>\n",
       "    </tr>\n",
       "    <tr>\n",
       "      <th>87515</th>\n",
       "      <td>1.594000e+11</td>\n",
       "      <td>1.594472e+11</td>\n",
       "      <td>0.015614</td>\n",
       "      <td>88.186943</td>\n",
       "      <td>16.635263</td>\n",
       "      <td>4.515792e+07</td>\n",
       "      <td>1.966384</td>\n",
       "      <td>1.0</td>\n",
       "      <td>2.638693e+11</td>\n",
       "      <td>116.536285</td>\n",
       "      <td>2.0</td>\n",
       "      <td>62.604664</td>\n",
       "      <td>114.830658</td>\n",
       "      <td>5.033566</td>\n",
       "      <td>0.008136</td>\n",
       "      <td>2196.179003</td>\n",
       "      <td>144.617547</td>\n",
       "      <td>260.009687</td>\n",
       "      <td>162.087938</td>\n",
       "      <td>True</td>\n",
       "    </tr>\n",
       "    <tr>\n",
       "      <th>14264</th>\n",
       "      <td>4.474000e+11</td>\n",
       "      <td>4.473788e+11</td>\n",
       "      <td>0.058838</td>\n",
       "      <td>124.389297</td>\n",
       "      <td>4.836464</td>\n",
       "      <td>2.172080e+06</td>\n",
       "      <td>1.044931</td>\n",
       "      <td>2.0</td>\n",
       "      <td>7.858822e+11</td>\n",
       "      <td>138.228745</td>\n",
       "      <td>9.0</td>\n",
       "      <td>74.484482</td>\n",
       "      <td>128.212570</td>\n",
       "      <td>10.046845</td>\n",
       "      <td>0.170153</td>\n",
       "      <td>1174.137065</td>\n",
       "      <td>42.755012</td>\n",
       "      <td>50.261793</td>\n",
       "      <td>204.619156</td>\n",
       "      <td>True</td>\n",
       "    </tr>\n",
       "  </tbody>\n",
       "</table>\n",
       "</div>"
      ],
      "text/plain": [
       "           M200_DMO         M200c      Rmax       R200c       Cnfw  \\\n",
       "33967  3.222000e+11  3.222035e+11  0.025756  111.500549   9.541781   \n",
       "87515  1.594000e+11  1.594472e+11  0.015614   88.186943  16.635263   \n",
       "14264  4.474000e+11  4.473788e+11  0.058838  124.389297   4.836464   \n",
       "\n",
       "            Rhosnfw  Formation Time  Nmergers      MassPeak       vpeak  \\\n",
       "33967  1.095388e+07        1.151545       1.0  5.354194e+11  158.870071   \n",
       "87515  4.515792e+07        1.966384       1.0  2.638693e+11  116.536285   \n",
       "14264  2.172080e+06        1.044931       2.0  7.858822e+11  138.228745   \n",
       "\n",
       "       N_subhalos    VelDisp        Vmax       Spin  fsub_unbound  \\\n",
       "33967         1.0  73.738907  132.469254  13.077200      0.007121   \n",
       "87515         2.0  62.604664  114.830658   5.033566      0.008136   \n",
       "14264         9.0  74.484482  128.212570  10.046845      0.170153   \n",
       "\n",
       "          x_offset       x_dmo       y_dmo       z_dmo  labels  \n",
       "33967   657.466485  265.680687  269.871812  199.033187    True  \n",
       "87515  2196.179003  144.617547  260.009687  162.087938    True  \n",
       "14264  1174.137065   42.755012   50.261793  204.619156    True  "
      ]
     },
     "execution_count": 3,
     "metadata": {},
     "output_type": "execute_result"
    }
   ],
   "source": [
    "output_file = 'merged_dataframe.h5'                                          \n",
    "data_path = '/cosma6/data/dp004/dc-cues1/tng_dataframes/'\n",
    "\n",
    "train, test = get_data(data_path + output_file, label)\n",
    "print(len(train.columns.values))\n",
    "train.sample(n=3, random_state=1)"
   ]
  },
  {
   "cell_type": "code",
   "execution_count": 4,
   "metadata": {},
   "outputs": [
    {
     "name": "stderr",
     "output_type": "stream",
     "text": [
      "/cosma/home/dp004/dc-beck3/.local/lib/python3.6/site-packages/scipy/stats/_binned_statistic.py:607: FutureWarning: Using a non-tuple sequence for multidimensional indexing is deprecated; use `arr[tuple(seq)]` instead of `arr[seq]`. In the future this will be interpreted as an array index, `arr[np.array(seq)]`, which will result either in an error or a different result.\n",
      "  result = result[core]\n"
     ]
    }
   ],
   "source": [
    "## Balance training set in the transition region                             \n",
    "center_transition, end_transition = find_transition_regions(train)\n",
    "\n",
    "train = balance_dataset(                                                     \n",
    "    train, center_transition, end_transition, sampling\n",
    ")"
   ]
  },
  {
   "cell_type": "code",
   "execution_count": 5,
   "metadata": {},
   "outputs": [],
   "source": [
    "train_features = train.drop(columns=\"labels\")                                \n",
    "train_labels = train[\"labels\"]\n",
    "\n",
    "test_features = test.drop(columns=\"labels\")                                \n",
    "test_labels = test[\"labels\"]\n",
    "\n",
    "feature_names = train_features.columns.values"
   ]
  },
  {
   "cell_type": "code",
   "execution_count": 6,
   "metadata": {},
   "outputs": [],
   "source": [
    "## Standarize features                                                       \n",
    "scaler = StandardScaler()\n",
    "scaler.fit(train_features.values)\n",
    "train_features_std = scaler.transform(train_features.values)\n",
    "test_features_std = scaler.transform(test_features.values)\n",
    "\n",
    "#train_labels = train_labels.values\n",
    "#test_labels = test_labels.values\n",
    "\n",
    "# !!!\n",
    "# notice that features and labels are np.ndarrays now\n",
    "# !!!"
   ]
  },
  {
   "cell_type": "code",
   "execution_count": 7,
   "metadata": {},
   "outputs": [],
   "source": [
    "# np.ndarray back to pd.datafram\n",
    "train_features = pd.DataFrame(\n",
    "    data=train_features_std,\n",
    "    index=np.arange(train_features_std.shape[0]),\n",
    "    columns=feature_names,\n",
    ")\n",
    "\n",
    "test_features = pd.DataFrame(\n",
    "    data=test_features_std,\n",
    "    index=np.arange(test_features_std.shape[0]),\n",
    "    columns=feature_names,\n",
    ")"
   ]
  },
  {
   "cell_type": "code",
   "execution_count": 8,
   "metadata": {},
   "outputs": [
    {
     "data": {
      "text/plain": [
       "['M200_DMO',\n",
       " 'M200c',\n",
       " 'Rmax',\n",
       " 'R200c',\n",
       " 'Cnfw',\n",
       " 'Rhosnfw',\n",
       " 'Formation Time',\n",
       " 'Nmergers',\n",
       " 'MassPeak',\n",
       " 'vpeak',\n",
       " 'N_subhalos',\n",
       " 'VelDisp',\n",
       " 'Vmax',\n",
       " 'Spin',\n",
       " 'fsub_unbound',\n",
       " 'x_offset',\n",
       " 'x_dmo',\n",
       " 'y_dmo',\n",
       " 'z_dmo']"
      ]
     },
     "execution_count": 8,
     "metadata": {},
     "output_type": "execute_result"
    }
   ],
   "source": [
    "list(feature_names)"
   ]
  },
  {
   "cell_type": "code",
   "execution_count": 9,
   "metadata": {},
   "outputs": [
    {
     "data": {
      "text/plain": [
       "\"\\ntrain_features_pca_cvs, test_features_pca_cvs, n_compontent_cvs = pca_transform(\\n    train_features_std, test_features_std, 'cross_val',\\n)\\n\""
      ]
     },
     "execution_count": 9,
     "metadata": {},
     "output_type": "execute_result"
    }
   ],
   "source": [
    "## PCA decomposition\n",
    "\"\"\"\n",
    "train_features_pca_cvs, test_features_pca_cvs, n_compontent_cvs = pca_transform(\n",
    "    train_features_std, test_features_std, 'cross_val',\n",
    ")\n",
    "\"\"\""
   ]
  },
  {
   "cell_type": "markdown",
   "metadata": {},
   "source": [
    "## 2. LightGBM"
   ]
  },
  {
   "cell_type": "code",
   "execution_count": 10,
   "metadata": {},
   "outputs": [],
   "source": [
    "# Create the LightGBM training data containers\n",
    "\n",
    "x, x_test, y, y_test = train_test_split(\n",
    "    train_features.values, train_labels.values,\n",
    "    test_size=0.2,\n",
    "    random_state=42,\n",
    "    stratify=train_labels.values\n",
    ")\n",
    "\n",
    "lgb_train = lightgbm.Dataset(\n",
    "    x,\n",
    "    label=y,\n",
    "    #categorical_feature=list(feature_names)\n",
    ")\n",
    "lgb_eval = lightgbm.Dataset(\n",
    "    x_test,\n",
    "    label=y_test\n",
    ")"
   ]
  },
  {
   "cell_type": "code",
   "execution_count": 11,
   "metadata": {},
   "outputs": [],
   "source": [
    "# set training parameters\n",
    "parameters = {\n",
    "    'application': 'binary',\n",
    "    'objective': 'binary',\n",
    "    'metric': 'auc',\n",
    "    'is_unbalance': 'false',\n",
    "    'boosting': 'gbdt',\n",
    "    'num_leaves': 10,\n",
    "    'feature_fraction': 1.0,\n",
    "    'bagging_fraction': 1.0,\n",
    "    'bagging_freq': 0,\n",
    "    'learning_rate': 0.05,\n",
    "    'verbose': 0\n",
    "}"
   ]
  },
  {
   "cell_type": "code",
   "execution_count": 12,
   "metadata": {
    "scrolled": false
   },
   "outputs": [
    {
     "name": "stdout",
     "output_type": "stream",
     "text": [
      "[1]\tvalid_0's auc: 0.858937\n",
      "Training until validation scores don't improve for 5 rounds.\n",
      "[2]\tvalid_0's auc: 0.861391\n",
      "[3]\tvalid_0's auc: 0.862365\n",
      "[4]\tvalid_0's auc: 0.864192\n",
      "[5]\tvalid_0's auc: 0.868937\n",
      "[6]\tvalid_0's auc: 0.868905\n",
      "[7]\tvalid_0's auc: 0.871961\n",
      "[8]\tvalid_0's auc: 0.873662\n",
      "[9]\tvalid_0's auc: 0.874702\n",
      "[10]\tvalid_0's auc: 0.875699\n",
      "[11]\tvalid_0's auc: 0.87508\n",
      "[12]\tvalid_0's auc: 0.87625\n",
      "[13]\tvalid_0's auc: 0.877686\n",
      "[14]\tvalid_0's auc: 0.878558\n",
      "[15]\tvalid_0's auc: 0.878864\n",
      "[16]\tvalid_0's auc: 0.879586\n",
      "[17]\tvalid_0's auc: 0.879874\n",
      "[18]\tvalid_0's auc: 0.880367\n",
      "[19]\tvalid_0's auc: 0.881315\n",
      "[20]\tvalid_0's auc: 0.881797\n",
      "[21]\tvalid_0's auc: 0.882949\n",
      "[22]\tvalid_0's auc: 0.883497\n",
      "[23]\tvalid_0's auc: 0.884017\n",
      "[24]\tvalid_0's auc: 0.884652\n",
      "[25]\tvalid_0's auc: 0.885243\n",
      "[26]\tvalid_0's auc: 0.885849\n",
      "[27]\tvalid_0's auc: 0.886225\n",
      "[28]\tvalid_0's auc: 0.886478\n",
      "[29]\tvalid_0's auc: 0.88661\n",
      "[30]\tvalid_0's auc: 0.887197\n",
      "[31]\tvalid_0's auc: 0.887755\n",
      "[32]\tvalid_0's auc: 0.887984\n",
      "[33]\tvalid_0's auc: 0.888194\n",
      "[34]\tvalid_0's auc: 0.888552\n",
      "[35]\tvalid_0's auc: 0.888862\n",
      "[36]\tvalid_0's auc: 0.889401\n",
      "[37]\tvalid_0's auc: 0.889594\n",
      "[38]\tvalid_0's auc: 0.889926\n",
      "[39]\tvalid_0's auc: 0.889958\n",
      "[40]\tvalid_0's auc: 0.890149\n",
      "[41]\tvalid_0's auc: 0.890454\n",
      "[42]\tvalid_0's auc: 0.890665\n",
      "[43]\tvalid_0's auc: 0.890743\n",
      "[44]\tvalid_0's auc: 0.891197\n",
      "[45]\tvalid_0's auc: 0.891662\n",
      "[46]\tvalid_0's auc: 0.891861\n",
      "[47]\tvalid_0's auc: 0.892011\n",
      "[48]\tvalid_0's auc: 0.892047\n",
      "[49]\tvalid_0's auc: 0.892199\n",
      "[50]\tvalid_0's auc: 0.89254\n",
      "Did not meet early stopping. Best iteration is:\n",
      "[50]\tvalid_0's auc: 0.89254\n"
     ]
    }
   ],
   "source": [
    "model = lightgbm.train(\n",
    "    parameters,\n",
    "    lgb_train,\n",
    "    valid_sets=lgb_eval,\n",
    "    num_boost_round=50,\n",
    "    early_stopping_rounds=5,\n",
    ")"
   ]
  },
  {
   "cell_type": "code",
   "execution_count": 41,
   "metadata": {},
   "outputs": [
    {
     "data": {
      "text/plain": [
       "array([False,  True])"
      ]
     },
     "execution_count": 41,
     "metadata": {},
     "output_type": "execute_result"
    }
   ],
   "source": [
    "test_pred = model.predict(test_features)\n",
    "test_pred = test_pred > 0.5\n",
    "np.unique(test_pred)"
   ]
  },
  {
   "cell_type": "code",
   "execution_count": 42,
   "metadata": {},
   "outputs": [
    {
     "name": "stdout",
     "output_type": "stream",
     "text": [
      "Normalized confusion matrix\n"
     ]
    },
    {
     "data": {
      "text/plain": [
       "(array([[0.79190628, 0.20809372],\n",
       "        [0.15746206, 0.84253794]]),\n",
       " <matplotlib.axes._subplots.AxesSubplot at 0x7ff7c83251d0>)"
      ]
     },
     "execution_count": 42,
     "metadata": {},
     "output_type": "execute_result"
    },
    {
     "data": {
      "image/png": "[encoded data removed]",
      "text/plain": [
       "<Figure size 432x288 with 2 Axes>"
      ]
     },
     "metadata": {},
     "output_type": "display_data"
    }
   ],
   "source": [
    "plot_confusion_matrix(test_labels, test_pred, \n",
    "    classes = ['Dark', 'Luminous'], normalize = True)"
   ]
  },
  {
   "cell_type": "code",
   "execution_count": null,
   "metadata": {},
   "outputs": [],
   "source": []
  }
 ],
 "metadata": {
  "kernelspec": {
   "display_name": "Python 3",
   "language": "python",
   "name": "python3"
  },
  "language_info": {
   "codemirror_mode": {
    "name": "ipython",
    "version": 3
   },
   "file_extension": ".py",
   "mimetype": "text/x-python",
   "name": "python",
   "nbconvert_exporter": "python",
   "pygments_lexer": "ipython3",
   "version": "3.6.5"
  }
 },
 "nbformat": 4,
 "nbformat_minor": 2
}
