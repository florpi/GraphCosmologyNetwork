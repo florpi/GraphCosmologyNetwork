{
 "cells": [
  {
   "cell_type": "code",
   "execution_count": 1,
   "metadata": {},
   "outputs": [
    {
     "name": "stderr",
     "output_type": "stream",
     "text": [
      "/cosma/local/Python/3.6.5/lib/python3.6/importlib/_bootstrap.py:219: RuntimeWarning: numpy.dtype size changed, may indicate binary incompatibility. Expected 96, got 88\n",
      "  return f(*args, **kwds)\n"
     ]
    }
   ],
   "source": [
    "import os, glob\n",
    "import numpy as np\n",
    "\n",
    "from yellowbrick.target import FeatureCorrelation\n",
    "from yellowbrick.features import Rank2D\n",
    "from yellowbrick.features.pca import PCADecomposition\n",
    "\n",
    "from sklearn.decomposition import PCA\n",
    "from sklearn.preprocessing import StandardScaler\n",
    "\n",
    "import h5py\n",
    "import pandas as pd\n",
    "\n",
    "import seaborn as sns\n",
    "import matplotlib.pyplot as plt\n",
    "\n",
    "from GNN.utils.datautils import (\n",
    "    get_data, balance_dataset, find_transition_regions\n",
    ")"
   ]
  },
  {
   "cell_type": "code",
   "execution_count": 2,
   "metadata": {},
   "outputs": [],
   "source": [
    "label = \"dark_or_light\"\n",
    "sampling = \"downsampling\""
   ]
  },
  {
   "cell_type": "markdown",
   "metadata": {},
   "source": [
    "# 1. Load combined features from SubFind & Sownak "
   ]
  },
  {
   "cell_type": "code",
   "execution_count": 3,
   "metadata": {},
   "outputs": [],
   "source": [
    "# arxiv:1905.08799 talks about this stellar mass cut on page 4 top right column\n",
    "output_file = 'merged_dataframe.h5'                                          \n",
    "data_path = '/cosma6/data/dp004/dc-cues1/tng_dataframes/'\n",
    "\n",
    "train, test = get_data(data_path + output_file, label)"
   ]
  },
  {
   "cell_type": "code",
   "execution_count": 4,
   "metadata": {},
   "outputs": [
    {
     "data": {
      "text/html": [
       "<div>\n",
       "<style scoped>\n",
       "    .dataframe tbody tr th:only-of-type {\n",
       "        vertical-align: middle;\n",
       "    }\n",
       "\n",
       "    .dataframe tbody tr th {\n",
       "        vertical-align: top;\n",
       "    }\n",
       "\n",
       "    .dataframe thead th {\n",
       "        text-align: right;\n",
       "    }\n",
       "</style>\n",
       "<table border=\"1\" class=\"dataframe\">\n",
       "  <thead>\n",
       "    <tr style=\"text-align: right;\">\n",
       "      <th></th>\n",
       "      <th>M200_DMO</th>\n",
       "      <th>M200c</th>\n",
       "      <th>Rmax</th>\n",
       "      <th>R200c</th>\n",
       "      <th>Cnfw</th>\n",
       "      <th>Rhosnfw</th>\n",
       "      <th>Formation Time</th>\n",
       "      <th>Nmergers</th>\n",
       "      <th>MassPeak</th>\n",
       "      <th>vpeak</th>\n",
       "      <th>N_subhalos</th>\n",
       "      <th>VelDisp</th>\n",
       "      <th>Vmax</th>\n",
       "      <th>Spin</th>\n",
       "      <th>fsub_unbound</th>\n",
       "      <th>x_offset</th>\n",
       "      <th>x_dmo</th>\n",
       "      <th>y_dmo</th>\n",
       "      <th>z_dmo</th>\n",
       "      <th>labels</th>\n",
       "    </tr>\n",
       "  </thead>\n",
       "  <tbody>\n",
       "    <tr>\n",
       "      <th>33967</th>\n",
       "      <td>3.222000e+11</td>\n",
       "      <td>3.222035e+11</td>\n",
       "      <td>0.025756</td>\n",
       "      <td>111.500549</td>\n",
       "      <td>9.541781</td>\n",
       "      <td>1.095388e+07</td>\n",
       "      <td>1.151545</td>\n",
       "      <td>1.0</td>\n",
       "      <td>5.354194e+11</td>\n",
       "      <td>158.870071</td>\n",
       "      <td>1.0</td>\n",
       "      <td>73.738907</td>\n",
       "      <td>132.469254</td>\n",
       "      <td>13.077200</td>\n",
       "      <td>0.007121</td>\n",
       "      <td>657.466485</td>\n",
       "      <td>265.680687</td>\n",
       "      <td>269.871812</td>\n",
       "      <td>199.033187</td>\n",
       "      <td>True</td>\n",
       "    </tr>\n",
       "    <tr>\n",
       "      <th>87515</th>\n",
       "      <td>1.594000e+11</td>\n",
       "      <td>1.594472e+11</td>\n",
       "      <td>0.015614</td>\n",
       "      <td>88.186943</td>\n",
       "      <td>16.635263</td>\n",
       "      <td>4.515792e+07</td>\n",
       "      <td>1.966384</td>\n",
       "      <td>1.0</td>\n",
       "      <td>2.638693e+11</td>\n",
       "      <td>116.536285</td>\n",
       "      <td>2.0</td>\n",
       "      <td>62.604664</td>\n",
       "      <td>114.830658</td>\n",
       "      <td>5.033566</td>\n",
       "      <td>0.008136</td>\n",
       "      <td>2196.179003</td>\n",
       "      <td>144.617547</td>\n",
       "      <td>260.009687</td>\n",
       "      <td>162.087938</td>\n",
       "      <td>True</td>\n",
       "    </tr>\n",
       "    <tr>\n",
       "      <th>14264</th>\n",
       "      <td>4.474000e+11</td>\n",
       "      <td>4.473788e+11</td>\n",
       "      <td>0.058838</td>\n",
       "      <td>124.389297</td>\n",
       "      <td>4.836464</td>\n",
       "      <td>2.172080e+06</td>\n",
       "      <td>1.044931</td>\n",
       "      <td>2.0</td>\n",
       "      <td>7.858822e+11</td>\n",
       "      <td>138.228745</td>\n",
       "      <td>9.0</td>\n",
       "      <td>74.484482</td>\n",
       "      <td>128.212570</td>\n",
       "      <td>10.046845</td>\n",
       "      <td>0.170153</td>\n",
       "      <td>1174.137065</td>\n",
       "      <td>42.755012</td>\n",
       "      <td>50.261793</td>\n",
       "      <td>204.619156</td>\n",
       "      <td>True</td>\n",
       "    </tr>\n",
       "  </tbody>\n",
       "</table>\n",
       "</div>"
      ],
      "text/plain": [
       "           M200_DMO         M200c      Rmax       R200c       Cnfw  \\\n",
       "33967  3.222000e+11  3.222035e+11  0.025756  111.500549   9.541781   \n",
       "87515  1.594000e+11  1.594472e+11  0.015614   88.186943  16.635263   \n",
       "14264  4.474000e+11  4.473788e+11  0.058838  124.389297   4.836464   \n",
       "\n",
       "            Rhosnfw  Formation Time  Nmergers      MassPeak       vpeak  \\\n",
       "33967  1.095388e+07        1.151545       1.0  5.354194e+11  158.870071   \n",
       "87515  4.515792e+07        1.966384       1.0  2.638693e+11  116.536285   \n",
       "14264  2.172080e+06        1.044931       2.0  7.858822e+11  138.228745   \n",
       "\n",
       "       N_subhalos    VelDisp        Vmax       Spin  fsub_unbound  \\\n",
       "33967         1.0  73.738907  132.469254  13.077200      0.007121   \n",
       "87515         2.0  62.604664  114.830658   5.033566      0.008136   \n",
       "14264         9.0  74.484482  128.212570  10.046845      0.170153   \n",
       "\n",
       "          x_offset       x_dmo       y_dmo       z_dmo  labels  \n",
       "33967   657.466485  265.680687  269.871812  199.033187    True  \n",
       "87515  2196.179003  144.617547  260.009687  162.087938    True  \n",
       "14264  1174.137065   42.755012   50.261793  204.619156    True  "
      ]
     },
     "execution_count": 4,
     "metadata": {},
     "output_type": "execute_result"
    }
   ],
   "source": [
    "train.sample(n=3, random_state=1)"
   ]
  },
  {
   "cell_type": "code",
   "execution_count": 5,
   "metadata": {},
   "outputs": [
    {
     "name": "stdout",
     "output_type": "stream",
     "text": [
      "['M200_DMO' 'M200c' 'Rmax' 'R200c' 'Cnfw' 'Rhosnfw' 'Formation Time'\n",
      " 'Nmergers' 'MassPeak' 'vpeak' 'N_subhalos' 'VelDisp' 'Vmax' 'Spin'\n",
      " 'fsub_unbound' 'x_offset' 'x_dmo' 'y_dmo' 'z_dmo' 'labels']\n"
     ]
    },
    {
     "name": "stderr",
     "output_type": "stream",
     "text": [
      "/cosma/home/dp004/dc-beck3/.local/lib/python3.6/site-packages/scipy/stats/_binned_statistic.py:607: FutureWarning: Using a non-tuple sequence for multidimensional indexing is deprecated; use `arr[tuple(seq)]` instead of `arr[seq]`. In the future this will be interpreted as an array index, `arr[np.array(seq)]`, which will result either in an error or a different result.\n",
      "  result = result[core]\n"
     ]
    }
   ],
   "source": [
    "## Balance training set in the transition region                             \n",
    "center_transition, end_transition = find_transition_regions(train)"
   ]
  },
  {
   "cell_type": "code",
   "execution_count": 6,
   "metadata": {},
   "outputs": [
    {
     "name": "stdout",
     "output_type": "stream",
     "text": [
      "['M200_DMO' 'M200c' 'Rmax' 'R200c' 'Cnfw' 'Rhosnfw' 'Formation Time'\n",
      " 'Nmergers' 'MassPeak' 'vpeak' 'N_subhalos' 'VelDisp' 'Vmax' 'Spin'\n",
      " 'fsub_unbound' 'x_offset' 'x_dmo' 'y_dmo' 'z_dmo' 'labels']\n"
     ]
    },
    {
     "ename": "AttributeError",
     "evalue": "'NoneType' object has no attribute 'columns'",
     "output_type": "error",
     "traceback": [
      "\u001b[0;31m---------------------------------------------------------------------------\u001b[0m",
      "\u001b[0;31mAttributeError\u001b[0m                            Traceback (most recent call last)",
      "\u001b[0;32m<ipython-input-6-30398f1838bf>\u001b[0m in \u001b[0;36m<module>\u001b[0;34m()\u001b[0m\n\u001b[1;32m      2\u001b[0m \u001b[0;31m#\"\"\"\u001b[0m\u001b[0;34m\u001b[0m\u001b[0;34m\u001b[0m\u001b[0m\n\u001b[1;32m      3\u001b[0m train = balance_dataset(                                                     \n\u001b[0;32m----> 4\u001b[0;31m     \u001b[0mtrain\u001b[0m\u001b[0;34m,\u001b[0m \u001b[0mcenter_transition\u001b[0m\u001b[0;34m,\u001b[0m \u001b[0mend_transition\u001b[0m\u001b[0;34m,\u001b[0m \u001b[0msampling\u001b[0m\u001b[0;34m\u001b[0m\u001b[0m\n\u001b[0m\u001b[1;32m      5\u001b[0m )\n\u001b[1;32m      6\u001b[0m \u001b[0;31m#\"\"\"\u001b[0m\u001b[0;34m\u001b[0m\u001b[0;34m\u001b[0m\u001b[0m\n",
      "\u001b[0;32m~/4_GaHaCo/GNN/utils/datautils.py\u001b[0m in \u001b[0;36mbalance_dataset\u001b[0;34m(df, center_transition, end_transition, arg_sampling)\u001b[0m\n\u001b[1;32m    119\u001b[0m         \u001b[0mdf\u001b[0m\u001b[0;34m,\u001b[0m \u001b[0;34m\"labels\"\u001b[0m\u001b[0;34m,\u001b[0m \u001b[0;36m0.0\u001b[0m\u001b[0;34m,\u001b[0m \u001b[0mcenter_transition\u001b[0m\u001b[0;34m,\u001b[0m \u001b[0;36m0\u001b[0m\u001b[0;34m,\u001b[0m \u001b[0;36m1\u001b[0m\u001b[0;34m,\u001b[0m \u001b[0mmode\u001b[0m\u001b[0;34m=\u001b[0m\u001b[0marg_sampling\u001b[0m\u001b[0;34m\u001b[0m\u001b[0m\n\u001b[1;32m    120\u001b[0m     )\n\u001b[0;32m--> 121\u001b[0;31m     \u001b[0mprint\u001b[0m\u001b[0;34m(\u001b[0m\u001b[0mdf_sample\u001b[0m\u001b[0;34m.\u001b[0m\u001b[0mcolumns\u001b[0m\u001b[0;34m.\u001b[0m\u001b[0mvalues\u001b[0m\u001b[0;34m)\u001b[0m\u001b[0;34m\u001b[0m\u001b[0m\n\u001b[0m\u001b[1;32m    122\u001b[0m     df_sample = _balance_df_given_mass(\n\u001b[1;32m    123\u001b[0m         \u001b[0mdf_sample\u001b[0m\u001b[0;34m,\u001b[0m \u001b[0;34m\"labels\"\u001b[0m\u001b[0;34m,\u001b[0m \u001b[0mcenter_transition\u001b[0m\u001b[0;34m,\u001b[0m \u001b[0mend_transition\u001b[0m\u001b[0;34m,\u001b[0m \u001b[0;36m1\u001b[0m\u001b[0;34m,\u001b[0m \u001b[0;36m0\u001b[0m\u001b[0;34m,\u001b[0m \u001b[0mmode\u001b[0m\u001b[0;34m=\u001b[0m\u001b[0marg_sampling\u001b[0m\u001b[0;34m\u001b[0m\u001b[0m\n",
      "\u001b[0;31mAttributeError\u001b[0m: 'NoneType' object has no attribute 'columns'"
     ]
    }
   ],
   "source": [
    "# TODO: doesn't work yet\n",
    "#\"\"\"\n",
    "train = balance_dataset(                                                     \n",
    "    train, center_transition, end_transition, sampling\n",
    ")\n",
    "#\"\"\""
   ]
  },
  {
   "cell_type": "code",
   "execution_count": null,
   "metadata": {},
   "outputs": [],
   "source": [
    "train_features = train.drop(columns=\"labels\")                                \n",
    "train_labels = train[\"labels\"]\n",
    "\n",
    "test_features = test.drop(columns=\"labels\")                                \n",
    "test_labels = test[\"labels\"]\n",
    "\n",
    "feature_names = train_features.columns.values"
   ]
  },
  {
   "cell_type": "code",
   "execution_count": null,
   "metadata": {},
   "outputs": [],
   "source": [
    "## Standarize features                                                       \n",
    "scaler = StandardScaler()\n",
    "scaler.fit(train_features.values)\n",
    "train_features_std = scaler.transform(train_features.values)\n",
    "test_features_std = scaler.transform(test_features.values)"
   ]
  },
  {
   "cell_type": "markdown",
   "metadata": {},
   "source": [
    "# 2 Feature Importance\n",
    "\n",
    "## 2.1 Pearson correlation score\n",
    "\n",
    "### Before PCA"
   ]
  },
  {
   "cell_type": "code",
   "execution_count": null,
   "metadata": {},
   "outputs": [],
   "source": [
    "visualizer = Rank2D(features=feature_names, algorithm='pearson')\n",
    "\n",
    "visualizer.fit(train_features_std, test_labels.values)\n",
    "visualizer.transform(train_features_std)  \n",
    "visualizer.poof()  "
   ]
  },
  {
   "cell_type": "markdown",
   "metadata": {},
   "source": [
    "### After PCA"
   ]
  },
  {
   "cell_type": "code",
   "execution_count": null,
   "metadata": {},
   "outputs": [],
   "source": [
    "pca = PCA(n_components=train_features_std.shape[1])\n",
    "train_feat_pca = pca.fit_transform(train_features_std)"
   ]
  },
  {
   "cell_type": "code",
   "execution_count": null,
   "metadata": {},
   "outputs": [],
   "source": [
    "visualizer = Rank2D(features=['PCA_%d' % dd for dd in range(train_feat_pca.shape[1])], algorithm='pearson')\n",
    "\n",
    "visualizer.fit(train_feat_pca, test_labels.values)\n",
    "visualizer.transform(train_feat_pca)  \n",
    "visualizer.poof()"
   ]
  },
  {
   "cell_type": "markdown",
   "metadata": {},
   "source": [
    "## 2.2 PCA - variance ratios in scaled dataset"
   ]
  },
  {
   "cell_type": "code",
   "execution_count": null,
   "metadata": {},
   "outputs": [],
   "source": [
    "scaler = StandardScaler()\n",
    "\n",
    "scaler_data = scaler.fit_transform(df_subf)\n",
    "pca = PCA().fit(scaler_data)\n",
    "\n",
    "# Plot\n",
    "fig, ax1 = plt.subplots()\n",
    "\n",
    "# Axis 1\n",
    "ax1.semilogy(\n",
    "    pca.explained_variance_ratio_,\n",
    "    '--bo',\n",
    "    label='explained variance ratio',\n",
    ")\n",
    "color =  ax1.lines[0].get_color()\n",
    "for tl in ax1.get_yticklabels():\n",
    "    tl.set_color('b')\n",
    "ax1.set_xlabel('principal component')\n",
    "plt.legend(loc=(0.01, 0.075))\n",
    "\n",
    "# Axis 2\n",
    "ax2 = ax1.twinx()\n",
    "ax2.semilogy(\n",
    "    pca.explained_variance_ratio_.cumsum(),\n",
    "    '--go',\n",
    "    label='cumulative explained variance ratio',\n",
    ")\n",
    "for tl in ax2.get_yticklabels():\n",
    "    tl.set_color('g')\n",
    "\n",
    "plt.legend(loc=(0.01, 0))"
   ]
  },
  {
   "cell_type": "markdown",
   "metadata": {},
   "source": [
    "## 2.3 PCA - inverse & biases"
   ]
  },
  {
   "cell_type": "code",
   "execution_count": null,
   "metadata": {},
   "outputs": [],
   "source": [
    "n_comp = 7\n",
    "pca = PCA(n_components=n_comp)\n",
    "\n",
    "data_scaled = StandardScaler().fit_transform(df_subf)\n",
    "\n",
    "\n",
    "pca_data = pca.fit_transform(data_scaled)\n",
    "pca_inv_data = pca.inverse_transform(np.eye(n_comp))"
   ]
  },
  {
   "cell_type": "code",
   "execution_count": null,
   "metadata": {},
   "outputs": [],
   "source": [
    "# Inverse\n",
    "\n",
    "sns.heatmap(\n",
    "    #np.log(pca_inv_data),\n",
    "    pca.inverse_transform(np.eye(n_comp)),\n",
    "    cmap=\"hot\",\n",
    "    cbar=False,\n",
    ")\n",
    "plt.xlabel('original feature index')\n",
    "plt.ylabel('principal component')"
   ]
  },
  {
   "cell_type": "code",
   "execution_count": null,
   "metadata": {},
   "outputs": [],
   "source": [
    "# Biases\n",
    "\n",
    "plt.plot(\n",
    "    pca_inv_data.mean(axis=0), \n",
    "    '--o',\n",
    "    label='mean',\n",
    ")\n",
    "plt.plot(\n",
    "    np.square(pca_inv_data.std(axis=0)),\n",
    "    '--o',\n",
    "    label='variance',\n",
    ")\n",
    "plt.legend(loc='best')\n",
    "plt.ylabel('feature contribution')\n",
    "plt.xlabel('feature index')"
   ]
  },
  {
   "cell_type": "code",
   "execution_count": null,
   "metadata": {},
   "outputs": [],
   "source": []
  }
 ],
 "metadata": {
  "kernelspec": {
   "display_name": "Python 3",
   "language": "python",
   "name": "python3"
  },
  "language_info": {
   "codemirror_mode": {
    "name": "ipython",
    "version": 3
   },
   "file_extension": ".py",
   "mimetype": "text/x-python",
   "name": "python",
   "nbconvert_exporter": "python",
   "pygments_lexer": "ipython3",
   "version": "3.6.5"
  }
 },
 "nbformat": 4,
 "nbformat_minor": 2
}
