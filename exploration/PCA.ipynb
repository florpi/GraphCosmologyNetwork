{
 "cells": [
  {
   "cell_type": "code",
   "execution_count": 32,
   "metadata": {},
   "outputs": [],
   "source": [
    "import os, glob\n",
    "import numpy as np\n",
    "\n",
    "from yellowbrick.target import FeatureCorrelation\n",
    "from yellowbrick.features import Rank2D\n",
    "from yellowbrick.features.pca import PCADecomposition\n",
    "\n",
    "from sklearn.decomposition import PCA\n",
    "from sklearn.preprocessing import StandardScaler\n",
    "\n",
    "import h5py\n",
    "import pandas as pd\n",
    "\n",
    "from GNN.inputs import split\n",
    "\n",
    "import seaborn as sns\n",
    "import matplotlib.pyplot as plt"
   ]
  },
  {
   "cell_type": "markdown",
   "metadata": {},
   "source": [
    "# 1. Load Features"
   ]
  },
  {
   "cell_type": "code",
   "execution_count": 22,
   "metadata": {},
   "outputs": [],
   "source": [
    "# arxiv:1905.08799 talks about this stellar mass cut on page 4 top right column\n",
    "\n",
    "halo_mass_cut = 1.0e11 #solar masses"
   ]
  },
  {
   "cell_type": "markdown",
   "metadata": {},
   "source": [
    "## 1.1 SubFind Properties"
   ]
  },
  {
   "cell_type": "code",
   "execution_count": 23,
   "metadata": {},
   "outputs": [],
   "source": [
    "data_path = '/cosma5/data/dp004/dc-cues1/features/'\n",
    "hf = h5py.File(data_path + 'halo_features_s99', 'r')\n",
    "\n",
    "dic_subf = {}\n",
    "dic_subf[\"M200c\"] = hf[\"M200c\"][:]\n",
    "dic_subf[\"R200c\"] = hf[\"R200c\"][:]\n",
    "dic_subf[\"N_subhalos\"] = hf[\"N_subhalos\"][:]\n",
    "dic_subf[\"VelDisp\"] = hf[\"VelDisp\"][:]\n",
    "dic_subf[\"Vmax\"] = hf[\"Vmax\"][:]\n",
    "dic_subf[\"Spin\"] = hf[\"Spin\"][:]\n",
    "dic_subf[\"Fsub\"] = hf[\"Fsub\"][:]\n",
    "dic_subf[\"x_offset\"] = hf[\"x_offset\"][:]\n",
    "\n",
    "df_subf = pd.DataFrame(dic_subf)\n",
    "df_subf = df_subf[df_subf['M200c'] > halo_mass_cut]"
   ]
  },
  {
   "cell_type": "code",
   "execution_count": 26,
   "metadata": {},
   "outputs": [
    {
     "data": {
      "text/html": [
       "<div>\n",
       "<style scoped>\n",
       "    .dataframe tbody tr th:only-of-type {\n",
       "        vertical-align: middle;\n",
       "    }\n",
       "\n",
       "    .dataframe tbody tr th {\n",
       "        vertical-align: top;\n",
       "    }\n",
       "\n",
       "    .dataframe thead th {\n",
       "        text-align: right;\n",
       "    }\n",
       "</style>\n",
       "<table border=\"1\" class=\"dataframe\">\n",
       "  <thead>\n",
       "    <tr style=\"text-align: right;\">\n",
       "      <th></th>\n",
       "      <th>M200c</th>\n",
       "      <th>R200c</th>\n",
       "      <th>N_subhalos</th>\n",
       "      <th>VelDisp</th>\n",
       "      <th>Vmax</th>\n",
       "      <th>Spin</th>\n",
       "      <th>Fsub</th>\n",
       "      <th>x_offset</th>\n",
       "    </tr>\n",
       "  </thead>\n",
       "  <tbody>\n",
       "    <tr>\n",
       "      <th>127887</th>\n",
       "      <td>2.833686e+11</td>\n",
       "      <td>138.499893</td>\n",
       "      <td>3</td>\n",
       "      <td>61.716557</td>\n",
       "      <td>118.648613</td>\n",
       "      <td>8.656518</td>\n",
       "      <td>0.014312</td>\n",
       "      <td>0.047662</td>\n",
       "    </tr>\n",
       "    <tr>\n",
       "      <th>245330</th>\n",
       "      <td>1.262186e+11</td>\n",
       "      <td>105.767456</td>\n",
       "      <td>2</td>\n",
       "      <td>48.632305</td>\n",
       "      <td>94.996582</td>\n",
       "      <td>7.670080</td>\n",
       "      <td>0.025524</td>\n",
       "      <td>0.042720</td>\n",
       "    </tr>\n",
       "    <tr>\n",
       "      <th>91628</th>\n",
       "      <td>2.076151e+11</td>\n",
       "      <td>124.853905</td>\n",
       "      <td>7</td>\n",
       "      <td>52.661438</td>\n",
       "      <td>98.449425</td>\n",
       "      <td>9.881412</td>\n",
       "      <td>0.471288</td>\n",
       "      <td>0.981303</td>\n",
       "    </tr>\n",
       "  </tbody>\n",
       "</table>\n",
       "</div>"
      ],
      "text/plain": [
       "               M200c       R200c  N_subhalos    VelDisp        Vmax      Spin  \\\n",
       "127887  2.833686e+11  138.499893           3  61.716557  118.648613  8.656518   \n",
       "245330  1.262186e+11  105.767456           2  48.632305   94.996582  7.670080   \n",
       "91628   2.076151e+11  124.853905           7  52.661438   98.449425  9.881412   \n",
       "\n",
       "            Fsub  x_offset  \n",
       "127887  0.014312  0.047662  \n",
       "245330  0.025524  0.042720  \n",
       "91628   0.471288  0.981303  "
      ]
     },
     "execution_count": 26,
     "metadata": {},
     "output_type": "execute_result"
    }
   ],
   "source": [
    "df_subf.sample(n=3, random_state=1)"
   ]
  },
  {
   "cell_type": "markdown",
   "metadata": {},
   "source": [
    "## 1.2 Sownak Bose's Properties\n",
    "\n",
    "[arxiv:1905.08799](https://arxiv.org/pdf/1905.08799.pdf)"
   ]
  },
  {
   "cell_type": "code",
   "execution_count": 24,
   "metadata": {},
   "outputs": [
    {
     "name": "stdout",
     "output_type": "stream",
     "text": [
      "Cnfw Shape :  (229265,)\n",
      "GroupNumber Shape :  (229265,)\n",
      "HaloMassDM Shape :  (229265,)\n",
      "HaloMassGas Shape :  (229265,)\n",
      "HaloMassStar Shape :  (229265,)\n",
      "HaloMassTot Shape :  (229265,)\n",
      "M200 Shape :  (229265,)\n",
      "Nsubs Shape :  (229265,)\n",
      "NumPartsBH Shape :  (229265,)\n",
      "NumPartsDM Shape :  (229265,)\n",
      "NumPartsGas Shape :  (229265,)\n",
      "NumPartsStar Shape :  (229265,)\n",
      "PLIndex Shape :  (229265,)\n",
      "R200 Shape :  (229265,)\n",
      "R_Conv Shape :  (229265,)\n",
      "Rhosnfw Shape :  (229265,)\n",
      "Rmax Shape :  (229265,)\n",
      "Spin Shape :  (229265,)\n",
      "Vmax Shape :  (229265,)\n",
      "doff Shape :  (229265,)\n",
      "fsub Shape :  (229265,)\n"
     ]
    }
   ],
   "source": [
    "data_path = '/cosma5/data/dp004/hvrn44/HOD/'\n",
    "hf = h5py.File(data_path + 'HaloProfiles_DMO_z0.00_ext.hdf5', 'r')\n",
    "\n",
    "# Create Dataframe of integer halos values\n",
    "dic_bose = {}\n",
    "for key in hf['Haloes'].keys():\n",
    "    if (len(hf['Haloes'][key].shape) == 1 and hf['Haloes'][key].shape[0] == 229265):\n",
    "        print('%s Shape : ' % key, hf['Haloes'][key].shape)\n",
    "        dic_bose[key] = hf['Haloes'][key][:]\n",
    "\n",
    "df_bose = pd.DataFrame(dic_bose)\n",
    "df_bose = df_bose[df_bose['M200'] > halo_mass_cut]"
   ]
  },
  {
   "cell_type": "code",
   "execution_count": 27,
   "metadata": {},
   "outputs": [
    {
     "data": {
      "text/html": [
       "<div>\n",
       "<style scoped>\n",
       "    .dataframe tbody tr th:only-of-type {\n",
       "        vertical-align: middle;\n",
       "    }\n",
       "\n",
       "    .dataframe tbody tr th {\n",
       "        vertical-align: top;\n",
       "    }\n",
       "\n",
       "    .dataframe thead th {\n",
       "        text-align: right;\n",
       "    }\n",
       "</style>\n",
       "<table border=\"1\" class=\"dataframe\">\n",
       "  <thead>\n",
       "    <tr style=\"text-align: right;\">\n",
       "      <th></th>\n",
       "      <th>Cnfw</th>\n",
       "      <th>GroupNumber</th>\n",
       "      <th>HaloMassDM</th>\n",
       "      <th>HaloMassGas</th>\n",
       "      <th>HaloMassStar</th>\n",
       "      <th>HaloMassTot</th>\n",
       "      <th>M200</th>\n",
       "      <th>Nsubs</th>\n",
       "      <th>NumPartsBH</th>\n",
       "      <th>NumPartsDM</th>\n",
       "      <th>...</th>\n",
       "      <th>NumPartsStar</th>\n",
       "      <th>PLIndex</th>\n",
       "      <th>R200</th>\n",
       "      <th>R_Conv</th>\n",
       "      <th>Rhosnfw</th>\n",
       "      <th>Rmax</th>\n",
       "      <th>Spin</th>\n",
       "      <th>Vmax</th>\n",
       "      <th>doff</th>\n",
       "      <th>fsub</th>\n",
       "    </tr>\n",
       "  </thead>\n",
       "  <tbody>\n",
       "    <tr>\n",
       "      <th>117204</th>\n",
       "      <td>17.206301</td>\n",
       "      <td>117452</td>\n",
       "      <td>2.679356e+11</td>\n",
       "      <td>-999.0</td>\n",
       "      <td>-999.0</td>\n",
       "      <td>26.793564</td>\n",
       "      <td>2.619321e+11</td>\n",
       "      <td>0</td>\n",
       "      <td>-999</td>\n",
       "      <td>5668</td>\n",
       "      <td>...</td>\n",
       "      <td>-999</td>\n",
       "      <td>-1.960787</td>\n",
       "      <td>104.059860</td>\n",
       "      <td>7.253173</td>\n",
       "      <td>5.047428e+07</td>\n",
       "      <td>0.020974</td>\n",
       "      <td>0.022141</td>\n",
       "      <td>136.689542</td>\n",
       "      <td>0.036462</td>\n",
       "      <td>0.000000</td>\n",
       "    </tr>\n",
       "    <tr>\n",
       "      <th>214827</th>\n",
       "      <td>8.614289</td>\n",
       "      <td>226462</td>\n",
       "      <td>1.277280e+11</td>\n",
       "      <td>-999.0</td>\n",
       "      <td>-999.0</td>\n",
       "      <td>12.772797</td>\n",
       "      <td>1.100011e+11</td>\n",
       "      <td>0</td>\n",
       "      <td>-999</td>\n",
       "      <td>2702</td>\n",
       "      <td>...</td>\n",
       "      <td>-999</td>\n",
       "      <td>-2.296759</td>\n",
       "      <td>77.922707</td>\n",
       "      <td>7.972175</td>\n",
       "      <td>8.384557e+06</td>\n",
       "      <td>0.015152</td>\n",
       "      <td>0.022071</td>\n",
       "      <td>91.369410</td>\n",
       "      <td>0.259511</td>\n",
       "      <td>0.000000</td>\n",
       "    </tr>\n",
       "    <tr>\n",
       "      <th>33938</th>\n",
       "      <td>5.618971</td>\n",
       "      <td>33938</td>\n",
       "      <td>1.075052e+12</td>\n",
       "      <td>-999.0</td>\n",
       "      <td>-999.0</td>\n",
       "      <td>107.505157</td>\n",
       "      <td>6.368908e+11</td>\n",
       "      <td>4</td>\n",
       "      <td>-999</td>\n",
       "      <td>22742</td>\n",
       "      <td>...</td>\n",
       "      <td>-999</td>\n",
       "      <td>-1.568762</td>\n",
       "      <td>139.930954</td>\n",
       "      <td>7.383672</td>\n",
       "      <td>3.131773e+06</td>\n",
       "      <td>0.058083</td>\n",
       "      <td>0.032558</td>\n",
       "      <td>156.036678</td>\n",
       "      <td>27.311872</td>\n",
       "      <td>0.022712</td>\n",
       "    </tr>\n",
       "  </tbody>\n",
       "</table>\n",
       "<p>3 rows × 21 columns</p>\n",
       "</div>"
      ],
      "text/plain": [
       "             Cnfw  GroupNumber    HaloMassDM  HaloMassGas  HaloMassStar  \\\n",
       "117204  17.206301       117452  2.679356e+11       -999.0        -999.0   \n",
       "214827   8.614289       226462  1.277280e+11       -999.0        -999.0   \n",
       "33938    5.618971        33938  1.075052e+12       -999.0        -999.0   \n",
       "\n",
       "        HaloMassTot          M200  Nsubs  NumPartsBH  NumPartsDM    ...     \\\n",
       "117204    26.793564  2.619321e+11      0        -999        5668    ...      \n",
       "214827    12.772797  1.100011e+11      0        -999        2702    ...      \n",
       "33938    107.505157  6.368908e+11      4        -999       22742    ...      \n",
       "\n",
       "        NumPartsStar   PLIndex        R200    R_Conv       Rhosnfw      Rmax  \\\n",
       "117204          -999 -1.960787  104.059860  7.253173  5.047428e+07  0.020974   \n",
       "214827          -999 -2.296759   77.922707  7.972175  8.384557e+06  0.015152   \n",
       "33938           -999 -1.568762  139.930954  7.383672  3.131773e+06  0.058083   \n",
       "\n",
       "            Spin        Vmax       doff      fsub  \n",
       "117204  0.022141  136.689542   0.036462  0.000000  \n",
       "214827  0.022071   91.369410   0.259511  0.000000  \n",
       "33938   0.032558  156.036678  27.311872  0.022712  \n",
       "\n",
       "[3 rows x 21 columns]"
      ]
     },
     "execution_count": 27,
     "metadata": {},
     "output_type": "execute_result"
    }
   ],
   "source": [
    "df_bose.sample(n=3, random_state=1)"
   ]
  },
  {
   "cell_type": "markdown",
   "metadata": {},
   "source": [
    "# 2 Feature Importance\n",
    "\n",
    "## 2.1 Pearson correlation score"
   ]
  },
  {
   "cell_type": "code",
   "execution_count": 5,
   "metadata": {},
   "outputs": [
    {
     "data": {
      "image/png": "[encoded data removed]",
      "text/plain": [
       "<Figure size 432x288 with 2 Axes>"
      ]
     },
     "metadata": {},
     "output_type": "display_data"
    },
    {
     "data": {
      "text/plain": [
       "<matplotlib.axes._subplots.AxesSubplot at 0x7efe53a301d0>"
      ]
     },
     "execution_count": 5,
     "metadata": {},
     "output_type": "execute_result"
    }
   ],
   "source": [
    "visualizer = Rank2D(features=feature_names, algorithm='pearson')\n",
    "\n",
    "visualizer.fit(features, labels)\n",
    "visualizer.transform(features)  \n",
    "visualizer.poof()  "
   ]
  },
  {
   "cell_type": "markdown",
   "metadata": {},
   "source": [
    "## 2.2 PCA - variance ratios in scaled dataset"
   ]
  },
  {
   "cell_type": "code",
   "execution_count": 45,
   "metadata": {},
   "outputs": [
    {
     "data": {
      "text/plain": [
       "<matplotlib.legend.Legend at 0x7efe389b2978>"
      ]
     },
     "execution_count": 45,
     "metadata": {},
     "output_type": "execute_result"
    },
    {
     "data": {
      "image/png": "[encoded data removed]",
      "text/plain": [
       "<Figure size 432x288 with 2 Axes>"
      ]
     },
     "metadata": {},
     "output_type": "display_data"
    }
   ],
   "source": [
    "scaler = StandardScaler()\n",
    "\n",
    "scaler_data = scaler.fit_transform(df_subf)\n",
    "pca = PCA().fit(scaler_data)\n",
    "\n",
    "# Plot\n",
    "fig, ax1 = plt.subplots()\n",
    "\n",
    "# Axis 1\n",
    "ax1.semilogy(\n",
    "    pca.explained_variance_ratio_,\n",
    "    '--bo',\n",
    "    label='explained variance ratio',\n",
    ")\n",
    "color =  ax1.lines[0].get_color()\n",
    "for tl in ax1.get_yticklabels():\n",
    "    tl.set_color('b')\n",
    "ax1.set_xlabel('principal component')\n",
    "plt.legend(loc=(0.01, 0.075))\n",
    "\n",
    "# Axis 2\n",
    "ax2 = ax1.twinx()\n",
    "ax2.semilogy(\n",
    "    pca.explained_variance_ratio_.cumsum(),\n",
    "    '--go',\n",
    "    label='cumulative explained variance ratio',\n",
    ")\n",
    "for tl in ax2.get_yticklabels():\n",
    "    tl.set_color('g')\n",
    "\n",
    "plt.legend(loc=(0.01, 0))"
   ]
  },
  {
   "cell_type": "markdown",
   "metadata": {},
   "source": [
    "## 2.3 PCA - inverse & biases"
   ]
  },
  {
   "cell_type": "code",
   "execution_count": 50,
   "metadata": {},
   "outputs": [],
   "source": [
    "n_comp = 7\n",
    "pca = PCA(n_components=n_comp)\n",
    "\n",
    "data_scaled = StandardScaler().fit_transform(df_subf)\n",
    "\n",
    "\n",
    "pca_data = pca.fit_transform(data_scaled)\n",
    "pca_inv_data = pca.inverse_transform(np.eye(n_comp))"
   ]
  },
  {
   "cell_type": "code",
   "execution_count": 53,
   "metadata": {},
   "outputs": [
    {
     "data": {
      "text/plain": [
       "Text(33,0.5,'principal component')"
      ]
     },
     "execution_count": 53,
     "metadata": {},
     "output_type": "execute_result"
    },
    {
     "data": {
      "image/png": "[encoded data removed]",
      "text/plain": [
       "<Figure size 432x288 with 1 Axes>"
      ]
     },
     "metadata": {},
     "output_type": "display_data"
    }
   ],
   "source": [
    "# Inverse\n",
    "\n",
    "sns.heatmap(\n",
    "    #np.log(pca_inv_data),\n",
    "    pca.inverse_transform(np.eye(n_comp)),\n",
    "    cmap=\"hot\",\n",
    "    cbar=False,\n",
    ")\n",
    "plt.xlabel('original feature index')\n",
    "plt.ylabel('principal component')"
   ]
  },
  {
   "cell_type": "code",
   "execution_count": 54,
   "metadata": {},
   "outputs": [
    {
     "data": {
      "text/plain": [
       "Text(0.5,0,'feature index')"
      ]
     },
     "execution_count": 54,
     "metadata": {},
     "output_type": "execute_result"
    },
    {
     "data": {
      "image/png": "[encoded data removed]",
      "text/plain": [
       "<Figure size 432x288 with 1 Axes>"
      ]
     },
     "metadata": {},
     "output_type": "display_data"
    }
   ],
   "source": [
    "# Biases\n",
    "\n",
    "plt.plot(\n",
    "    pca_inv_data.mean(axis=0), \n",
    "    '--o',\n",
    "    label='mean',\n",
    ")\n",
    "plt.plot(\n",
    "    np.square(pca_inv_data.std(axis=0)),\n",
    "    '--o',\n",
    "    label='variance',\n",
    ")\n",
    "plt.legend(loc='best')\n",
    "plt.ylabel('feature contribution')\n",
    "plt.xlabel('feature index')"
   ]
  },
  {
   "cell_type": "code",
   "execution_count": null,
   "metadata": {},
   "outputs": [],
   "source": []
  }
 ],
 "metadata": {
  "kernelspec": {
   "display_name": "Python 3",
   "language": "python",
   "name": "python3"
  },
  "language_info": {
   "codemirror_mode": {
    "name": "ipython",
    "version": 3
   },
   "file_extension": ".py",
   "mimetype": "text/x-python",
   "name": "python",
   "nbconvert_exporter": "python",
   "pygments_lexer": "ipython3",
   "version": "3.6.5"
  }
 },
 "nbformat": 4,
 "nbformat_minor": 2
}
